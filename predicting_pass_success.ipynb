{
 "cells": [
  {
   "cell_type": "markdown",
   "metadata": {},
   "source": [
    "# Predicting Pass Success\n",
    "\n",
    "This notebook creates an xPass model, where xPass is the probability of a pass being successful given certain features of the circumstances under which a pass is made.\n",
    "\n",
    "Initially, a simple model is created which simply uses the position on the pitch from which the pass was made, but this is then expanded on to include additional features.\n",
    "\n",
    "Finally the xPass model is used to produce a scouting report on two players from one league."
   ]
  },
  {
   "cell_type": "markdown",
   "metadata": {},
   "source": [
    "### Notes from David Sumpter on the problem\n",
    "\n",
    "Use p values for seeing whether there is a strong relationship\n",
    "x and y considered as separate parameters\n",
    "could do distance from the middle of the pitch, or distance from opponent's goal as an additional parameter\n",
    "\twould be interesting as a single variable model\n",
    "\n",
    "end-coordinates of a pass - what do you do for unsuccessful passes?\n",
    "\n",
    "what is a successful pass?\n",
    "\tnaively this could just be whether it's successful (ie ,ends up with own player) or unsuccessful (ie, ends up off pitch or with opposition)\n",
    "\tbut could be whether you're own player ends up with the ball\n",
    "\tcould improve the model by considering this in part ii\n",
    "\n",
    "What is a good passer?\n",
    "\tSomeone who overperforms your passing model - in the same way as xG\n",
    "\n",
    "Using the same data for test and train - it's not a machine learning course...\n",
    "\n",
    "When doing the comparison, just compare within the league we care about. Pick out one or two players that are deem to be good players based \n",
    "\ton the results of our model - a focussed analysis of one or two players you'd be interested in signing (may want to take in context of\n",
    "\tother data on the player, eg basic demographic things like age - eg, you wouldn't want to sign a 33 year old necessarily)\n",
    "\n",
    "Weakness:\n",
    "* Fitted over a certain number of leagues\n",
    "* It would be good to include pressure on player (from tutorial team)\n",
    "\t\n",
    "Can use ridge-regression in scikit-learn (punishes if too many parameters)"
   ]
  },
  {
   "cell_type": "code",
   "execution_count": 93,
   "metadata": {
    "collapsed": true
   },
   "outputs": [],
   "source": [
    "import json\n",
    "import os\n",
    "import numpy as np\n",
    "import pandas as pd\n",
    "\n",
    "#Plotting\n",
    "import matplotlib.pyplot as plt\n",
    "from matplotlib.patches import Arc\n",
    "\n",
    "#Statistical fitting of models\n",
    "import statsmodels.api as sm\n",
    "import statsmodels.formula.api as smf\n",
    "\n",
    "import FCPython"
   ]
  },
  {
   "cell_type": "markdown",
   "metadata": {},
   "source": [
    "# Loading the data\n",
    "\n",
    "This assumes that Wyscout data is held in a folder called 'data/' within the repository holding this notebook"
   ]
  },
  {
   "cell_type": "code",
   "execution_count": 239,
   "metadata": {
    "collapsed": true
   },
   "outputs": [],
   "source": [
    "def load_wyscout_event_data(data_folder='data/'):\n",
    "    \"\"\"\n",
    "    Given a folder location holding Wyscout data, load all json files for event data and\n",
    "    put all data in a single dataframe, which is returned.\n",
    "    \"\"\"\n",
    "    \n",
    "    data_folder = data_folder.strip('/')\n",
    "    \n",
    "    event_files = []\n",
    "    events = []\n",
    "    \n",
    "    for root, dirs, files in os.walk(f'{data_folder}/events'):\n",
    "        for file in files:\n",
    "            event_files.append(f'{root}/{file}')\n",
    "\n",
    "    for file_location in event_files:\n",
    "        with open(file_location, encoding=\"utf8\") as json_data:\n",
    "            event_df_for_file = pd.DataFrame(json.load(json_data))\n",
    "            events.append(event_df_for_file)\n",
    "    \n",
    "    events_df = pd.concat(events) \n",
    "    events_df = events_df.reset_index(drop=True)\n",
    "    \n",
    "    return events_df"
   ]
  },
  {
   "cell_type": "code",
   "execution_count": 240,
   "metadata": {
    "collapsed": true
   },
   "outputs": [],
   "source": [
    "event_data = load_wyscout_event_data()"
   ]
  },
  {
   "cell_type": "markdown",
   "metadata": {},
   "source": [
    "# Data exploration\n",
    "\n",
    "Before doing anything we need to understand what the data we have looks like, let's do a little exploring.\n",
    "\n",
    "### Questions to answer\n",
    "\n",
    "* What do passes look like in the data?\n",
    "* Are there different types of passes?\n",
    "* How do we know if a pass was successful? \n",
    "* Are there different possible definitions of 'success'?\n",
    "* What are the axes origins for x and y co-ordinates?\n",
    "* Would it make more sense to shift the origin?\n",
    "* Other than x and y co-ordinates, what other features could we possibly use in model extensions?\n",
    "* How can we know the end location of the pass if it is unsuccessful?"
   ]
  },
  {
   "cell_type": "code",
   "execution_count": 224,
   "metadata": {
    "collapsed": true
   },
   "outputs": [],
   "source": [
    "class PassDataPipeline:\n",
    "    def __init__(self):\n",
    "        self.filters = list()\n",
    "    \n",
    "    def add_filters(self, filters_to_add):\n",
    "        self.filters.extend(filters_to_add)\n",
    "    \n",
    "    def run_get_pass_data_pipeline(self, event_data):\n",
    "        pass_data = event_data[event_data['eventName'] == 'Pass'].copy()\n",
    "        for f in self.filters:\n",
    "            pass_data = f(pass_data)\n",
    "        \n",
    "        return pass_data"
   ]
  },
  {
   "cell_type": "code",
   "execution_count": 250,
   "metadata": {
    "collapsed": true
   },
   "outputs": [],
   "source": [
    "def remove_rows_with_no_pass_end_position(pass_data):\n",
    "    \"\"\"\n",
    "    All passes should have an end location. If any rows don't, remove them from the data\n",
    "    \"\"\"\n",
    "    pass_data = pass_data.copy()\n",
    "    number_of_coords = pass_data['positions'].apply(lambda x: len(x))\n",
    "    pass_data = pass_data[number_of_coords == 2]\n",
    "    pass_data = pass_data.reset_index(drop=True)\n",
    "    \n",
    "    return pass_data\n",
    "    \n",
    "\n",
    "def get_success_flag_from_tags(pass_data):\n",
    "    \"\"\"\n",
    "    Extract a success flag from tags field of pass data:\n",
    "        1801 means success\n",
    "        1802 mean not a success\n",
    "    \"\"\"\n",
    "    all_tags = pass_data['tags'].copy().apply(lambda x: [tag['id'] for tag in x])\n",
    "    pass_data['success'] = all_tags.apply(lambda x: True if 1801 in x and 1802 not in x else False)\n",
    "    \n",
    "    return pass_data\n",
    "\n",
    "\n",
    "def get_start_coordinates_of_pass_from_position(pass_data):\n",
    "    \"\"\"\n",
    "    Extract the start co-ordinates of a pass from the position field of the event data\n",
    "    \"\"\"\n",
    "    pass_data = pass_data.copy()\n",
    "    pass_data['pass_start_x'] = pass_data['positions'].apply(lambda coords: coords[0]['x'])\n",
    "    pass_data['pass_start_y'] = pass_data['positions'].apply(lambda coords: coords[0]['y'])\n",
    "\n",
    "    return pass_data\n",
    "\n",
    "\n",
    "def get_end_coordinates_of_pass_from_position(pass_data):\n",
    "    \"\"\"\n",
    "    Exctract the end co-ordinates of a pass from the position field of the event data\n",
    "    If there is no end co-ordinates, then assume pass end is same as pass start\n",
    "\n",
    "    Note, this doesn't make any attempt to work out the intended end \n",
    "    co-ordinates of a failed pass\n",
    "    \"\"\"\n",
    "    pass_data = pass_data.copy()\n",
    "\n",
    "    # For some reason there are two passes for which there are only one co-ordinate\n",
    "    number_of_coords = pass_data['positions'].apply(lambda x: len(x))\n",
    "    inferred_end_coordiates = pass_data[number_of_coords == 1]['positions'].apply(\n",
    "        lambda coords: [{'y': coords[0]['y'], 'x': coords[0]['x']},\n",
    "                        {'y': coords[0]['y'], 'x': coords[0]['x']}])\n",
    "    pass_data['positions'].update(inferred_end_coordiates)\n",
    "\n",
    "    pass_data['pass_end_x'] = pass_data['positions'].apply(\n",
    "            lambda coords: coords[1]['x'])\n",
    "    pass_data['pass_end_y'] = pass_data['positions'].apply(\n",
    "            lambda coords: coords[1]['y'])\n",
    "\n",
    "    return pass_data\n",
    "\n",
    "\n",
    "def get_start_coordinates_squared(pass_data):\n",
    "    \"\"\"\n",
    "    Derive new features of start coordinates squared from start coordinates.\n",
    "    Note that this filter must be applied after get_start_coordinates_of_pass_from_position()\n",
    "    \"\"\"\n",
    "    pass_data = pass_data.copy()\n",
    "    \n",
    "    pass_data['pass_start_x_squared'] = pass_data['pass_start_x'] ** 2\n",
    "    pass_data['pass_start_y_squared'] = pass_data['pass_start_y'] ** 2\n",
    "    \n",
    "    return pass_data\n",
    "\n",
    "\n",
    "def get_start_coordinates_in_metres(pass_data):\n",
    "    \"\"\"\n",
    "    Derive the start co-ordinates in metres from the start co-ordinates.\n",
    "    Note that this filter must be applied after get_start_coordinates_of_pass_from_position()\n",
    "    \"\"\"\n",
    "    pass_data = pass_data.copy()\n",
    "    pass_data['pass_start_x_metres'] = pass_data['pass_start_x'] * 105 / 100\n",
    "    pass_data['pass_start_y_metres'] = pass_data['pass_start_y'] * 65 / 100\n",
    "    \n",
    "    return pass_data"
   ]
  },
  {
   "cell_type": "code",
   "execution_count": 251,
   "metadata": {
    "collapsed": true
   },
   "outputs": [],
   "source": [
    "# This code would load the pass data in one go. As this has all been a bit exploratory, we've built this up bit by bit instead\n",
    "\n",
    "# pass_data_pipeline = PassDataPipeline()\n",
    "# pass_data_pipeline.add_filters([remove_rows_with_no_pass_end_position, get_success_flag_from_tags, \n",
    "#                                 get_start_coordinates_of_pass_from_position, get_end_coordinates_of_pass_from_position,\n",
    "#                                 get_start_coordinates_squared])\n",
    "# pass_data = pass_data_pipeline.run_get_pass_data_pipeline(event_data)"
   ]
  },
  {
   "cell_type": "code",
   "execution_count": 34,
   "metadata": {},
   "outputs": [
    {
     "data": {
      "text/html": [
       "<div>\n",
       "<style>\n",
       "    .dataframe thead tr:only-child th {\n",
       "        text-align: right;\n",
       "    }\n",
       "\n",
       "    .dataframe thead th {\n",
       "        text-align: left;\n",
       "    }\n",
       "\n",
       "    .dataframe tbody tr th {\n",
       "        vertical-align: top;\n",
       "    }\n",
       "</style>\n",
       "<table border=\"1\" class=\"dataframe\">\n",
       "  <thead>\n",
       "    <tr style=\"text-align: right;\">\n",
       "      <th></th>\n",
       "      <th>eventId</th>\n",
       "      <th>eventName</th>\n",
       "      <th>eventSec</th>\n",
       "      <th>id</th>\n",
       "      <th>matchId</th>\n",
       "      <th>matchPeriod</th>\n",
       "      <th>playerId</th>\n",
       "      <th>positions</th>\n",
       "      <th>subEventId</th>\n",
       "      <th>subEventName</th>\n",
       "      <th>tags</th>\n",
       "      <th>teamId</th>\n",
       "    </tr>\n",
       "  </thead>\n",
       "  <tbody>\n",
       "    <tr>\n",
       "      <th>0</th>\n",
       "      <td>8</td>\n",
       "      <td>Pass</td>\n",
       "      <td>2.758649</td>\n",
       "      <td>177959171</td>\n",
       "      <td>2499719</td>\n",
       "      <td>1H</td>\n",
       "      <td>25413</td>\n",
       "      <td>[{'y': 49, 'x': 49}, {'y': 78, 'x': 31}]</td>\n",
       "      <td>85</td>\n",
       "      <td>Simple pass</td>\n",
       "      <td>[{'id': 1801}]</td>\n",
       "      <td>1609</td>\n",
       "    </tr>\n",
       "    <tr>\n",
       "      <th>1</th>\n",
       "      <td>8</td>\n",
       "      <td>Pass</td>\n",
       "      <td>4.946850</td>\n",
       "      <td>177959172</td>\n",
       "      <td>2499719</td>\n",
       "      <td>1H</td>\n",
       "      <td>370224</td>\n",
       "      <td>[{'y': 78, 'x': 31}, {'y': 75, 'x': 51}]</td>\n",
       "      <td>83</td>\n",
       "      <td>High pass</td>\n",
       "      <td>[{'id': 1801}]</td>\n",
       "      <td>1609</td>\n",
       "    </tr>\n",
       "    <tr>\n",
       "      <th>2</th>\n",
       "      <td>8</td>\n",
       "      <td>Pass</td>\n",
       "      <td>6.542188</td>\n",
       "      <td>177959173</td>\n",
       "      <td>2499719</td>\n",
       "      <td>1H</td>\n",
       "      <td>3319</td>\n",
       "      <td>[{'y': 75, 'x': 51}, {'y': 71, 'x': 35}]</td>\n",
       "      <td>82</td>\n",
       "      <td>Head pass</td>\n",
       "      <td>[{'id': 1801}]</td>\n",
       "      <td>1609</td>\n",
       "    </tr>\n",
       "    <tr>\n",
       "      <th>3</th>\n",
       "      <td>8</td>\n",
       "      <td>Pass</td>\n",
       "      <td>8.143395</td>\n",
       "      <td>177959174</td>\n",
       "      <td>2499719</td>\n",
       "      <td>1H</td>\n",
       "      <td>120339</td>\n",
       "      <td>[{'y': 71, 'x': 35}, {'y': 95, 'x': 41}]</td>\n",
       "      <td>82</td>\n",
       "      <td>Head pass</td>\n",
       "      <td>[{'id': 1801}]</td>\n",
       "      <td>1609</td>\n",
       "    </tr>\n",
       "    <tr>\n",
       "      <th>4</th>\n",
       "      <td>8</td>\n",
       "      <td>Pass</td>\n",
       "      <td>10.302366</td>\n",
       "      <td>177959175</td>\n",
       "      <td>2499719</td>\n",
       "      <td>1H</td>\n",
       "      <td>167145</td>\n",
       "      <td>[{'y': 95, 'x': 41}, {'y': 88, 'x': 72}]</td>\n",
       "      <td>85</td>\n",
       "      <td>Simple pass</td>\n",
       "      <td>[{'id': 1801}]</td>\n",
       "      <td>1609</td>\n",
       "    </tr>\n",
       "  </tbody>\n",
       "</table>\n",
       "</div>"
      ],
      "text/plain": [
       "   eventId eventName   eventSec         id  matchId matchPeriod  playerId  \\\n",
       "0        8      Pass   2.758649  177959171  2499719          1H     25413   \n",
       "1        8      Pass   4.946850  177959172  2499719          1H    370224   \n",
       "2        8      Pass   6.542188  177959173  2499719          1H      3319   \n",
       "3        8      Pass   8.143395  177959174  2499719          1H    120339   \n",
       "4        8      Pass  10.302366  177959175  2499719          1H    167145   \n",
       "\n",
       "                                  positions subEventId subEventName  \\\n",
       "0  [{'y': 49, 'x': 49}, {'y': 78, 'x': 31}]         85  Simple pass   \n",
       "1  [{'y': 78, 'x': 31}, {'y': 75, 'x': 51}]         83    High pass   \n",
       "2  [{'y': 75, 'x': 51}, {'y': 71, 'x': 35}]         82    Head pass   \n",
       "3  [{'y': 71, 'x': 35}, {'y': 95, 'x': 41}]         82    Head pass   \n",
       "4  [{'y': 95, 'x': 41}, {'y': 88, 'x': 72}]         85  Simple pass   \n",
       "\n",
       "             tags  teamId  \n",
       "0  [{'id': 1801}]    1609  \n",
       "1  [{'id': 1801}]    1609  \n",
       "2  [{'id': 1801}]    1609  \n",
       "3  [{'id': 1801}]    1609  \n",
       "4  [{'id': 1801}]    1609  "
      ]
     },
     "execution_count": 34,
     "metadata": {},
     "output_type": "execute_result"
    }
   ],
   "source": [
    "event_data.head()"
   ]
  },
  {
   "cell_type": "code",
   "execution_count": 46,
   "metadata": {},
   "outputs": [
    {
     "data": {
      "text/plain": [
       "(3251294, 12)"
      ]
     },
     "execution_count": 46,
     "metadata": {},
     "output_type": "execute_result"
    }
   ],
   "source": [
    "event_data.shape"
   ]
  },
  {
   "cell_type": "code",
   "execution_count": 36,
   "metadata": {},
   "outputs": [
    {
     "data": {
      "text/plain": [
       "array(['Pass', 'Duel', 'Foul', 'Free Kick', 'Shot', 'Save attempt',\n",
       "       'Others on the ball', 'Interruption', 'Goalkeeper leaving line',\n",
       "       'Offside'], dtype=object)"
      ]
     },
     "execution_count": 36,
     "metadata": {},
     "output_type": "execute_result"
    }
   ],
   "source": [
    "event_data['eventName'].unique()"
   ]
  },
  {
   "cell_type": "code",
   "execution_count": 86,
   "metadata": {
    "collapsed": true
   },
   "outputs": [],
   "source": [
    "pass_data = event_data[event_data['eventName'] == 'Pass'].copy()"
   ]
  },
  {
   "cell_type": "code",
   "execution_count": 40,
   "metadata": {},
   "outputs": [
    {
     "data": {
      "text/plain": [
       "array(['Simple pass', 'High pass', 'Head pass', 'Smart pass', 'Launch',\n",
       "       'Cross', 'Hand pass'], dtype=object)"
      ]
     },
     "execution_count": 40,
     "metadata": {},
     "output_type": "execute_result"
    }
   ],
   "source": [
    "pass_data['subEventName'].unique()"
   ]
  },
  {
   "cell_type": "code",
   "execution_count": 69,
   "metadata": {
    "collapsed": true
   },
   "outputs": [],
   "source": [
    "# What tags to we have, and what do those tags mean?\n",
    "all_tags = pass_data['tags'].apply(lambda x: [tag['id'] for tag in x])\n",
    "unique_tags = list(set([item for sublist in all_tags.values for item in sublist]))"
   ]
  },
  {
   "cell_type": "code",
   "execution_count": 73,
   "metadata": {},
   "outputs": [
    {
     "data": {
      "text/plain": [
       "[102,\n",
       " 201,\n",
       " 301,\n",
       " 302,\n",
       " 401,\n",
       " 402,\n",
       " 403,\n",
       " 502,\n",
       " 504,\n",
       " 801,\n",
       " 901,\n",
       " 1001,\n",
       " 1401,\n",
       " 1801,\n",
       " 1802,\n",
       " 1901,\n",
       " 2001,\n",
       " 2101]"
      ]
     },
     "execution_count": 73,
     "metadata": {},
     "output_type": "execute_result"
    }
   ],
   "source": [
    "unique_tags.sort()\n",
    "unique_tags"
   ]
  },
  {
   "cell_type": "markdown",
   "metadata": {},
   "source": [
    "#### What types of pass do we have in the data\n",
    "\n",
    "Passes are flagged in the `eventName` field with value `Pass`.\n",
    "There are seven types of pass: `'Simple pass', 'High pass', 'Head pass', 'Smart pass', 'Launch', 'Cross', 'Hand pass'`\n",
    "Definitions for these types of passes can be found here https://footballdata.wyscout.com/events-manual/\n",
    "\n",
    "Do we want to include all of these in our model? Is it fair for example to include `Hand pass` which is presumably made exclusively by goalkeepers?\n",
    "\n",
    "Alternatively, could we include these as features in our model? This could allow us to identify players who have certain passing skills.\n",
    "\n",
    "#### What do the tags we get for passing mean?\n",
    "\n",
    "* 102: Own goal\n",
    "* 201: Opportunity\n",
    "* 301: Assist\n",
    "* 302: Key pass\n",
    "* 401: Left foot\n",
    "* 402: Right foot\n",
    "* 403: Head\n",
    "* 502: Free space left\n",
    "* 504: Take on right\n",
    "* 801: High\n",
    "* 901: Through\n",
    "* 1001: Fairplay - this is when a player kicks the ball out so some other player needs medical treatment. Should remove these.\n",
    "* 1401: Interception\n",
    "* 1801: Accurate\n",
    "* 1802: Not accurate\n",
    "* 1901: Counter attack\n",
    "* 2001: Dangerous ball lost\n",
    "* 2101: Blocked"
   ]
  },
  {
   "cell_type": "code",
   "execution_count": 87,
   "metadata": {
    "collapsed": true
   },
   "outputs": [],
   "source": [
    "pass_data['all_tags'] = pass_data['tags'].apply(lambda x: [tag['id'] for tag in x])\n",
    "pass_data['success'] = pass_data['all_tags'].apply(lambda x: True if 1801 in x and 1802 not in x else False)"
   ]
  },
  {
   "cell_type": "code",
   "execution_count": 92,
   "metadata": {},
   "outputs": [
    {
     "data": {
      "text/plain": [
       "0.8294688467422552"
      ]
     },
     "execution_count": 92,
     "metadata": {},
     "output_type": "execute_result"
    }
   ],
   "source": [
    "len(pass_data[pass_data['success']]) / len(pass_data)"
   ]
  },
  {
   "cell_type": "markdown",
   "metadata": {},
   "source": [
    "#### How can we identify a successful pass?\n",
    "\n",
    "We can see that a pass is successful in the most basic way by looking at the tags: `1801` means successful and `1802` means not successful.\n",
    "\n",
    "This identifies 83% of passes as being successful across all competitions, which seems about right but maybe a little high.\n",
    "\n",
    "An alterntive definition of 'successful' could include passes where after any interceptions or duels the passing team retain the ball. This is something to consider in future iterations of the model."
   ]
  },
  {
   "cell_type": "code",
   "execution_count": 103,
   "metadata": {},
   "outputs": [
    {
     "data": {
      "text/html": [
       "<div>\n",
       "<style>\n",
       "    .dataframe thead tr:only-child th {\n",
       "        text-align: right;\n",
       "    }\n",
       "\n",
       "    .dataframe thead th {\n",
       "        text-align: left;\n",
       "    }\n",
       "\n",
       "    .dataframe tbody tr th {\n",
       "        vertical-align: top;\n",
       "    }\n",
       "</style>\n",
       "<table border=\"1\" class=\"dataframe\">\n",
       "  <thead>\n",
       "    <tr style=\"text-align: right;\">\n",
       "      <th></th>\n",
       "      <th>eventId</th>\n",
       "      <th>eventName</th>\n",
       "      <th>eventSec</th>\n",
       "      <th>id</th>\n",
       "      <th>matchId</th>\n",
       "      <th>matchPeriod</th>\n",
       "      <th>playerId</th>\n",
       "      <th>positions</th>\n",
       "      <th>subEventId</th>\n",
       "      <th>subEventName</th>\n",
       "      <th>tags</th>\n",
       "      <th>teamId</th>\n",
       "      <th>all_tags</th>\n",
       "      <th>success</th>\n",
       "      <th>pass_start_x</th>\n",
       "      <th>pass_start_y</th>\n",
       "    </tr>\n",
       "  </thead>\n",
       "  <tbody>\n",
       "    <tr>\n",
       "      <th>98656</th>\n",
       "      <td>8</td>\n",
       "      <td>Pass</td>\n",
       "      <td>1.857048</td>\n",
       "      <td>263647730</td>\n",
       "      <td>2058016</td>\n",
       "      <td>1H</td>\n",
       "      <td>7905</td>\n",
       "      <td>[{'y': 50, 'x': 50}]</td>\n",
       "      <td>85</td>\n",
       "      <td>Simple pass</td>\n",
       "      <td>[]</td>\n",
       "      <td>5629</td>\n",
       "      <td>[]</td>\n",
       "      <td>False</td>\n",
       "      <td>[50]</td>\n",
       "      <td>[50]</td>\n",
       "    </tr>\n",
       "    <tr>\n",
       "      <th>100297</th>\n",
       "      <td>8</td>\n",
       "      <td>Pass</td>\n",
       "      <td>1.892339</td>\n",
       "      <td>263883958</td>\n",
       "      <td>2058017</td>\n",
       "      <td>1H</td>\n",
       "      <td>14943</td>\n",
       "      <td>[{'y': 51, 'x': 50}]</td>\n",
       "      <td>85</td>\n",
       "      <td>Simple pass</td>\n",
       "      <td>[]</td>\n",
       "      <td>9598</td>\n",
       "      <td>[]</td>\n",
       "      <td>False</td>\n",
       "      <td>[50]</td>\n",
       "      <td>[51]</td>\n",
       "    </tr>\n",
       "  </tbody>\n",
       "</table>\n",
       "</div>"
      ],
      "text/plain": [
       "        eventId eventName  eventSec         id  matchId matchPeriod  playerId  \\\n",
       "98656         8      Pass  1.857048  263647730  2058016          1H      7905   \n",
       "100297        8      Pass  1.892339  263883958  2058017          1H     14943   \n",
       "\n",
       "                   positions subEventId subEventName tags  teamId all_tags  \\\n",
       "98656   [{'y': 50, 'x': 50}]         85  Simple pass   []    5629       []   \n",
       "100297  [{'y': 51, 'x': 50}]         85  Simple pass   []    9598       []   \n",
       "\n",
       "        success pass_start_x pass_start_y  \n",
       "98656     False         [50]         [50]  \n",
       "100297    False         [50]         [51]  "
      ]
     },
     "execution_count": 103,
     "metadata": {},
     "output_type": "execute_result"
    }
   ],
   "source": [
    "# For some reason there are two passes for which there are only one co-ordinate\n",
    "number_of_coords = pass_data['positions'].apply(lambda x: len(x))\n",
    "pass_data[number_of_coords == 1]"
   ]
  },
  {
   "cell_type": "code",
   "execution_count": 104,
   "metadata": {
    "collapsed": true
   },
   "outputs": [],
   "source": [
    "# Lets remove these two data points from the passing data\n",
    "pass_data = pass_data[number_of_coords == 2]"
   ]
  },
  {
   "cell_type": "code",
   "execution_count": 111,
   "metadata": {
    "collapsed": true
   },
   "outputs": [],
   "source": [
    "pass_data['pass_start_x'] = pass_data['positions'].apply(lambda coords: coords[0]['x'])\n",
    "pass_data['pass_start_y'] = pass_data['positions'].apply(lambda coords: coords[0]['y'])\n",
    "pass_data['pass_end_x'] = pass_data['positions'].apply(lambda coords: coords[1]['x'])\n",
    "pass_data['pass_end_y'] = pass_data['positions'].apply(lambda coords: coords[1]['y'])"
   ]
  },
  {
   "cell_type": "code",
   "execution_count": 112,
   "metadata": {},
   "outputs": [
    {
     "name": "stdout",
     "output_type": "stream",
     "text": [
      "0 100\n",
      "0 101\n",
      "0 100\n",
      "0 101\n"
     ]
    }
   ],
   "source": [
    "print(pass_data['pass_start_x'].min(), pass_data['pass_start_x'].max())\n",
    "print(pass_data['pass_start_y'].min(), pass_data['pass_start_y'].max())\n",
    "\n",
    "print(pass_data['pass_end_x'].min(), pass_data['pass_end_x'].max())\n",
    "print(pass_data['pass_end_y'].min(), pass_data['pass_end_y'].max())"
   ]
  },
  {
   "cell_type": "markdown",
   "metadata": {},
   "source": [
    "#### What does the co-ordinate system mean?\n",
    "\n",
    "In the Wyscout documentation (https://apidocs.wyscout.com/matches-wyid-events#6a-available-schemes-and-relative-positions) the postions are described as being the *position in percentage from the left corner of the attacking team*\n",
    "\n",
    "This means that we should be able to just use the positions without manipulation or caring about which half we're in. To create other features (eg, anlges/ distances) we will need to convert the co-ordinate system to metres\n",
    "\n",
    "Looking at the data for a switch in posession confirms the definition from the documentation"
   ]
  },
  {
   "cell_type": "code",
   "execution_count": 121,
   "metadata": {},
   "outputs": [
    {
     "data": {
      "text/html": [
       "<div>\n",
       "<style>\n",
       "    .dataframe thead tr:only-child th {\n",
       "        text-align: right;\n",
       "    }\n",
       "\n",
       "    .dataframe thead th {\n",
       "        text-align: left;\n",
       "    }\n",
       "\n",
       "    .dataframe tbody tr th {\n",
       "        vertical-align: top;\n",
       "    }\n",
       "</style>\n",
       "<table border=\"1\" class=\"dataframe\">\n",
       "  <thead>\n",
       "    <tr style=\"text-align: right;\">\n",
       "      <th></th>\n",
       "      <th>eventId</th>\n",
       "      <th>eventName</th>\n",
       "      <th>eventSec</th>\n",
       "      <th>id</th>\n",
       "      <th>matchId</th>\n",
       "      <th>matchPeriod</th>\n",
       "      <th>playerId</th>\n",
       "      <th>positions</th>\n",
       "      <th>subEventId</th>\n",
       "      <th>subEventName</th>\n",
       "      <th>tags</th>\n",
       "      <th>teamId</th>\n",
       "      <th>all_tags</th>\n",
       "      <th>success</th>\n",
       "      <th>pass_start_x</th>\n",
       "      <th>pass_start_y</th>\n",
       "      <th>pass_end_x</th>\n",
       "      <th>pass_end_y</th>\n",
       "    </tr>\n",
       "  </thead>\n",
       "  <tbody>\n",
       "    <tr>\n",
       "      <th>19</th>\n",
       "      <td>8</td>\n",
       "      <td>Pass</td>\n",
       "      <td>32.805618</td>\n",
       "      <td>177959202</td>\n",
       "      <td>2499719</td>\n",
       "      <td>1H</td>\n",
       "      <td>14853</td>\n",
       "      <td>[{'y': 5, 'x': 23}, {'y': 19, 'x': 63}]</td>\n",
       "      <td>83</td>\n",
       "      <td>High pass</td>\n",
       "      <td>[{'id': 1802}]</td>\n",
       "      <td>1631</td>\n",
       "      <td>[1802]</td>\n",
       "      <td>False</td>\n",
       "      <td>23</td>\n",
       "      <td>5</td>\n",
       "      <td>63</td>\n",
       "      <td>19</td>\n",
       "    </tr>\n",
       "    <tr>\n",
       "      <th>20</th>\n",
       "      <td>8</td>\n",
       "      <td>Pass</td>\n",
       "      <td>35.685082</td>\n",
       "      <td>177959184</td>\n",
       "      <td>2499719</td>\n",
       "      <td>1H</td>\n",
       "      <td>370224</td>\n",
       "      <td>[{'y': 81, 'x': 37}, {'y': 95, 'x': 45}]</td>\n",
       "      <td>82</td>\n",
       "      <td>Head pass</td>\n",
       "      <td>[{'id': 1802}]</td>\n",
       "      <td>1609</td>\n",
       "      <td>[1802]</td>\n",
       "      <td>False</td>\n",
       "      <td>37</td>\n",
       "      <td>81</td>\n",
       "      <td>45</td>\n",
       "      <td>95</td>\n",
       "    </tr>\n",
       "    <tr>\n",
       "      <th>21</th>\n",
       "      <td>8</td>\n",
       "      <td>Pass</td>\n",
       "      <td>36.661264</td>\n",
       "      <td>177959204</td>\n",
       "      <td>2499719</td>\n",
       "      <td>1H</td>\n",
       "      <td>14763</td>\n",
       "      <td>[{'y': 5, 'x': 55}, {'y': 22, 'x': 67}]</td>\n",
       "      <td>82</td>\n",
       "      <td>Head pass</td>\n",
       "      <td>[{'id': 1801}]</td>\n",
       "      <td>1631</td>\n",
       "      <td>[1801]</td>\n",
       "      <td>True</td>\n",
       "      <td>55</td>\n",
       "      <td>5</td>\n",
       "      <td>67</td>\n",
       "      <td>22</td>\n",
       "    </tr>\n",
       "  </tbody>\n",
       "</table>\n",
       "</div>"
      ],
      "text/plain": [
       "    eventId eventName   eventSec         id  matchId matchPeriod  playerId  \\\n",
       "19        8      Pass  32.805618  177959202  2499719          1H     14853   \n",
       "20        8      Pass  35.685082  177959184  2499719          1H    370224   \n",
       "21        8      Pass  36.661264  177959204  2499719          1H     14763   \n",
       "\n",
       "                                   positions subEventId subEventName  \\\n",
       "19   [{'y': 5, 'x': 23}, {'y': 19, 'x': 63}]         83    High pass   \n",
       "20  [{'y': 81, 'x': 37}, {'y': 95, 'x': 45}]         82    Head pass   \n",
       "21   [{'y': 5, 'x': 55}, {'y': 22, 'x': 67}]         82    Head pass   \n",
       "\n",
       "              tags  teamId all_tags  success  pass_start_x  pass_start_y  \\\n",
       "19  [{'id': 1802}]    1631   [1802]    False            23             5   \n",
       "20  [{'id': 1802}]    1609   [1802]    False            37            81   \n",
       "21  [{'id': 1801}]    1631   [1801]     True            55             5   \n",
       "\n",
       "    pass_end_x  pass_end_y  \n",
       "19          63          19  \n",
       "20          45          95  \n",
       "21          67          22  "
      ]
     },
     "execution_count": 121,
     "metadata": {},
     "output_type": "execute_result"
    }
   ],
   "source": [
    "pass_data.iloc[15:18]"
   ]
  },
  {
   "cell_type": "code",
   "execution_count": 122,
   "metadata": {
    "collapsed": true
   },
   "outputs": [],
   "source": [
    "x_start_metres = pass_data['pass_start_x'] * 105 / 100\n",
    "y_start_metres = pass_data['pass_start_y'] * 65 / 100"
   ]
  },
  {
   "cell_type": "markdown",
   "metadata": {},
   "source": [
    "# How does position on the pitch contribute?\n",
    "\n",
    "Let's start by simply plotting a heatmap of pass start co-ordinates for all passes, completed passes and uncompleted passes to see how these differ. We expect to see more passes fail higher up the pitch and from positions where balls are typically played into the box (ie, crosses, through balls, etc)."
   ]
  },
  {
   "cell_type": "code",
   "execution_count": 252,
   "metadata": {
    "collapsed": true
   },
   "outputs": [],
   "source": [
    "def plot_event_heatmap(y_events, x_events, title, no_of_bins=10):\n",
    "    \"\"\"\n",
    "    Given series of event positions (one series for y and one for x coordinates) plot a heatmap \n",
    "    for those events, with the pitch split into no_of_bins by no_of_bins areas\n",
    "    \"\"\"\n",
    "    histogram_values = np.histogram2d(y_events, x_events, bins=no_of_bins)\n",
    "    fig, ax = FCPython.createPitch(105, 65, 'meters', 'black')\n",
    "    pos=ax.imshow(histogram_values[0], extent=(0, 105, 0, 65), aspect='auto', cmap=plt.cm.Reds)\n",
    "    fig.colorbar(pos, ax=ax)\n",
    "    ax.set_title(title)\n",
    "    plt.tight_layout()\n",
    "    plt.gca().set_aspect('equal', adjustable='box')\n",
    "    plt.show()"
   ]
  },
  {
   "cell_type": "code",
   "execution_count": 254,
   "metadata": {},
   "outputs": [
    {
     "data": {
      "image/png": "[encoded data removed]",
      "text/plain": [
       "<matplotlib.figure.Figure at 0x2dfa217be80>"
      ]
     },
     "metadata": {},
     "output_type": "display_data"
    }
   ],
   "source": [
    "plot_event_heatmap(y_start_metres, x_start_metres, 'Number of passes')"
   ]
  },
  {
   "cell_type": "code",
   "execution_count": 255,
   "metadata": {},
   "outputs": [
    {
     "data": {
      "image/png": "[encoded data removed]",
      "text/plain": [
       "<matplotlib.figure.Figure at 0x2dfa1ababa8>"
      ]
     },
     "metadata": {},
     "output_type": "display_data"
    }
   ],
   "source": [
    "plot_event_heatmap(y_start_metres[pass_data['success']], \n",
    "                   x_start_metres[pass_data['success']], \n",
    "                   'Number of passes successful')"
   ]
  },
  {
   "cell_type": "code",
   "execution_count": 256,
   "metadata": {},
   "outputs": [
    {
     "data": {
      "image/png": "[encoded data removed]",
      "text/plain": [
       "<matplotlib.figure.Figure at 0x2dfa247efd0>"
      ]
     },
     "metadata": {},
     "output_type": "display_data"
    }
   ],
   "source": [
    "plot_event_heatmap(y_start_metres[~pass_data['success']], \n",
    "                   x_start_metres[~pass_data['success']], \n",
    "                   'Number of passes not successful')"
   ]
  },
  {
   "cell_type": "markdown",
   "metadata": {},
   "source": [
    "# Investigating correlation between coordinates and success\n",
    "\n",
    "Lets plot scatters to see what the relationships look like, then create our first model of pass success."
   ]
  },
  {
   "cell_type": "code",
   "execution_count": 195,
   "metadata": {
    "collapsed": true
   },
   "outputs": [],
   "source": [
    "def plot_relationship_scatter(pass_data, variable_to_plot, curve_parameters=None):\n",
    "    \"\"\"\n",
    "    Plot the relationship between the variable to plot and the probability of a pass success, based on the data\n",
    "    provided in the pass_data DataFrame.\n",
    "    If curve_parameters is also present, then plot the logistic regression curve with these values too\n",
    "    \n",
    "    Parameters\n",
    "    ----------\n",
    "    pass_data (pd.DataFrame)\n",
    "        DataFrame containing event data relating to passes, detailing whether each pass is successful, and \n",
    "        containing the variable to plot\n",
    "    \n",
    "    variable_to_plot (str)\n",
    "        The name of a field in the pass_data for which to plot a relationship between it and pass success probability\n",
    "    \n",
    "    curve_parameters (list)\n",
    "        Parameters for a logistic regression to plot.\n",
    "    \"\"\"\n",
    "    passcount_dist = np.histogram(pass_data[variable_to_plot], bins=40, range=[0, 100])\n",
    "    successcount_dist = np.histogram(pass_data[pass_data['success']][variable_to_plot], bins=40, range=[0, 100])\n",
    "    prob_success = np.divide(successcount_dist[0], passcount_dist[0])\n",
    "    variable_vals = passcount_dist[1]\n",
    "    mid_variable_vals = (variable_vals[:-1] + variable_vals[1:]) / 2\n",
    "    \n",
    "    fig, ax = plt.subplots(num=2)\n",
    "    ax.plot(mid_variable_vals, prob_success, linestyle='none', marker= '.', markerSize= 12, color='black')\n",
    "    \n",
    "    if curve_parameters is not None:\n",
    "        exponential_value = np.array([0.0] * len(mid_variable_vals))\n",
    "        for i, param  in enumerate(curve_parameters):\n",
    "            exponential_value += param * pow(mid_variable_vals, i)\n",
    "        xPass_prob = 1 / (1 + np.exp(exponential_value))\n",
    "        ax.plot(mid_variable_vals, xPass_prob, linestyle='solid', color='black')\n",
    "    \n",
    "    ax.set_ylabel('Probability pass success')\n",
    "    ax.set_xlabel(variable_to_plot)\n",
    "    ax.spines['top'].set_visible(False)\n",
    "    ax.spines['right'].set_visible(False)\n",
    "    plt.show()"
   ]
  },
  {
   "cell_type": "code",
   "execution_count": 188,
   "metadata": {},
   "outputs": [
    {
     "data": {
      "image/png": "[encoded data removed]",
      "text/plain": [
       "<matplotlib.figure.Figure at 0x2dcd9646d30>"
      ]
     },
     "metadata": {},
     "output_type": "display_data"
    }
   ],
   "source": [
    "plot_relationship_scatter(pass_data, 'pass_start_x')"
   ]
  },
  {
   "cell_type": "markdown",
   "metadata": {},
   "source": [
    "In the x-direction (ie, along the length of the pitch) this confirms what we can see in the plot of the pitch above:\n",
    "* Near a team's own goal line passes have a middling probability of success. Here passes may be defensive clearances\n",
    "* In the middle of the park, passes are most likely to be successful. Here teams are more likely to have the ball under less pressure from opponents\n",
    "* In the final third probability of pass success increases. Passes need to be more creative here to break through an opponent defensive line, and many will be crosses which tend to be less successful.\n",
    "\n",
    "This looks like a quadratic relationship, so likely that including x<sup>2</sup> will improve the model"
   ]
  },
  {
   "cell_type": "code",
   "execution_count": 167,
   "metadata": {},
   "outputs": [
    {
     "data": {
      "image/png": "[encoded data removed]",
      "text/plain": [
       "<matplotlib.figure.Figure at 0x2dcd5c42ba8>"
      ]
     },
     "metadata": {},
     "output_type": "display_data"
    }
   ],
   "source": [
    "plot_relationship_scatter(pass_data, 'pass_start_y')"
   ]
  },
  {
   "cell_type": "markdown",
   "metadata": {},
   "source": [
    "In the y-direction (ie, along the width of the pitch):\n",
    "* Passes are less likely to be successful nearer the touch lines. This is not surprising as here we're more likely to see crosses, or other balls into the box\n",
    "* Passes are more likely to be successful in the centre of the width. Based on the heatmaps above these are likely to be dominated by passes in the centre of the park, where there is often an emphasis on keeping posession.\n",
    "\n",
    "This looks like a quadratic relationship, so likely that including y<sup>2</sup> will improve the model"
   ]
  },
  {
   "cell_type": "markdown",
   "metadata": {},
   "source": [
    "# Fitting a logistic regression to variables derived from single variables\n",
    "\n",
    "Based on what we see in the plots above we should look into logistic regression for x, x<sup>2</sup>, y and y<sup>2</sup>"
   ]
  },
  {
   "cell_type": "code",
   "execution_count": 209,
   "metadata": {
    "collapsed": true
   },
   "outputs": [],
   "source": [
    "def calculate_and_plot_logistic_polynomial_regression_curve(pass_data, variables=list(), plot=True):\n",
    "    \"\"\"\n",
    "    Calculate and print logistic regression model for variables provided, and optionally plot curve with real data\n",
    "    \n",
    "    Parameters\n",
    "    ----------\n",
    "    pass_data (pd.DataFrame)\n",
    "        DataFrame containing event data relating to passes, detailing whether each pass is successful, and \n",
    "        containing the variables for the logistic regression\n",
    "    \n",
    "    variables (list)\n",
    "        Fields in the DataFrame to use in logistic regression model\n",
    "    \n",
    "    plot (bool)\n",
    "        Whether to product a plot. If making a plot it must either be for a single variable model or for a model\n",
    "        where all variables are powers of a single variable\n",
    "        \n",
    "    \"\"\"\n",
    "    test_model = smf.glm(formula=f\"success ~ {' + '.join(variables)}\", data=pass_data, \n",
    "                         family=sm.families.Binomial()).fit()\n",
    "    print(test_model.summary())\n",
    "    if plot:\n",
    "        plot_relationship_scatter(pass_data, variables[0], curve_parameters=test_model.params)"
   ]
  },
  {
   "cell_type": "code",
   "execution_count": 205,
   "metadata": {},
   "outputs": [
    {
     "name": "stdout",
     "output_type": "stream",
     "text": [
      "                          Generalized Linear Model Regression Results                          \n",
      "===============================================================================================\n",
      "Dep. Variable:     ['success[False]', 'success[True]']   No. Observations:              1665506\n",
      "Model:                                             GLM   Df Residuals:                  1665504\n",
      "Model Family:                                 Binomial   Df Model:                            1\n",
      "Link Function:                                   logit   Scale:                             1.0\n",
      "Method:                                           IRLS   Log-Likelihood:            -7.5385e+05\n",
      "Date:                                 Sat, 12 Sep 2020   Deviance:                   1.5077e+06\n",
      "Time:                                         21:10:59   Pearson chi2:                 1.68e+06\n",
      "No. Iterations:                                      5                                         \n",
      "================================================================================\n",
      "                   coef    std err          z      P>|z|      [0.025      0.975]\n",
      "--------------------------------------------------------------------------------\n",
      "Intercept       -2.1396      0.005   -398.328      0.000      -2.150      -2.129\n",
      "pass_start_x     0.0112   9.64e-05    116.335      0.000       0.011       0.011\n",
      "================================================================================\n"
     ]
    },
    {
     "data": {
      "image/png": "[encoded data removed]",
      "text/plain": [
       "<matplotlib.figure.Figure at 0x2ddd4df72b0>"
      ]
     },
     "metadata": {},
     "output_type": "display_data"
    }
   ],
   "source": [
    "calculate_and_plot_linear_regression_curve(pass_data, ['pass_start_x'])"
   ]
  },
  {
   "cell_type": "markdown",
   "metadata": {},
   "source": [
    "This doesn't look great, let's have a look at what happens if we include x<sup>2</sup> too"
   ]
  },
  {
   "cell_type": "code",
   "execution_count": 198,
   "metadata": {
    "collapsed": true
   },
   "outputs": [],
   "source": [
    "pass_data['pass_start_x_squared'] = pass_data['pass_start_x']**2\n",
    "pass_data['pass_start_y_squared'] = pass_data['pass_start_y']**2"
   ]
  },
  {
   "cell_type": "code",
   "execution_count": 206,
   "metadata": {},
   "outputs": [
    {
     "name": "stdout",
     "output_type": "stream",
     "text": [
      "                          Generalized Linear Model Regression Results                          \n",
      "===============================================================================================\n",
      "Dep. Variable:     ['success[False]', 'success[True]']   No. Observations:              1665506\n",
      "Model:                                             GLM   Df Residuals:                  1665503\n",
      "Model Family:                                 Binomial   Df Model:                            2\n",
      "Link Function:                                   logit   Scale:                             1.0\n",
      "Method:                                           IRLS   Log-Likelihood:            -7.3285e+05\n",
      "Date:                                 Sat, 12 Sep 2020   Deviance:                   1.4657e+06\n",
      "Time:                                         21:11:31   Pearson chi2:                 1.67e+06\n",
      "No. Iterations:                                      5                                         \n",
      "========================================================================================\n",
      "                           coef    std err          z      P>|z|      [0.025      0.975]\n",
      "----------------------------------------------------------------------------------------\n",
      "Intercept               -0.6102      0.008    -72.669      0.000      -0.627      -0.594\n",
      "pass_start_x            -0.0649      0.000   -176.175      0.000      -0.066      -0.064\n",
      "pass_start_x_squared     0.0008   3.58e-06    210.103      0.000       0.001       0.001\n",
      "========================================================================================\n"
     ]
    },
    {
     "data": {
      "image/png": "[encoded data removed]",
      "text/plain": [
       "<matplotlib.figure.Figure at 0x2ddd4b70080>"
      ]
     },
     "metadata": {},
     "output_type": "display_data"
    }
   ],
   "source": [
    "calculate_and_plot_linear_regression_curve(pass_data, ['pass_start_x', 'pass_start_x_squared'])"
   ]
  },
  {
   "cell_type": "code",
   "execution_count": 207,
   "metadata": {},
   "outputs": [
    {
     "name": "stdout",
     "output_type": "stream",
     "text": [
      "                          Generalized Linear Model Regression Results                          \n",
      "===============================================================================================\n",
      "Dep. Variable:     ['success[False]', 'success[True]']   No. Observations:              1665506\n",
      "Model:                                             GLM   Df Residuals:                  1665504\n",
      "Model Family:                                 Binomial   Df Model:                            1\n",
      "Link Function:                                   logit   Scale:                             1.0\n",
      "Method:                                           IRLS   Log-Likelihood:            -7.6056e+05\n",
      "Date:                                 Sat, 12 Sep 2020   Deviance:                   1.5211e+06\n",
      "Time:                                         21:12:27   Pearson chi2:                 1.67e+06\n",
      "No. Iterations:                                      4                                         \n",
      "================================================================================\n",
      "                   coef    std err          z      P>|z|      [0.025      0.975]\n",
      "--------------------------------------------------------------------------------\n",
      "Intercept       -1.6371      0.004   -393.291      0.000      -1.645      -1.629\n",
      "pass_start_y     0.0011   7.17e-05     15.354      0.000       0.001       0.001\n",
      "================================================================================\n"
     ]
    },
    {
     "data": {
      "image/png": "[encoded data removed]",
      "text/plain": [
       "<matplotlib.figure.Figure at 0x2ddd4c49b38>"
      ]
     },
     "metadata": {},
     "output_type": "display_data"
    }
   ],
   "source": [
    "calculate_and_plot_linear_regression_curve(pass_data, ['pass_start_y'])"
   ]
  },
  {
   "cell_type": "markdown",
   "metadata": {},
   "source": [
    "As was the case for x, this is pretty terrible. But we always thought a quadratic may make more sense. Let's look into that."
   ]
  },
  {
   "cell_type": "code",
   "execution_count": 208,
   "metadata": {},
   "outputs": [
    {
     "name": "stdout",
     "output_type": "stream",
     "text": [
      "                          Generalized Linear Model Regression Results                          \n",
      "===============================================================================================\n",
      "Dep. Variable:     ['success[False]', 'success[True]']   No. Observations:              1665506\n",
      "Model:                                             GLM   Df Residuals:                  1665503\n",
      "Model Family:                                 Binomial   Df Model:                            2\n",
      "Link Function:                                   logit   Scale:                             1.0\n",
      "Method:                                           IRLS   Log-Likelihood:            -7.5422e+05\n",
      "Date:                                 Sat, 12 Sep 2020   Deviance:                   1.5084e+06\n",
      "Time:                                         21:13:24   Pearson chi2:                 1.67e+06\n",
      "No. Iterations:                                      5                                         \n",
      "========================================================================================\n",
      "                           coef    std err          z      P>|z|      [0.025      0.975]\n",
      "----------------------------------------------------------------------------------------\n",
      "Intercept               -1.1045      0.006   -182.667      0.000      -1.116      -1.093\n",
      "pass_start_y            -0.0316      0.000   -106.632      0.000      -0.032      -0.031\n",
      "pass_start_y_squared     0.0003   2.87e-06    113.309      0.000       0.000       0.000\n",
      "========================================================================================\n"
     ]
    },
    {
     "data": {
      "image/png": "[encoded data removed]",
      "text/plain": [
       "<matplotlib.figure.Figure at 0x2ddd4896a90>"
      ]
     },
     "metadata": {},
     "output_type": "display_data"
    }
   ],
   "source": [
    "calculate_and_plot_linear_regression_curve(pass_data, ['pass_start_y', 'pass_start_y_squared'])"
   ]
  },
  {
   "cell_type": "code",
   "execution_count": null,
   "metadata": {
    "collapsed": true
   },
   "outputs": [],
   "source": []
  },
  {
   "cell_type": "code",
   "execution_count": 160,
   "metadata": {},
   "outputs": [
    {
     "name": "stdout",
     "output_type": "stream",
     "text": [
      "                          Generalized Linear Model Regression Results                          \n",
      "===============================================================================================\n",
      "Dep. Variable:     ['success[False]', 'success[True]']   No. Observations:              1665506\n",
      "Model:                                             GLM   Df Residuals:                  1665503\n",
      "Model Family:                                 Binomial   Df Model:                            2\n",
      "Link Function:                                   logit   Scale:                             1.0\n",
      "Method:                                           IRLS   Log-Likelihood:            -7.5374e+05\n",
      "Date:                                 Sat, 12 Sep 2020   Deviance:                   1.5075e+06\n",
      "Time:                                         17:49:42   Pearson chi2:                 1.68e+06\n",
      "No. Iterations:                                      5                                         \n",
      "================================================================================\n",
      "                   coef    std err          z      P>|z|      [0.025      0.975]\n",
      "--------------------------------------------------------------------------------\n",
      "Intercept       -2.1914      0.006   -340.517      0.000      -2.204      -2.179\n",
      "pass_start_x     0.0112   9.64e-05    116.249      0.000       0.011       0.011\n",
      "pass_start_y     0.0010    7.1e-05     14.683      0.000       0.001       0.001\n",
      "================================================================================\n"
     ]
    }
   ],
   "source": [
    "test_model = smf.glm(formula=\"success ~ pass_start_x + pass_start_y\" , data=pass_data, \n",
    "                     family=sm.families.Binomial()).fit()\n",
    "print(test_model.summary()) "
   ]
  },
  {
   "cell_type": "code",
   "execution_count": null,
   "metadata": {
    "collapsed": true
   },
   "outputs": [],
   "source": []
  }
 ],
 "metadata": {
  "kernelspec": {
   "display_name": "Python 3",
   "language": "python",
   "name": "python3"
  },
  "language_info": {
   "codemirror_mode": {
    "name": "ipython",
    "version": 3
   },
   "file_extension": ".py",
   "mimetype": "text/x-python",
   "name": "python",
   "nbconvert_exporter": "python",
   "pygments_lexer": "ipython3",
   "version": "3.6.2"
  }
 },
 "nbformat": 4,
 "nbformat_minor": 2
}
