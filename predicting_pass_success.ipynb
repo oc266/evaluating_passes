{
 "cells": [
  {
   "cell_type": "markdown",
   "metadata": {},
   "source": [
    "# Predicting Pass Success\n",
    "\n",
    "This notebook creates an xPass model, where xPass is the probability of a pass being successful given certain features of the circumstances under which a pass is made.\n",
    "\n",
    "Initially, a simple model is created which simply uses the position on the pitch from which the pass was made, but this is then expanded on to include additional features.\n",
    "\n",
    "Finally the xPass model is used to produce a scouting report on two players from one league."
   ]
  },
  {
   "cell_type": "markdown",
   "metadata": {},
   "source": [
    "### Notes from David Sumpter on the problem\n",
    "\n",
    "Use p values for seeing whether there is a strong relationship\n",
    "x and y considered as separate parameters\n",
    "could do distance from the middle of the pitch, or distance from opponent's goal as an additional parameter\n",
    "\twould be interesting as a single variable model\n",
    "\n",
    "end-coordinates of a pass - what do you do for unsuccessful passes?\n",
    "\n",
    "what is a successful pass?\n",
    "\tnaively this could just be whether it's successful (ie ,ends up with own player) or unsuccessful (ie, ends up off pitch or with opposition)\n",
    "\tbut could be whether you're own player ends up with the ball\n",
    "\tcould improve the model by considering this in part ii\n",
    "\n",
    "What is a good passer?\n",
    "\tSomeone who overperforms your passing model - in the same way as xG\n",
    "\n",
    "Using the same data for test and train - it's not a machine learning course...\n",
    "\n",
    "When doing the comparison, just compare within the league we care about. Pick out one or two players that are deem to be good players based \n",
    "\ton the results of our model - a focussed analysis of one or two players you'd be interested in signing (may want to take in context of\n",
    "\tother data on the player, eg basic demographic things like age - eg, you wouldn't want to sign a 33 year old necessarily)\n",
    "\n",
    "Weakness:\n",
    "* Fitted over a certain number of leagues\n",
    "* It would be good to include pressure on player (from tutorial team)\n",
    "\t\n",
    "Can use ridge-regression in scikit-learn (punishes if too many parameters)"
   ]
  },
  {
   "cell_type": "code",
   "execution_count": 1,
   "metadata": {},
   "outputs": [
    {
     "name": "stderr",
     "output_type": "stream",
     "text": [
      "C:\\ProgramData\\Anaconda3\\lib\\site-packages\\statsmodels\\compat\\pandas.py:56: FutureWarning: The pandas.core.datetools module is deprecated and will be removed in a future version. Please use the pandas.tseries module instead.\n",
      "  from pandas.core import datetools\n"
     ]
    }
   ],
   "source": [
    "import json\n",
    "import os\n",
    "import numpy as np\n",
    "import pandas as pd\n",
    "\n",
    "#Plotting\n",
    "import matplotlib.pyplot as plt\n",
    "from matplotlib.patches import Arc\n",
    "\n",
    "#Statistical fitting of models\n",
    "import statsmodels.api as sm\n",
    "import statsmodels.formula.api as smf\n",
    "from sklearn.calibration import calibration_curve\n",
    "\n",
    "import FCPython"
   ]
  },
  {
   "cell_type": "markdown",
   "metadata": {},
   "source": [
    "# Loading the data\n",
    "\n",
    "This assumes that Wyscout data is held in a folder called 'data/' within the repository holding this notebook"
   ]
  },
  {
   "cell_type": "code",
   "execution_count": 2,
   "metadata": {
    "collapsed": true
   },
   "outputs": [],
   "source": [
    "def load_wyscout_event_data(data_folder='data/'):\n",
    "    \"\"\"\n",
    "    Given a folder location holding Wyscout data, load all json files for event data and\n",
    "    put all data in a single dataframe, which is returned.\n",
    "    \"\"\"\n",
    "    \n",
    "    data_folder = data_folder.strip('/')\n",
    "    \n",
    "    event_files = []\n",
    "    events = []\n",
    "    \n",
    "    for root, dirs, files in os.walk(f'{data_folder}/events'):\n",
    "        for file in files:\n",
    "            event_files.append(f'{root}/{file}')\n",
    "\n",
    "    for file_location in event_files:\n",
    "        with open(file_location, encoding=\"utf8\") as json_data:\n",
    "            event_df_for_file = pd.DataFrame(json.load(json_data))\n",
    "            events.append(event_df_for_file)\n",
    "    \n",
    "    events_df = pd.concat(events) \n",
    "    events_df = events_df.reset_index(drop=True)\n",
    "    \n",
    "    return events_df"
   ]
  },
  {
   "cell_type": "code",
   "execution_count": 3,
   "metadata": {
    "collapsed": true
   },
   "outputs": [],
   "source": [
    "event_data = load_wyscout_event_data()"
   ]
  },
  {
   "cell_type": "markdown",
   "metadata": {},
   "source": [
    "# Data exploration\n",
    "\n",
    "Before doing anything we need to understand what the data we have looks like, let's do a little exploring.\n",
    "\n",
    "### Questions to answer\n",
    "\n",
    "* What do passes look like in the data?\n",
    "* Are there different types of passes?\n",
    "* How do we know if a pass was successful? \n",
    "* Are there different possible definitions of 'success'?\n",
    "* What are the axes origins for x and y co-ordinates?\n",
    "* Would it make more sense to shift the origin?\n",
    "* Other than x and y co-ordinates, what other features could we possibly use in model extensions?\n",
    "* How can we know the end location of the pass if it is unsuccessful?"
   ]
  },
  {
   "cell_type": "code",
   "execution_count": 368,
   "metadata": {
    "collapsed": true
   },
   "outputs": [],
   "source": [
    "class EventDataPipeline:\n",
    "    def __init__(self):\n",
    "        self.filters = list()\n",
    "    \n",
    "    def add_filters(self, filters_to_add):\n",
    "        self.filters.extend(filters_to_add)\n",
    "    \n",
    "    def run_get_event_data_pipeline(self, event_data):\n",
    "        event_data = event_data.copy()\n",
    "        for f in self.filters:\n",
    "            event_data = f(event_data)\n",
    "        \n",
    "        return event_data\n",
    "\n",
    "    \n",
    "class PassDataPipeline:\n",
    "    def __init__(self):\n",
    "        self.filters = list()\n",
    "    \n",
    "    def add_filters(self, filters_to_add):\n",
    "        self.filters.extend(filters_to_add)\n",
    "    \n",
    "    def run_get_pass_data_pipeline(self, event_data):\n",
    "        pass_data = event_data[event_data['eventName'] == 'Pass'].copy()\n",
    "        for f in self.filters:\n",
    "            pass_data = f(pass_data)\n",
    "        \n",
    "        return pass_data"
   ]
  },
  {
   "cell_type": "code",
   "execution_count": 270,
   "metadata": {
    "collapsed": true
   },
   "outputs": [],
   "source": [
    "def get_shot_assist_flag(event_data):\n",
    "    \"\"\"\n",
    "    Given event data, derive a flag to demonstrate whether an event is an assist for a shot\n",
    "    \"\"\"\n",
    "    event_data = event_data.copy()\n",
    "    \n",
    "    next_event_in_same_match = (event_data['matchId'].diff() == 0.0) | (event_data['matchId'].diff().isnull())\n",
    "    next_event_by_same_team = (event_data['teamId'].diff() == 0.0) | (event_data['teamId'].diff().isnull())\n",
    "    next_event_a_shot = event_data['eventName'].shift(-1) == 'Shot'\n",
    "    \n",
    "    event_data['shot_assist'] = next_event_in_same_match & next_event_by_same_team & next_event_a_shot\n",
    "    \n",
    "    return event_data"
   ]
  },
  {
   "cell_type": "code",
   "execution_count": 41,
   "metadata": {},
   "outputs": [],
   "source": [
    "def remove_rows_with_no_pass_end_position(pass_data):\n",
    "    \"\"\"\n",
    "    All passes should have an end location. If any rows don't, remove them from the data\n",
    "    \"\"\"\n",
    "    pass_data = pass_data.copy()\n",
    "    number_of_coords = pass_data['positions'].apply(lambda x: len(x))\n",
    "    pass_data = pass_data[number_of_coords == 2]\n",
    "    pass_data = pass_data.reset_index(drop=True)\n",
    "    \n",
    "    return pass_data\n",
    "    \n",
    "\n",
    "def get_success_flag_from_tags(pass_data):\n",
    "    \"\"\"\n",
    "    Extract a success flag from tags field of pass data:\n",
    "        1801 means success\n",
    "        1802 mean not a success\n",
    "    \"\"\"\n",
    "    all_tags = pass_data['tags'].copy().apply(lambda x: [tag['id'] for tag in x])\n",
    "    pass_data['success'] = all_tags.apply(lambda x: True if 1801 in x and 1802 not in x else False)\n",
    "    \n",
    "    return pass_data\n",
    "\n",
    "\n",
    "def get_start_coordinates_of_pass_from_position(pass_data):\n",
    "    \"\"\"\n",
    "    Extract the start co-ordinates of a pass from the position field of the event data\n",
    "    \"\"\"\n",
    "    pass_data = pass_data.copy()\n",
    "    pass_data['pass_start_x'] = pass_data['positions'].apply(lambda coords: coords[0]['x'])\n",
    "    pass_data['pass_start_y'] = pass_data['positions'].apply(lambda coords: coords[0]['y'])\n",
    "\n",
    "    return pass_data\n",
    "\n",
    "\n",
    "def get_end_coordinates_of_pass_from_position(pass_data):\n",
    "    \"\"\"\n",
    "    Exctract the end co-ordinates of a pass from the position field of the event data\n",
    "    If there is no end co-ordinates, then assume pass end is same as pass start\n",
    "\n",
    "    Note, this doesn't make any attempt to work out the intended end \n",
    "    co-ordinates of a failed pass\n",
    "    \"\"\"\n",
    "    pass_data = pass_data.copy()\n",
    "\n",
    "    # For some reason there are two passes for which there are only one co-ordinate\n",
    "    number_of_coords = pass_data['positions'].apply(lambda x: len(x))\n",
    "    inferred_end_coordiates = pass_data[number_of_coords == 1]['positions'].apply(\n",
    "        lambda coords: [{'y': coords[0]['y'], 'x': coords[0]['x']},\n",
    "                        {'y': coords[0]['y'], 'x': coords[0]['x']}])\n",
    "    pass_data['positions'].update(inferred_end_coordiates)\n",
    "\n",
    "    pass_data['pass_end_x'] = pass_data['positions'].apply(\n",
    "            lambda coords: coords[1]['x'])\n",
    "    pass_data['pass_end_y'] = pass_data['positions'].apply(\n",
    "            lambda coords: coords[1]['y'])\n",
    "\n",
    "    return pass_data\n",
    "\n",
    "\n",
    "def get_start_coordinates_squared(pass_data):\n",
    "    \"\"\"\n",
    "    Derive new features of start coordinates squared from start coordinates.\n",
    "    Note that this filter must be applied after get_start_coordinates_of_pass_from_position()\n",
    "    \"\"\"\n",
    "    pass_data = pass_data.copy()\n",
    "    \n",
    "    pass_data['pass_start_x_squared'] = pass_data['pass_start_x'] ** 2\n",
    "    pass_data['pass_start_y_squared'] = pass_data['pass_start_y'] ** 2\n",
    "    \n",
    "    return pass_data\n",
    "\n",
    "\n",
    "def get_start_coordinates_in_metres(pass_data):\n",
    "    \"\"\"\n",
    "    Derive the start co-ordinates in metres from the start co-ordinates.\n",
    "    Note that this filter must be applied after get_start_coordinates_of_pass_from_position()\n",
    "    \"\"\"\n",
    "    pass_data = pass_data.copy()\n",
    "    pass_data['pass_start_x_metres'] = pass_data['pass_start_x'] * 105 / 100\n",
    "    pass_data['pass_start_y_metres'] = pass_data['pass_start_y'] * 65 / 100\n",
    "    \n",
    "    return pass_data\n",
    "\n",
    "\n",
    "def get_product_of_start_coords(pass_data):\n",
    "    \"\"\"\n",
    "    Derive new feature: product of x and y start co-ordinates for pass\n",
    "    \"\"\"\n",
    "    pass_data = pass_data.copy()\n",
    "    pass_data['start_coords_product'] = pass_data['pass_start_x'] * pass_data['pass_start_y']\n",
    "    \n",
    "    return pass_data\n",
    "\n",
    "\n",
    "def get_pass_type(pass_data):\n",
    "    \"\"\"\n",
    "    Derive boolean fields for each pass type\n",
    "    \"\"\"\n",
    "    pass_data = pass_data.copy()\n",
    "    for pass_type in ['Simple pass', 'High pass', 'Head pass', 'Smart pass', 'Launch', 'Cross', 'Hand pass']:\n",
    "        pass_data[pass_type.lower().replace(' ', '_')] = pass_data['subEventName'] == pass_type\n",
    "    \n",
    "    return pass_data\n",
    "\n",
    "\n",
    "def get_angle_and_distance_of_pass(pass_data):\n",
    "    \"\"\"\n",
    "    Derive the angle at which the pass was made and the distance of it\n",
    "    \"\"\"\n",
    "    \n",
    "    pass_data = pass_data.copy()\n",
    "    \n",
    "    x_start_in_metres = pass_data['pass_start_x'] * 105 / 100\n",
    "    y_start_in_metres = pass_data['pass_start_y'] * 65 / 100\n",
    "    x_end_in_metres = pass_data['pass_end_x'] * 105 / 100\n",
    "    y_end_in_metres = pass_data['pass_end_y'] * 65 / 100\n",
    "    \n",
    "    dx = x_end_in_metres - x_start_in_metres\n",
    "    dy = y_end_in_metres - y_start_in_metres\n",
    "    pass_directly_forwards = dx == 0\n",
    "    pass_backwards = dx < 0\n",
    "    \n",
    "    # If pass directly forwards, angle is 0\n",
    "    angle_of_pass = pd.Series([0] * len(pass_data))\n",
    "    angle_of_pass[~pass_directly_forwards] = np.arctan(abs(dy[~pass_directly_forwards] / dx[~pass_directly_forwards]))\n",
    "    angle_of_pass[pass_backwards] = np.pi - angle_of_pass\n",
    "    \n",
    "    pass_data = pass_data.assign(angle_of_pass=angle_of_pass)\n",
    "    \n",
    "    pass_data['distance_of_pass'] = np.sqrt(dx**2 + dy**2)\n",
    "    \n",
    "    return pass_data\n",
    "\n",
    "\n",
    "def get_part_of_field_for_pass_start_and_end(pass_data):\n",
    "    \"\"\"\n",
    "    Derive new features for start third of field, end third of field and a score for\n",
    "    progression up the pitch - which is simply end third - start third\n",
    "    \"\"\"\n",
    "    pass_data = pass_data.copy()\n",
    "    for start_or_end in ['start', 'end']:\n",
    "        \n",
    "        in_first_third = pass_data[f'pass_{start_or_end}_x'] <= 33.3\n",
    "        in_middle_third = (pass_data[f'pass_{start_or_end}_x'] > 33.3) & (pass_data[f'pass_{start_or_end}_x'] <= 66.6)\n",
    "        in_final_third = pass_data[f'pass_{start_or_end}_x'] > 66.6\n",
    "\n",
    "        pass_data[f'{start_or_end}_third_of_field'] = 0\n",
    "        pass_data.loc[in_first_third, f'{start_or_end}_third_of_field'] = 1\n",
    "        pass_data.loc[in_middle_third, f'{start_or_end}_third_of_field'] = 2\n",
    "        pass_data.loc[in_final_third, f'{start_or_end}_third_of_field'] = 3\n",
    "\n",
    "    pass_data['pitch_progression_score'] = pass_data['end_third_of_field'] - pass_data['start_third_of_field']\n",
    "    \n",
    "    return pass_data\n",
    "\n",
    "\n",
    "def get_end_position_to_goal_details(pass_data):\n",
    "    \"\"\"\n",
    "    Get the distance of the end position from goal and the angle made by lines drawn\n",
    "    from the end position to the goalposts.\n",
    "    \n",
    "    Note these features are inspired by work in SoccermaticsForPython:\n",
    "        https://github.com/Friends-of-Tracking-Data-FoTD/SoccermaticsForPython\n",
    "    \"\"\"\n",
    "    \n",
    "    pass_data = pass_data.copy()\n",
    "    end_x_from_goal = (100 - pass_data['pass_end_x']) * 105 / 100\n",
    "    end_y_from_goal_centre = abs(50 - pass_data['pass_end_y']) * 65 / 100\n",
    "\n",
    "    pass_data['end_distance_from_goal'] = np.sqrt(end_x_from_goal ** 2 + end_y_from_goal_centre ** 2)\n",
    "    angle = np.arctan(7.32 * end_x_from_goal / (end_x_from_goal ** 2 + end_y_from_goal_centre ** 2 - (7.32 / 2) ** 2))\n",
    "    angle_less_than_0 = angle < 0\n",
    "    angle[angle_less_than_0] = np.pi + angle\n",
    "    pass_data['end_angle_between_goalpost'] = angle\n",
    "\n",
    "    return pass_data"
   ]
  },
  {
   "cell_type": "code",
   "execution_count": 369,
   "metadata": {
    "collapsed": true
   },
   "outputs": [],
   "source": [
    "# This code would load the pass data in one go. As this has all been a bit exploratory, we've built this up bit by bit instead\n",
    "event_data_pipeline = EventDataPipeline()\n",
    "event_data_pipeline.add_filters([get_shot_assist_flag])\n",
    "event_data = event_data_pipeline.run_get_event_data_pipeline(event_data)\n",
    "\n",
    "pass_data_pipeline = PassDataPipeline()\n",
    "pass_data_pipeline.add_filters([remove_rows_with_no_pass_end_position, get_success_flag_from_tags, \n",
    "                                get_start_coordinates_of_pass_from_position, get_end_coordinates_of_pass_from_position,\n",
    "                                get_start_coordinates_squared, get_product_of_start_coords, get_pass_type,\n",
    "                                get_angle_and_distance_of_pass, get_part_of_field_for_pass_start_and_end,\n",
    "                                get_end_position_to_goal_details])\n",
    "pass_data = pass_data_pipeline.run_get_pass_data_pipeline(event_data)"
   ]
  },
  {
   "cell_type": "code",
   "execution_count": 8,
   "metadata": {},
   "outputs": [
    {
     "data": {
      "text/html": [
       "<div>\n",
       "<style>\n",
       "    .dataframe thead tr:only-child th {\n",
       "        text-align: right;\n",
       "    }\n",
       "\n",
       "    .dataframe thead th {\n",
       "        text-align: left;\n",
       "    }\n",
       "\n",
       "    .dataframe tbody tr th {\n",
       "        vertical-align: top;\n",
       "    }\n",
       "</style>\n",
       "<table border=\"1\" class=\"dataframe\">\n",
       "  <thead>\n",
       "    <tr style=\"text-align: right;\">\n",
       "      <th></th>\n",
       "      <th>eventId</th>\n",
       "      <th>eventName</th>\n",
       "      <th>eventSec</th>\n",
       "      <th>id</th>\n",
       "      <th>matchId</th>\n",
       "      <th>matchPeriod</th>\n",
       "      <th>playerId</th>\n",
       "      <th>positions</th>\n",
       "      <th>subEventId</th>\n",
       "      <th>subEventName</th>\n",
       "      <th>tags</th>\n",
       "      <th>teamId</th>\n",
       "    </tr>\n",
       "  </thead>\n",
       "  <tbody>\n",
       "    <tr>\n",
       "      <th>0</th>\n",
       "      <td>8</td>\n",
       "      <td>Pass</td>\n",
       "      <td>2.758649</td>\n",
       "      <td>177959171</td>\n",
       "      <td>2499719</td>\n",
       "      <td>1H</td>\n",
       "      <td>25413</td>\n",
       "      <td>[{'y': 49, 'x': 49}, {'y': 78, 'x': 31}]</td>\n",
       "      <td>85</td>\n",
       "      <td>Simple pass</td>\n",
       "      <td>[{'id': 1801}]</td>\n",
       "      <td>1609</td>\n",
       "    </tr>\n",
       "    <tr>\n",
       "      <th>1</th>\n",
       "      <td>8</td>\n",
       "      <td>Pass</td>\n",
       "      <td>4.946850</td>\n",
       "      <td>177959172</td>\n",
       "      <td>2499719</td>\n",
       "      <td>1H</td>\n",
       "      <td>370224</td>\n",
       "      <td>[{'y': 78, 'x': 31}, {'y': 75, 'x': 51}]</td>\n",
       "      <td>83</td>\n",
       "      <td>High pass</td>\n",
       "      <td>[{'id': 1801}]</td>\n",
       "      <td>1609</td>\n",
       "    </tr>\n",
       "    <tr>\n",
       "      <th>2</th>\n",
       "      <td>8</td>\n",
       "      <td>Pass</td>\n",
       "      <td>6.542188</td>\n",
       "      <td>177959173</td>\n",
       "      <td>2499719</td>\n",
       "      <td>1H</td>\n",
       "      <td>3319</td>\n",
       "      <td>[{'y': 75, 'x': 51}, {'y': 71, 'x': 35}]</td>\n",
       "      <td>82</td>\n",
       "      <td>Head pass</td>\n",
       "      <td>[{'id': 1801}]</td>\n",
       "      <td>1609</td>\n",
       "    </tr>\n",
       "    <tr>\n",
       "      <th>3</th>\n",
       "      <td>8</td>\n",
       "      <td>Pass</td>\n",
       "      <td>8.143395</td>\n",
       "      <td>177959174</td>\n",
       "      <td>2499719</td>\n",
       "      <td>1H</td>\n",
       "      <td>120339</td>\n",
       "      <td>[{'y': 71, 'x': 35}, {'y': 95, 'x': 41}]</td>\n",
       "      <td>82</td>\n",
       "      <td>Head pass</td>\n",
       "      <td>[{'id': 1801}]</td>\n",
       "      <td>1609</td>\n",
       "    </tr>\n",
       "    <tr>\n",
       "      <th>4</th>\n",
       "      <td>8</td>\n",
       "      <td>Pass</td>\n",
       "      <td>10.302366</td>\n",
       "      <td>177959175</td>\n",
       "      <td>2499719</td>\n",
       "      <td>1H</td>\n",
       "      <td>167145</td>\n",
       "      <td>[{'y': 95, 'x': 41}, {'y': 88, 'x': 72}]</td>\n",
       "      <td>85</td>\n",
       "      <td>Simple pass</td>\n",
       "      <td>[{'id': 1801}]</td>\n",
       "      <td>1609</td>\n",
       "    </tr>\n",
       "  </tbody>\n",
       "</table>\n",
       "</div>"
      ],
      "text/plain": [
       "   eventId eventName   eventSec         id  matchId matchPeriod  playerId  \\\n",
       "0        8      Pass   2.758649  177959171  2499719          1H     25413   \n",
       "1        8      Pass   4.946850  177959172  2499719          1H    370224   \n",
       "2        8      Pass   6.542188  177959173  2499719          1H      3319   \n",
       "3        8      Pass   8.143395  177959174  2499719          1H    120339   \n",
       "4        8      Pass  10.302366  177959175  2499719          1H    167145   \n",
       "\n",
       "                                  positions subEventId subEventName  \\\n",
       "0  [{'y': 49, 'x': 49}, {'y': 78, 'x': 31}]         85  Simple pass   \n",
       "1  [{'y': 78, 'x': 31}, {'y': 75, 'x': 51}]         83    High pass   \n",
       "2  [{'y': 75, 'x': 51}, {'y': 71, 'x': 35}]         82    Head pass   \n",
       "3  [{'y': 71, 'x': 35}, {'y': 95, 'x': 41}]         82    Head pass   \n",
       "4  [{'y': 95, 'x': 41}, {'y': 88, 'x': 72}]         85  Simple pass   \n",
       "\n",
       "             tags  teamId  \n",
       "0  [{'id': 1801}]    1609  \n",
       "1  [{'id': 1801}]    1609  \n",
       "2  [{'id': 1801}]    1609  \n",
       "3  [{'id': 1801}]    1609  \n",
       "4  [{'id': 1801}]    1609  "
      ]
     },
     "execution_count": 8,
     "metadata": {},
     "output_type": "execute_result"
    }
   ],
   "source": [
    "event_data.head()"
   ]
  },
  {
   "cell_type": "code",
   "execution_count": 9,
   "metadata": {},
   "outputs": [
    {
     "data": {
      "text/plain": [
       "(3251294, 12)"
      ]
     },
     "execution_count": 9,
     "metadata": {},
     "output_type": "execute_result"
    }
   ],
   "source": [
    "event_data.shape"
   ]
  },
  {
   "cell_type": "code",
   "execution_count": 10,
   "metadata": {},
   "outputs": [
    {
     "data": {
      "text/plain": [
       "array(['Pass', 'Duel', 'Foul', 'Free Kick', 'Shot', 'Save attempt',\n",
       "       'Others on the ball', 'Interruption', 'Goalkeeper leaving line',\n",
       "       'Offside'], dtype=object)"
      ]
     },
     "execution_count": 10,
     "metadata": {},
     "output_type": "execute_result"
    }
   ],
   "source": [
    "event_data['eventName'].unique()"
   ]
  },
  {
   "cell_type": "code",
   "execution_count": 11,
   "metadata": {
    "collapsed": true
   },
   "outputs": [],
   "source": [
    "# pass_data = event_data[event_data['eventName'] == 'Pass'].copy()"
   ]
  },
  {
   "cell_type": "code",
   "execution_count": 12,
   "metadata": {},
   "outputs": [
    {
     "data": {
      "text/plain": [
       "array(['Simple pass', 'High pass', 'Head pass', 'Smart pass', 'Launch',\n",
       "       'Cross', 'Hand pass'], dtype=object)"
      ]
     },
     "execution_count": 12,
     "metadata": {},
     "output_type": "execute_result"
    }
   ],
   "source": [
    "pass_data['subEventName'].unique()"
   ]
  },
  {
   "cell_type": "code",
   "execution_count": 13,
   "metadata": {
    "collapsed": true
   },
   "outputs": [],
   "source": [
    "# What tags to we have, and what do those tags mean?\n",
    "all_tags = pass_data['tags'].apply(lambda x: [tag['id'] for tag in x])\n",
    "unique_tags = list(set([item for sublist in all_tags.values for item in sublist]))"
   ]
  },
  {
   "cell_type": "code",
   "execution_count": 14,
   "metadata": {},
   "outputs": [
    {
     "data": {
      "text/plain": [
       "[102,\n",
       " 201,\n",
       " 301,\n",
       " 302,\n",
       " 401,\n",
       " 402,\n",
       " 403,\n",
       " 502,\n",
       " 504,\n",
       " 801,\n",
       " 901,\n",
       " 1001,\n",
       " 1401,\n",
       " 1801,\n",
       " 1802,\n",
       " 1901,\n",
       " 2001,\n",
       " 2101]"
      ]
     },
     "execution_count": 14,
     "metadata": {},
     "output_type": "execute_result"
    }
   ],
   "source": [
    "unique_tags.sort()\n",
    "unique_tags"
   ]
  },
  {
   "cell_type": "markdown",
   "metadata": {},
   "source": [
    "#### What types of pass do we have in the data\n",
    "\n",
    "Passes are flagged in the `eventName` field with value `Pass`.\n",
    "There are seven types of pass: `'Simple pass', 'High pass', 'Head pass', 'Smart pass', 'Launch', 'Cross', 'Hand pass'`\n",
    "Definitions for these types of passes can be found here https://footballdata.wyscout.com/events-manual/\n",
    "\n",
    "Do we want to include all of these in our model? Is it fair for example to include `Hand pass` which is presumably made exclusively by goalkeepers?\n",
    "\n",
    "Alternatively, could we include these as features in our model? This could allow us to identify players who have certain passing skills.\n",
    "\n",
    "#### What do the tags we get for passing mean?\n",
    "\n",
    "* 102: Own goal\n",
    "* 201: Opportunity\n",
    "* 301: Assist\n",
    "* 302: Key pass\n",
    "* 401: Left foot\n",
    "* 402: Right foot\n",
    "* 403: Head\n",
    "* 502: Free space left\n",
    "* 504: Take on right\n",
    "* 801: High\n",
    "* 901: Through\n",
    "* 1001: Fairplay - this is when a player kicks the ball out so some other player needs medical treatment. Should remove these.\n",
    "* 1401: Interception\n",
    "* 1801: Accurate\n",
    "* 1802: Not accurate\n",
    "* 1901: Counter attack\n",
    "* 2001: Dangerous ball lost\n",
    "* 2101: Blocked"
   ]
  },
  {
   "cell_type": "code",
   "execution_count": 15,
   "metadata": {
    "collapsed": true
   },
   "outputs": [],
   "source": [
    "# pass_data['all_tags'] = pass_data['tags'].apply(lambda x: [tag['id'] for tag in x])\n",
    "# pass_data['success'] = pass_data['all_tags'].apply(lambda x: True if 1801 in x and 1802 not in x else False)"
   ]
  },
  {
   "cell_type": "code",
   "execution_count": 16,
   "metadata": {},
   "outputs": [
    {
     "data": {
      "text/plain": [
       "0.8294698427985249"
      ]
     },
     "execution_count": 16,
     "metadata": {},
     "output_type": "execute_result"
    }
   ],
   "source": [
    "len(pass_data[pass_data['success']]) / len(pass_data)"
   ]
  },
  {
   "cell_type": "markdown",
   "metadata": {},
   "source": [
    "#### How can we identify a successful pass?\n",
    "\n",
    "We can see that a pass is successful in the most basic way by looking at the tags: `1801` means successful and `1802` means not successful.\n",
    "\n",
    "This identifies 83% of passes as being successful across all competitions, which seems about right but maybe a little high.\n",
    "\n",
    "An alterntive definition of 'successful' could include passes where after any interceptions or duels the passing team retain the ball. This is something to consider in future iterations of the model."
   ]
  },
  {
   "cell_type": "code",
   "execution_count": 17,
   "metadata": {},
   "outputs": [
    {
     "data": {
      "text/html": [
       "<div>\n",
       "<style>\n",
       "    .dataframe thead tr:only-child th {\n",
       "        text-align: right;\n",
       "    }\n",
       "\n",
       "    .dataframe thead th {\n",
       "        text-align: left;\n",
       "    }\n",
       "\n",
       "    .dataframe tbody tr th {\n",
       "        vertical-align: top;\n",
       "    }\n",
       "</style>\n",
       "<table border=\"1\" class=\"dataframe\">\n",
       "  <thead>\n",
       "    <tr style=\"text-align: right;\">\n",
       "      <th></th>\n",
       "      <th>eventId</th>\n",
       "      <th>eventName</th>\n",
       "      <th>eventSec</th>\n",
       "      <th>id</th>\n",
       "      <th>matchId</th>\n",
       "      <th>matchPeriod</th>\n",
       "      <th>playerId</th>\n",
       "      <th>positions</th>\n",
       "      <th>subEventId</th>\n",
       "      <th>subEventName</th>\n",
       "      <th>tags</th>\n",
       "      <th>teamId</th>\n",
       "      <th>success</th>\n",
       "      <th>pass_start_x</th>\n",
       "      <th>pass_start_y</th>\n",
       "      <th>pass_end_x</th>\n",
       "      <th>pass_end_y</th>\n",
       "      <th>pass_start_x_squared</th>\n",
       "      <th>pass_start_y_squared</th>\n",
       "      <th>start_coords_product</th>\n",
       "    </tr>\n",
       "  </thead>\n",
       "  <tbody>\n",
       "  </tbody>\n",
       "</table>\n",
       "</div>"
      ],
      "text/plain": [
       "Empty DataFrame\n",
       "Columns: [eventId, eventName, eventSec, id, matchId, matchPeriod, playerId, positions, subEventId, subEventName, tags, teamId, success, pass_start_x, pass_start_y, pass_end_x, pass_end_y, pass_start_x_squared, pass_start_y_squared, start_coords_product]\n",
       "Index: []"
      ]
     },
     "execution_count": 17,
     "metadata": {},
     "output_type": "execute_result"
    }
   ],
   "source": [
    "# For some reason there are two passes for which there are only one co-ordinate\n",
    "number_of_coords = pass_data['positions'].apply(lambda x: len(x))\n",
    "pass_data[number_of_coords == 1]"
   ]
  },
  {
   "cell_type": "code",
   "execution_count": 18,
   "metadata": {
    "collapsed": true
   },
   "outputs": [],
   "source": [
    "# Lets remove these two data points from the passing data\n",
    "# pass_data = pass_data[number_of_coords == 2]"
   ]
  },
  {
   "cell_type": "code",
   "execution_count": 19,
   "metadata": {
    "collapsed": true
   },
   "outputs": [],
   "source": [
    "# pass_data['pass_start_x'] = pass_data['positions'].apply(lambda coords: coords[0]['x'])\n",
    "# pass_data['pass_start_y'] = pass_data['positions'].apply(lambda coords: coords[0]['y'])\n",
    "# pass_data['pass_end_x'] = pass_data['positions'].apply(lambda coords: coords[1]['x'])\n",
    "# pass_data['pass_end_y'] = pass_data['positions'].apply(lambda coords: coords[1]['y'])"
   ]
  },
  {
   "cell_type": "code",
   "execution_count": 20,
   "metadata": {},
   "outputs": [
    {
     "name": "stdout",
     "output_type": "stream",
     "text": [
      "0 100\n",
      "0 101\n",
      "0 100\n",
      "0 101\n"
     ]
    }
   ],
   "source": [
    "print(pass_data['pass_start_x'].min(), pass_data['pass_start_x'].max())\n",
    "print(pass_data['pass_start_y'].min(), pass_data['pass_start_y'].max())\n",
    "\n",
    "print(pass_data['pass_end_x'].min(), pass_data['pass_end_x'].max())\n",
    "print(pass_data['pass_end_y'].min(), pass_data['pass_end_y'].max())"
   ]
  },
  {
   "cell_type": "markdown",
   "metadata": {},
   "source": [
    "#### What does the co-ordinate system mean?\n",
    "\n",
    "In the Wyscout documentation (https://apidocs.wyscout.com/matches-wyid-events#6a-available-schemes-and-relative-positions) the postions are described as being the *position in percentage from the left corner of the attacking team*\n",
    "\n",
    "This means that we should be able to just use the positions without manipulation or caring about which half we're in. To create other features (eg, anlges/ distances) we will need to convert the co-ordinate system to metres\n",
    "\n",
    "Looking at the data for a switch in posession confirms the definition from the documentation"
   ]
  },
  {
   "cell_type": "code",
   "execution_count": 21,
   "metadata": {},
   "outputs": [
    {
     "data": {
      "text/html": [
       "<div>\n",
       "<style>\n",
       "    .dataframe thead tr:only-child th {\n",
       "        text-align: right;\n",
       "    }\n",
       "\n",
       "    .dataframe thead th {\n",
       "        text-align: left;\n",
       "    }\n",
       "\n",
       "    .dataframe tbody tr th {\n",
       "        vertical-align: top;\n",
       "    }\n",
       "</style>\n",
       "<table border=\"1\" class=\"dataframe\">\n",
       "  <thead>\n",
       "    <tr style=\"text-align: right;\">\n",
       "      <th></th>\n",
       "      <th>eventId</th>\n",
       "      <th>eventName</th>\n",
       "      <th>eventSec</th>\n",
       "      <th>id</th>\n",
       "      <th>matchId</th>\n",
       "      <th>matchPeriod</th>\n",
       "      <th>playerId</th>\n",
       "      <th>positions</th>\n",
       "      <th>subEventId</th>\n",
       "      <th>subEventName</th>\n",
       "      <th>tags</th>\n",
       "      <th>teamId</th>\n",
       "      <th>success</th>\n",
       "      <th>pass_start_x</th>\n",
       "      <th>pass_start_y</th>\n",
       "      <th>pass_end_x</th>\n",
       "      <th>pass_end_y</th>\n",
       "      <th>pass_start_x_squared</th>\n",
       "      <th>pass_start_y_squared</th>\n",
       "      <th>start_coords_product</th>\n",
       "    </tr>\n",
       "  </thead>\n",
       "  <tbody>\n",
       "    <tr>\n",
       "      <th>15</th>\n",
       "      <td>8</td>\n",
       "      <td>Pass</td>\n",
       "      <td>32.805618</td>\n",
       "      <td>177959202</td>\n",
       "      <td>2499719</td>\n",
       "      <td>1H</td>\n",
       "      <td>14853</td>\n",
       "      <td>[{'y': 5, 'x': 23}, {'y': 19, 'x': 63}]</td>\n",
       "      <td>83</td>\n",
       "      <td>High pass</td>\n",
       "      <td>[{'id': 1802}]</td>\n",
       "      <td>1631</td>\n",
       "      <td>False</td>\n",
       "      <td>23</td>\n",
       "      <td>5</td>\n",
       "      <td>63</td>\n",
       "      <td>19</td>\n",
       "      <td>529</td>\n",
       "      <td>25</td>\n",
       "      <td>115</td>\n",
       "    </tr>\n",
       "    <tr>\n",
       "      <th>16</th>\n",
       "      <td>8</td>\n",
       "      <td>Pass</td>\n",
       "      <td>35.685082</td>\n",
       "      <td>177959184</td>\n",
       "      <td>2499719</td>\n",
       "      <td>1H</td>\n",
       "      <td>370224</td>\n",
       "      <td>[{'y': 81, 'x': 37}, {'y': 95, 'x': 45}]</td>\n",
       "      <td>82</td>\n",
       "      <td>Head pass</td>\n",
       "      <td>[{'id': 1802}]</td>\n",
       "      <td>1609</td>\n",
       "      <td>False</td>\n",
       "      <td>37</td>\n",
       "      <td>81</td>\n",
       "      <td>45</td>\n",
       "      <td>95</td>\n",
       "      <td>1369</td>\n",
       "      <td>6561</td>\n",
       "      <td>2997</td>\n",
       "    </tr>\n",
       "    <tr>\n",
       "      <th>17</th>\n",
       "      <td>8</td>\n",
       "      <td>Pass</td>\n",
       "      <td>36.661264</td>\n",
       "      <td>177959204</td>\n",
       "      <td>2499719</td>\n",
       "      <td>1H</td>\n",
       "      <td>14763</td>\n",
       "      <td>[{'y': 5, 'x': 55}, {'y': 22, 'x': 67}]</td>\n",
       "      <td>82</td>\n",
       "      <td>Head pass</td>\n",
       "      <td>[{'id': 1801}]</td>\n",
       "      <td>1631</td>\n",
       "      <td>True</td>\n",
       "      <td>55</td>\n",
       "      <td>5</td>\n",
       "      <td>67</td>\n",
       "      <td>22</td>\n",
       "      <td>3025</td>\n",
       "      <td>25</td>\n",
       "      <td>275</td>\n",
       "    </tr>\n",
       "  </tbody>\n",
       "</table>\n",
       "</div>"
      ],
      "text/plain": [
       "    eventId eventName   eventSec         id  matchId matchPeriod  playerId  \\\n",
       "15        8      Pass  32.805618  177959202  2499719          1H     14853   \n",
       "16        8      Pass  35.685082  177959184  2499719          1H    370224   \n",
       "17        8      Pass  36.661264  177959204  2499719          1H     14763   \n",
       "\n",
       "                                   positions subEventId subEventName  \\\n",
       "15   [{'y': 5, 'x': 23}, {'y': 19, 'x': 63}]         83    High pass   \n",
       "16  [{'y': 81, 'x': 37}, {'y': 95, 'x': 45}]         82    Head pass   \n",
       "17   [{'y': 5, 'x': 55}, {'y': 22, 'x': 67}]         82    Head pass   \n",
       "\n",
       "              tags  teamId  success  pass_start_x  pass_start_y  pass_end_x  \\\n",
       "15  [{'id': 1802}]    1631    False            23             5          63   \n",
       "16  [{'id': 1802}]    1609    False            37            81          45   \n",
       "17  [{'id': 1801}]    1631     True            55             5          67   \n",
       "\n",
       "    pass_end_y  pass_start_x_squared  pass_start_y_squared  \\\n",
       "15          19                   529                    25   \n",
       "16          95                  1369                  6561   \n",
       "17          22                  3025                    25   \n",
       "\n",
       "    start_coords_product  \n",
       "15                   115  \n",
       "16                  2997  \n",
       "17                   275  "
      ]
     },
     "execution_count": 21,
     "metadata": {},
     "output_type": "execute_result"
    }
   ],
   "source": [
    "pass_data.iloc[15:18]"
   ]
  },
  {
   "cell_type": "code",
   "execution_count": 604,
   "metadata": {
    "collapsed": true
   },
   "outputs": [],
   "source": [
    "x_start_metres = pass_data['pass_start_x'] * 105 / 100\n",
    "y_start_metres = pass_data['pass_start_y'] * 65 / 100"
   ]
  },
  {
   "cell_type": "markdown",
   "metadata": {},
   "source": [
    "# How does position on the pitch contribute?\n",
    "\n",
    "Let's start by simply plotting a heatmap of pass start co-ordinates for all passes, completed passes and uncompleted passes to see how these differ. We expect to see more passes fail higher up the pitch and from positions where balls are typically played into the box (ie, crosses, through balls, etc)."
   ]
  },
  {
   "cell_type": "code",
   "execution_count": 602,
   "metadata": {},
   "outputs": [],
   "source": [
    "def plot_event_heatmap(y_events, x_events, title, no_of_bins=10):\n",
    "    \"\"\"\n",
    "    Given series of event positions (one series for y and one for x coordinates) plot a heatmap \n",
    "    for those events, with the pitch split into no_of_bins by no_of_bins areas\n",
    "    \"\"\"\n",
    "    histogram_values = np.histogram2d(y_events, x_events, bins=no_of_bins, range=[[0, 65],[0, 105]])\n",
    "    fig, ax = FCPython.createPitch(105, 65, 'meters', 'black')\n",
    "    pos=ax.imshow(histogram_values[0], extent=(0, 105, 0, 65), aspect='auto', cmap=plt.cm.Reds)\n",
    "    fig.colorbar(pos, ax=ax)\n",
    "    ax.set_title(title)\n",
    "    plt.tight_layout()\n",
    "    plt.gca().set_aspect('equal', adjustable='box')\n",
    "    plt.show()"
   ]
  },
  {
   "cell_type": "code",
   "execution_count": 605,
   "metadata": {},
   "outputs": [
    {
     "data": {
      "image/png": "[encoded data removed]",
      "text/plain": [
       "<matplotlib.figure.Figure at 0x2e36bbd9128>"
      ]
     },
     "metadata": {},
     "output_type": "display_data"
    }
   ],
   "source": [
    "plot_event_heatmap(y_start_metres, x_start_metres, 'Number of passes')"
   ]
  },
  {
   "cell_type": "code",
   "execution_count": 606,
   "metadata": {},
   "outputs": [
    {
     "data": {
      "image/png": "[encoded data removed]",
      "text/plain": [
       "<matplotlib.figure.Figure at 0x2e36c2c91d0>"
      ]
     },
     "metadata": {},
     "output_type": "display_data"
    }
   ],
   "source": [
    "plot_event_heatmap(y_start_metres[pass_data['success']], \n",
    "                   x_start_metres[pass_data['success']], \n",
    "                   'Number of passes successful')"
   ]
  },
  {
   "cell_type": "code",
   "execution_count": 607,
   "metadata": {},
   "outputs": [
    {
     "data": {
      "image/png": "[encoded data removed]",
      "text/plain": [
       "<matplotlib.figure.Figure at 0x2e36bcf5358>"
      ]
     },
     "metadata": {},
     "output_type": "display_data"
    }
   ],
   "source": [
    "plot_event_heatmap(y_start_metres[~pass_data['success']], \n",
    "                   x_start_metres[~pass_data['success']], \n",
    "                   'Number of passes not successful')"
   ]
  },
  {
   "cell_type": "markdown",
   "metadata": {},
   "source": [
    "# Investigating correlation between coordinates and success\n",
    "\n",
    "Lets plot scatters to see what the relationships look like, then create our first model of pass success."
   ]
  },
  {
   "cell_type": "code",
   "execution_count": 82,
   "metadata": {
    "collapsed": true
   },
   "outputs": [],
   "source": [
    "def plot_relationship_scatter(pass_data, variable_to_plot, curve_parameters=None, title=None):\n",
    "    \"\"\"\n",
    "    Plot the relationship between the variable to plot and the probability of a pass success, based on the data\n",
    "    provided in the pass_data DataFrame.\n",
    "    If curve_parameters is also present, then plot the logistic regression curve with these values too\n",
    "    \n",
    "    Parameters\n",
    "    ----------\n",
    "    pass_data (pd.DataFrame)\n",
    "        DataFrame containing event data relating to passes, detailing whether each pass is successful, and \n",
    "        containing the variable to plot\n",
    "    \n",
    "    variable_to_plot (str)\n",
    "        The name of a field in the pass_data for which to plot a relationship between it and pass success probability\n",
    "    \n",
    "    curve_parameters (list)\n",
    "        Optional. Parameters for a logistic regression to plot.\n",
    "    \n",
    "    title (str)\n",
    "        Optional. If provided, include as a title for the plot\n",
    "    \"\"\"\n",
    "    passcount_dist = np.histogram(pass_data[variable_to_plot], bins=40, range=[0, 100])\n",
    "    successcount_dist = np.histogram(pass_data[pass_data['success']][variable_to_plot], bins=40, range=[0, 100])\n",
    "    prob_success = np.divide(successcount_dist[0], passcount_dist[0])\n",
    "    variable_vals = passcount_dist[1]\n",
    "    mid_variable_vals = (variable_vals[:-1] + variable_vals[1:]) / 2\n",
    "    \n",
    "    fig, ax = plt.subplots(num=2)\n",
    "    ax.plot(mid_variable_vals, prob_success, linestyle='none', marker= '.', markerSize= 12, color='black')\n",
    "    \n",
    "    if curve_parameters is not None:\n",
    "        exponential_value = np.array([0.0] * len(mid_variable_vals))\n",
    "        for i, param  in enumerate(curve_parameters):\n",
    "            exponential_value += param * pow(mid_variable_vals, i)\n",
    "        xPass_prob = 1 / (1 + np.exp(exponential_value))\n",
    "        ax.plot(mid_variable_vals, xPass_prob, linestyle='solid', color='black')\n",
    "    \n",
    "    ax.set_ylabel('Probability pass success')\n",
    "    ax.set_xlabel(variable_to_plot)\n",
    "    ax.spines['top'].set_visible(False)\n",
    "    ax.spines['right'].set_visible(False)\n",
    "    \n",
    "    if title:\n",
    "        plt.title(title)\n",
    "        \n",
    "    plt.show()"
   ]
  },
  {
   "cell_type": "code",
   "execution_count": 85,
   "metadata": {},
   "outputs": [
    {
     "data": {
      "image/png": "[encoded data removed]",
      "text/plain": [
       "<matplotlib.figure.Figure at 0x2e2da3e86a0>"
      ]
     },
     "metadata": {},
     "output_type": "display_data"
    }
   ],
   "source": [
    "plot_relationship_scatter(pass_data, 'pass_start_x',\n",
    "                         title='Probability of pass success based on position in length of pitch')"
   ]
  },
  {
   "cell_type": "markdown",
   "metadata": {},
   "source": [
    "In the x-direction (ie, along the length of the pitch) this confirms what we can see in the plot of the pitch above:\n",
    "* Near a team's own goal line passes have a middling probability of success. Here passes may be defensive clearances\n",
    "* In the middle of the park, passes are most likely to be successful. Here teams are more likely to have the ball under less pressure from opponents\n",
    "* In the final third probability of pass success increases. Passes need to be more creative here to break through an opponent defensive line, and many will be crosses which tend to be less successful.\n",
    "\n",
    "This looks like a quadratic relationship, so likely that including x<sup>2</sup> will improve the model"
   ]
  },
  {
   "cell_type": "code",
   "execution_count": 83,
   "metadata": {},
   "outputs": [
    {
     "data": {
      "image/png": "[encoded data removed]",
      "text/plain": [
       "<matplotlib.figure.Figure at 0x2e335c72828>"
      ]
     },
     "metadata": {},
     "output_type": "display_data"
    }
   ],
   "source": [
    "plot_relationship_scatter(pass_data, 'pass_start_y', \n",
    "                          title='Probability of pass success based on position in width of pitch')"
   ]
  },
  {
   "cell_type": "markdown",
   "metadata": {},
   "source": [
    "In the y-direction (ie, along the width of the pitch):\n",
    "* Passes are less likely to be successful nearer the touch lines. This is not surprising as here we're more likely to see crosses, or other balls into the box\n",
    "* Passes are more likely to be successful in the centre of the width. Based on the heatmaps above these are likely to be dominated by passes in the centre of the park, where there is often an emphasis on keeping posession.\n",
    "\n",
    "This looks like a quadratic relationship, so likely that including y<sup>2</sup> will improve the model"
   ]
  },
  {
   "cell_type": "markdown",
   "metadata": {},
   "source": [
    "# Fitting a logistic regression to variables derived from single variables\n",
    "\n",
    "Based on what we see in the plots above we should look into logistic regression for x, x<sup>2</sup>, y and y<sup>2</sup>"
   ]
  },
  {
   "cell_type": "code",
   "execution_count": 49,
   "metadata": {
    "collapsed": true
   },
   "outputs": [],
   "source": [
    "def calculate_and_plot_logistic_polynomial_regression_curve(pass_data, variables=list(), plot=True):\n",
    "    \"\"\"\n",
    "    Calculate and print logistic regression model for variables provided, and optionally plot curve with real data\n",
    "    \n",
    "    Parameters\n",
    "    ----------\n",
    "    pass_data (pd.DataFrame)\n",
    "        DataFrame containing event data relating to passes, detailing whether each pass is successful, and \n",
    "        containing the variables for the logistic regression\n",
    "    \n",
    "    variables (list)\n",
    "        Fields in the DataFrame to use in logistic regression model\n",
    "    \n",
    "    plot (bool)\n",
    "        Whether to product a plot. If making a plot it must either be for a single variable model or for a model\n",
    "        where all variables are powers of a single variable\n",
    "        \n",
    "    \"\"\"\n",
    "    test_model = smf.glm(formula=f\"success ~ {' + '.join(variables)}\", data=pass_data, \n",
    "                         family=sm.families.Binomial()).fit()\n",
    "    print(test_model.summary())\n",
    "    if plot:\n",
    "        plot_relationship_scatter(pass_data, variables[0], curve_parameters=test_model.params)\n",
    "    \n",
    "    return test_model.params"
   ]
  },
  {
   "cell_type": "code",
   "execution_count": 31,
   "metadata": {},
   "outputs": [
    {
     "name": "stdout",
     "output_type": "stream",
     "text": [
      "                          Generalized Linear Model Regression Results                          \n",
      "===============================================================================================\n",
      "Dep. Variable:     ['success[False]', 'success[True]']   No. Observations:              1665506\n",
      "Model:                                             GLM   Df Residuals:                  1665504\n",
      "Model Family:                                 Binomial   Df Model:                            1\n",
      "Link Function:                                   logit   Scale:                             1.0\n",
      "Method:                                           IRLS   Log-Likelihood:            -7.5385e+05\n",
      "Date:                                 Sun, 13 Sep 2020   Deviance:                   1.5077e+06\n",
      "Time:                                         18:31:01   Pearson chi2:                 1.68e+06\n",
      "No. Iterations:                                      5                                         \n",
      "================================================================================\n",
      "                   coef    std err          z      P>|z|      [0.025      0.975]\n",
      "--------------------------------------------------------------------------------\n",
      "Intercept       -2.1396      0.005   -398.328      0.000      -2.150      -2.129\n",
      "pass_start_x     0.0112   9.64e-05    116.335      0.000       0.011       0.011\n",
      "================================================================================\n"
     ]
    },
    {
     "data": {
      "image/png": "[encoded data removed]",
      "text/plain": [
       "<matplotlib.figure.Figure at 0x2e2095d5f98>"
      ]
     },
     "metadata": {},
     "output_type": "display_data"
    }
   ],
   "source": [
    "calculate_and_plot_logistic_polynomial_regression_curve(pass_data, ['pass_start_x'])"
   ]
  },
  {
   "cell_type": "markdown",
   "metadata": {},
   "source": [
    "This doesn't look great, let's have a look at what happens if we include x<sup>2</sup> too"
   ]
  },
  {
   "cell_type": "code",
   "execution_count": 32,
   "metadata": {
    "collapsed": true
   },
   "outputs": [],
   "source": [
    "# pass_data['pass_start_x_squared'] = pass_data['pass_start_x']**2\n",
    "# pass_data['pass_start_y_squared'] = pass_data['pass_start_y']**2"
   ]
  },
  {
   "cell_type": "code",
   "execution_count": 33,
   "metadata": {},
   "outputs": [
    {
     "name": "stdout",
     "output_type": "stream",
     "text": [
      "                          Generalized Linear Model Regression Results                          \n",
      "===============================================================================================\n",
      "Dep. Variable:     ['success[False]', 'success[True]']   No. Observations:              1665506\n",
      "Model:                                             GLM   Df Residuals:                  1665503\n",
      "Model Family:                                 Binomial   Df Model:                            2\n",
      "Link Function:                                   logit   Scale:                             1.0\n",
      "Method:                                           IRLS   Log-Likelihood:            -7.3285e+05\n",
      "Date:                                 Sun, 13 Sep 2020   Deviance:                   1.4657e+06\n",
      "Time:                                         18:31:13   Pearson chi2:                 1.67e+06\n",
      "No. Iterations:                                      5                                         \n",
      "========================================================================================\n",
      "                           coef    std err          z      P>|z|      [0.025      0.975]\n",
      "----------------------------------------------------------------------------------------\n",
      "Intercept               -0.6102      0.008    -72.669      0.000      -0.627      -0.594\n",
      "pass_start_x            -0.0649      0.000   -176.175      0.000      -0.066      -0.064\n",
      "pass_start_x_squared     0.0008   3.58e-06    210.103      0.000       0.001       0.001\n",
      "========================================================================================\n"
     ]
    },
    {
     "data": {
      "image/png": "[encoded data removed]",
      "text/plain": [
       "<matplotlib.figure.Figure at 0x2e2d9a46780>"
      ]
     },
     "metadata": {},
     "output_type": "display_data"
    }
   ],
   "source": [
    "calculate_and_plot_logistic_polynomial_regression_curve(pass_data, ['pass_start_x', 'pass_start_x_squared'])"
   ]
  },
  {
   "cell_type": "code",
   "execution_count": 34,
   "metadata": {},
   "outputs": [
    {
     "name": "stdout",
     "output_type": "stream",
     "text": [
      "                          Generalized Linear Model Regression Results                          \n",
      "===============================================================================================\n",
      "Dep. Variable:     ['success[False]', 'success[True]']   No. Observations:              1665506\n",
      "Model:                                             GLM   Df Residuals:                  1665504\n",
      "Model Family:                                 Binomial   Df Model:                            1\n",
      "Link Function:                                   logit   Scale:                             1.0\n",
      "Method:                                           IRLS   Log-Likelihood:            -7.6056e+05\n",
      "Date:                                 Sun, 13 Sep 2020   Deviance:                   1.5211e+06\n",
      "Time:                                         18:31:21   Pearson chi2:                 1.67e+06\n",
      "No. Iterations:                                      4                                         \n",
      "================================================================================\n",
      "                   coef    std err          z      P>|z|      [0.025      0.975]\n",
      "--------------------------------------------------------------------------------\n",
      "Intercept       -1.6371      0.004   -393.291      0.000      -1.645      -1.629\n",
      "pass_start_y     0.0011   7.17e-05     15.354      0.000       0.001       0.001\n",
      "================================================================================\n"
     ]
    },
    {
     "data": {
      "image/png": "[encoded data removed]",
      "text/plain": [
       "<matplotlib.figure.Figure at 0x2e209a86940>"
      ]
     },
     "metadata": {},
     "output_type": "display_data"
    }
   ],
   "source": [
    "calculate_and_plot_logistic_polynomial_regression_curve(pass_data, ['pass_start_y'])"
   ]
  },
  {
   "cell_type": "markdown",
   "metadata": {},
   "source": [
    "As was the case for x, this is pretty terrible. But we always thought a quadratic may make more sense. Let's look into that."
   ]
  },
  {
   "cell_type": "code",
   "execution_count": 35,
   "metadata": {},
   "outputs": [
    {
     "name": "stdout",
     "output_type": "stream",
     "text": [
      "                          Generalized Linear Model Regression Results                          \n",
      "===============================================================================================\n",
      "Dep. Variable:     ['success[False]', 'success[True]']   No. Observations:              1665506\n",
      "Model:                                             GLM   Df Residuals:                  1665503\n",
      "Model Family:                                 Binomial   Df Model:                            2\n",
      "Link Function:                                   logit   Scale:                             1.0\n",
      "Method:                                           IRLS   Log-Likelihood:            -7.5422e+05\n",
      "Date:                                 Sun, 13 Sep 2020   Deviance:                   1.5084e+06\n",
      "Time:                                         18:31:37   Pearson chi2:                 1.67e+06\n",
      "No. Iterations:                                      5                                         \n",
      "========================================================================================\n",
      "                           coef    std err          z      P>|z|      [0.025      0.975]\n",
      "----------------------------------------------------------------------------------------\n",
      "Intercept               -1.1045      0.006   -182.667      0.000      -1.116      -1.093\n",
      "pass_start_y            -0.0316      0.000   -106.632      0.000      -0.032      -0.031\n",
      "pass_start_y_squared     0.0003   2.87e-06    113.309      0.000       0.000       0.000\n",
      "========================================================================================\n"
     ]
    },
    {
     "data": {
      "image/png": "[encoded data removed]",
      "text/plain": [
       "<matplotlib.figure.Figure at 0x2e25bc90748>"
      ]
     },
     "metadata": {},
     "output_type": "display_data"
    }
   ],
   "source": [
    "calculate_and_plot_logistic_polynomial_regression_curve(pass_data, ['pass_start_y', 'pass_start_y_squared'])"
   ]
  },
  {
   "cell_type": "markdown",
   "metadata": {
    "collapsed": true
   },
   "source": [
    "# Fitting a logistic regression to variables derived from many base variables\n",
    "\n",
    "We have seen that a logistic regression using pass start co-ordinates and pass start co-ordinates squared fit the probability scatters well when we use just a single variable.\n",
    "Now let's look at what happens for combinations of these variables:\n",
    "* x_start + y_start\n",
    "* x_start + x_start<sup>2</sup> + y_start + x_start<sup>2</sup>\n",
    "* x_start + x_start<sup>2</sup> + y_start + x_start<sup>2</sup> + x_start * y_start"
   ]
  },
  {
   "cell_type": "code",
   "execution_count": 182,
   "metadata": {
    "collapsed": true
   },
   "outputs": [],
   "source": [
    "def fit_logistic_regression_model(pass_data, variables=list()):\n",
    "    \"\"\"\n",
    "    Calculate and print logistic regression model for variables provided, and optionally plot curve with real data\n",
    "    \n",
    "    Parameters\n",
    "    ----------\n",
    "    pass_data (pd.DataFrame)\n",
    "        DataFrame containing event data relating to passes, detailing whether each pass is successful, and \n",
    "        containing the variables for the logistic regression\n",
    "    \n",
    "    variables (list)\n",
    "        Fields in the DataFrame to use in logistic regression model\n",
    "    \n",
    "    plot (bool)\n",
    "        Whether to product a plot. If making a plot it must either be for a single variable model or for a model\n",
    "        where all variables are powers of a single variable\n",
    "        \n",
    "    \"\"\"\n",
    "    test_model = smf.glm(formula=f\"success ~ {' + '.join(variables)}\", data=pass_data, \n",
    "                         family=sm.families.Binomial()).fit()\n",
    "    print(test_model.summary())\n",
    "    \n",
    "    return test_model.params"
   ]
  },
  {
   "cell_type": "code",
   "execution_count": 183,
   "metadata": {
    "collapsed": true
   },
   "outputs": [],
   "source": [
    "def calculate_xPass(pass_to_evaluate, model_parameters): \n",
    "    \"\"\"\n",
    "    Given a row of event data for a pass, b_values for a logistic regression and \n",
    "    the model variables, calculate the xPass for the pass.\n",
    "    \"\"\"\n",
    "    bsum = model_parameters[0]\n",
    "    for i in model_parameters[1:].index:\n",
    "        variable_name = i.split('[')[0]\n",
    "        b_val = model_parameters[i]\n",
    "        bsum = bsum + b_val * pass_to_evaluate[variable_name]\n",
    "    \n",
    "    xPass = 1 / (1 + np.exp(bsum))\n",
    "\n",
    "    return xPass"
   ]
  },
  {
   "cell_type": "code",
   "execution_count": 184,
   "metadata": {
    "collapsed": true
   },
   "outputs": [],
   "source": [
    "def plot_calibration_curve(pass_data_with_predictions, save_plot=False):\n",
    "    \"\"\"\n",
    "    Plot calibration curve - given pass data with predictions produce plot to show how\n",
    "    well calibrated the model that made those predictions is\n",
    "    \"\"\"\n",
    "    \n",
    "    plt.figure(figsize=(10, 10))\n",
    "    ax1 = plt.subplot2grid((3, 1), (0, 0), rowspan=2)\n",
    "    ax1.plot([0, 1], [0, 1], \"k:\", label=\"Perfectly calibrated\")\n",
    "    fraction_of_positives, mean_predicted_value = calibration_curve(pass_data_with_predictions['success'],\n",
    "                                                                    pass_data_with_predictions['xPass'],\n",
    "                                                                    n_bins=10)\n",
    "    ax1.plot(mean_predicted_value, fraction_of_positives, \"s-\",\n",
    "             label=\"model\")\n",
    "    ax1.set_ylabel(\"Fraction of positives\")\n",
    "    ax1.set_ylim([-0.05, 1.05])\n",
    "    ax1.legend(loc=\"lower right\")\n",
    "    ax1.set_title('Calibration plots  (reliability curve)')\n",
    "    \n",
    "    if save_plot:\n",
    "        plt.savefig('Output/calibration_curve.pdf', dpi=300, bbox_inches=\"tight\")\n",
    "    plt.show()"
   ]
  },
  {
   "cell_type": "code",
   "execution_count": 194,
   "metadata": {
    "collapsed": true
   },
   "outputs": [],
   "source": [
    "def fit_and_evaluate_model(pass_data, model_variables):\n",
    "    \"\"\"\n",
    "    Given a feature vector for pass data, and a list of variables from that vector to \n",
    "    use in the model:\n",
    "        * fit a logistic regression\n",
    "        * calculate xPass for the rows in the pass data\n",
    "        * plot a calibration curve to see how well calibrated model is\n",
    "    \n",
    "    Return pass data with xPass as an additional field\n",
    "    \"\"\"\n",
    "    \n",
    "    pass_data = pass_data.copy()\n",
    "    \n",
    "    model_params = fit_logistic_regression_model(pass_data, model_variables)\n",
    "    pass_data['xPass'] = pass_data.apply(lambda x: calculate_xPass(x, model_params), axis=1)\n",
    "    plot_calibration_curve(pass_data)\n",
    "    \n",
    "    return pass_data"
   ]
  },
  {
   "cell_type": "code",
   "execution_count": 195,
   "metadata": {},
   "outputs": [
    {
     "name": "stdout",
     "output_type": "stream",
     "text": [
      "                          Generalized Linear Model Regression Results                          \n",
      "===============================================================================================\n",
      "Dep. Variable:     ['success[False]', 'success[True]']   No. Observations:              1665506\n",
      "Model:                                             GLM   Df Residuals:                  1665503\n",
      "Model Family:                                 Binomial   Df Model:                            2\n",
      "Link Function:                                   logit   Scale:                             1.0\n",
      "Method:                                           IRLS   Log-Likelihood:            -7.5374e+05\n",
      "Date:                                 Sat, 19 Sep 2020   Deviance:                   1.5075e+06\n",
      "Time:                                         16:21:23   Pearson chi2:                 1.68e+06\n",
      "No. Iterations:                                      5                                         \n",
      "================================================================================\n",
      "                   coef    std err          z      P>|z|      [0.025      0.975]\n",
      "--------------------------------------------------------------------------------\n",
      "Intercept       -2.1914      0.006   -340.517      0.000      -2.204      -2.179\n",
      "pass_start_x     0.0112   9.64e-05    116.249      0.000       0.011       0.011\n",
      "pass_start_y     0.0010    7.1e-05     14.683      0.000       0.001       0.001\n",
      "================================================================================\n"
     ]
    },
    {
     "data": {
      "image/png": "[encoded data removed]",
      "text/plain": [
       "<matplotlib.figure.Figure at 0x2e330b3c198>"
      ]
     },
     "metadata": {},
     "output_type": "display_data"
    }
   ],
   "source": [
    "pass_data_for_simplest_model = fit_and_evaluate_model(pass_data,\n",
    "                                                      ['pass_start_x', 'pass_start_y'])"
   ]
  },
  {
   "cell_type": "code",
   "execution_count": 196,
   "metadata": {},
   "outputs": [
    {
     "name": "stdout",
     "output_type": "stream",
     "text": [
      "                          Generalized Linear Model Regression Results                          \n",
      "===============================================================================================\n",
      "Dep. Variable:     ['success[False]', 'success[True]']   No. Observations:              1665506\n",
      "Model:                                             GLM   Df Residuals:                  1665501\n",
      "Model Family:                                 Binomial   Df Model:                            4\n",
      "Link Function:                                   logit   Scale:                             1.0\n",
      "Method:                                           IRLS   Log-Likelihood:            -7.2937e+05\n",
      "Date:                                 Sat, 19 Sep 2020   Deviance:                   1.4587e+06\n",
      "Time:                                         16:28:43   Pearson chi2:                 1.67e+06\n",
      "No. Iterations:                                      5                                         \n",
      "========================================================================================\n",
      "                           coef    std err          z      P>|z|      [0.025      0.975]\n",
      "----------------------------------------------------------------------------------------\n",
      "Intercept               -0.1721      0.011    -15.888      0.000      -0.193      -0.151\n",
      "pass_start_x            -0.0659      0.000   -178.041      0.000      -0.067      -0.065\n",
      "pass_start_y            -0.0242      0.000    -77.798      0.000      -0.025      -0.024\n",
      "pass_start_x_squared     0.0007   3.59e-06    207.075      0.000       0.001       0.001\n",
      "pass_start_y_squared     0.0003   3.02e-06     82.842      0.000       0.000       0.000\n",
      "========================================================================================\n"
     ]
    },
    {
     "data": {
      "image/png": "[encoded data removed]",
      "text/plain": [
       "<matplotlib.figure.Figure at 0x2e36b427f98>"
      ]
     },
     "metadata": {},
     "output_type": "display_data"
    }
   ],
   "source": [
    "pass_data_for_coordinates_squared = fit_and_evaluate_model(\n",
    "    pass_data, ['pass_start_x', 'pass_start_y', 'pass_start_x_squared', 'pass_start_y_squared'])"
   ]
  },
  {
   "cell_type": "markdown",
   "metadata": {},
   "source": [
    "The p-value is 0 for all of these variables so we have a good fit here"
   ]
  },
  {
   "cell_type": "code",
   "execution_count": 197,
   "metadata": {},
   "outputs": [
    {
     "name": "stdout",
     "output_type": "stream",
     "text": [
      "                          Generalized Linear Model Regression Results                          \n",
      "===============================================================================================\n",
      "Dep. Variable:     ['success[False]', 'success[True]']   No. Observations:              1665506\n",
      "Model:                                             GLM   Df Residuals:                  1665500\n",
      "Model Family:                                 Binomial   Df Model:                            5\n",
      "Link Function:                                   logit   Scale:                             1.0\n",
      "Method:                                           IRLS   Log-Likelihood:            -7.2937e+05\n",
      "Date:                                 Sat, 19 Sep 2020   Deviance:                   1.4587e+06\n",
      "Time:                                         16:36:41   Pearson chi2:                 1.67e+06\n",
      "No. Iterations:                                      5                                         \n",
      "========================================================================================\n",
      "                           coef    std err          z      P>|z|      [0.025      0.975]\n",
      "----------------------------------------------------------------------------------------\n",
      "Intercept               -0.1991      0.014    -14.730      0.000      -0.226      -0.173\n",
      "pass_start_x            -0.0654      0.000   -164.313      0.000      -0.066      -0.065\n",
      "pass_start_y            -0.0236      0.000    -67.633      0.000      -0.024      -0.023\n",
      "pass_start_x_squared     0.0007   3.59e-06    207.088      0.000       0.001       0.001\n",
      "pass_start_y_squared     0.0003   3.02e-06     82.854      0.000       0.000       0.000\n",
      "start_coords_product -9.793e-06   2.92e-06     -3.353      0.001   -1.55e-05   -4.07e-06\n",
      "========================================================================================\n"
     ]
    },
    {
     "data": {
      "image/png": "[encoded data removed]",
      "text/plain": [
       "<matplotlib.figure.Figure at 0x2e3547b6ef0>"
      ]
     },
     "metadata": {},
     "output_type": "display_data"
    }
   ],
   "source": [
    "pass_data_for_coord_product = fit_and_evaluate_model(\n",
    "    pass_data,\n",
    "    ['pass_start_x', 'pass_start_y', 'pass_start_x_squared', 'pass_start_y_squared', 'start_coords_product'])"
   ]
  },
  {
   "cell_type": "markdown",
   "metadata": {},
   "source": [
    "The p-value for start_coords_product is 0.001 so looks like this is also predictive"
   ]
  },
  {
   "cell_type": "markdown",
   "metadata": {},
   "source": [
    "Let's also look at what happens if we include pass type in our model"
   ]
  },
  {
   "cell_type": "code",
   "execution_count": 198,
   "metadata": {},
   "outputs": [
    {
     "name": "stdout",
     "output_type": "stream",
     "text": [
      "                          Generalized Linear Model Regression Results                          \n",
      "===============================================================================================\n",
      "Dep. Variable:     ['success[False]', 'success[True]']   No. Observations:              1665506\n",
      "Model:                                             GLM   Df Residuals:                  1665494\n",
      "Model Family:                                 Binomial   Df Model:                           11\n",
      "Link Function:                                   logit   Scale:                             1.0\n",
      "Method:                                           IRLS   Log-Likelihood:            -6.1527e+05\n",
      "Date:                                 Sat, 19 Sep 2020   Deviance:                   1.2305e+06\n",
      "Time:                                         16:45:33   Pearson chi2:                 1.65e+06\n",
      "No. Iterations:                                      6                                         \n",
      "========================================================================================\n",
      "                           coef    std err          z      P>|z|      [0.025      0.975]\n",
      "----------------------------------------------------------------------------------------\n",
      "Intercept               -0.2549      0.015    -17.552      0.000      -0.283      -0.226\n",
      "simple_pass[T.True]     -1.5832      0.008   -202.550      0.000      -1.599      -1.568\n",
      "high_pass[T.True]        0.5834      0.009     67.164      0.000       0.566       0.600\n",
      "head_pass[T.True]        0.2953      0.009     31.866      0.000       0.277       0.313\n",
      "smart_pass[T.True]       1.0806      0.013     83.883      0.000       1.055       1.106\n",
      "launch[T.True]           0.7866      0.011     72.088      0.000       0.765       0.808\n",
      "cross[T.True]            0.9638      0.012     81.851      0.000       0.941       0.987\n",
      "hand_pass[T.True]       -2.3814      0.042    -56.099      0.000      -2.465      -2.298\n",
      "pass_start_x            -0.0141      0.001    -27.995      0.000      -0.015      -0.013\n",
      "pass_start_y            -0.0281      0.000    -72.176      0.000      -0.029      -0.027\n",
      "pass_start_x_squared     0.0002   4.74e-06     45.071      0.000       0.000       0.000\n",
      "pass_start_y_squared     0.0003   3.37e-06     85.453      0.000       0.000       0.000\n",
      "start_coords_product -7.165e-06   3.32e-06     -2.158      0.031   -1.37e-05   -6.58e-07\n",
      "========================================================================================\n"
     ]
    },
    {
     "data": {
      "image/png": "[encoded data removed]",
      "text/plain": [
       "<matplotlib.figure.Figure at 0x2e42b59bf60>"
      ]
     },
     "metadata": {},
     "output_type": "display_data"
    }
   ],
   "source": [
    "pass_data_for_pass_type = fit_and_evaluate_model(\n",
    "    pass_data, \n",
    "    ['pass_start_x', 'pass_start_y', 'pass_start_x_squared', 'pass_start_y_squared', \n",
    "     'start_coords_product', 'simple_pass', 'high_pass', 'head_pass',\n",
    "     'smart_pass', 'launch', 'cross', 'hand_pass'])"
   ]
  },
  {
   "cell_type": "markdown",
   "metadata": {},
   "source": [
    "If we also inlcude fields for pass type these also correlate with pass success, with p-value zero"
   ]
  },
  {
   "cell_type": "code",
   "execution_count": 383,
   "metadata": {},
   "outputs": [
    {
     "name": "stdout",
     "output_type": "stream",
     "text": [
      "                          Generalized Linear Model Regression Results                          \n",
      "===============================================================================================\n",
      "Dep. Variable:     ['success[False]', 'success[True]']   No. Observations:              1665506\n",
      "Model:                                             GLM   Df Residuals:                  1665488\n",
      "Model Family:                                 Binomial   Df Model:                           17\n",
      "Link Function:                                   logit   Scale:                             1.0\n",
      "Method:                                           IRLS   Log-Likelihood:            -6.0272e+05\n",
      "Date:                                 Sat, 19 Sep 2020   Deviance:                   1.2054e+06\n",
      "Time:                                         21:40:05   Pearson chi2:                 1.65e+06\n",
      "No. Iterations:                                      6                                         \n",
      "==============================================================================================\n",
      "                                 coef    std err          z      P>|z|      [0.025      0.975]\n",
      "----------------------------------------------------------------------------------------------\n",
      "Intercept                     -1.3556      0.033    -40.825      0.000      -1.421      -1.291\n",
      "simple_pass[T.True]           -1.5111      0.009   -159.152      0.000      -1.530      -1.492\n",
      "high_pass[T.True]              0.2770      0.010     27.796      0.000       0.257       0.297\n",
      "head_pass[T.True]              0.2728      0.011     25.445      0.000       0.252       0.294\n",
      "smart_pass[T.True]             0.7826      0.014     57.710      0.000       0.756       0.809\n",
      "launch[T.True]                 0.4374      0.012     36.410      0.000       0.414       0.461\n",
      "cross[T.True]                  0.8353      0.014     58.760      0.000       0.807       0.863\n",
      "hand_pass[T.True]             -2.4496      0.043    -57.335      0.000      -2.533      -2.366\n",
      "pass_start_x                  -0.0148      0.001    -25.030      0.000      -0.016      -0.014\n",
      "pass_start_y                  -0.0279      0.000    -70.003      0.000      -0.029      -0.027\n",
      "pass_start_x_squared           0.0003   4.86e-06     57.438      0.000       0.000       0.000\n",
      "pass_start_y_squared           0.0003   3.47e-06     82.869      0.000       0.000       0.000\n",
      "start_coords_product       -1.126e-05   3.35e-06     -3.361      0.001   -1.78e-05   -4.69e-06\n",
      "start_third_of_field           0.0997      0.006     17.468      0.000       0.089       0.111\n",
      "end_third_of_field             0.2261      0.006     39.370      0.000       0.215       0.237\n",
      "pitch_progression_score        0.1264      0.004     34.083      0.000       0.119       0.134\n",
      "angle_of_pass                 -0.4579      0.004   -112.727      0.000      -0.466      -0.450\n",
      "distance_of_pass               0.0059      0.000     30.033      0.000       0.006       0.006\n",
      "end_distance_from_goal         0.0115      0.000     37.268      0.000       0.011       0.012\n",
      "end_angle_between_goalpost     0.2022      0.024      8.285      0.000       0.154       0.250\n",
      "==============================================================================================\n"
     ]
    },
    {
     "data": {
      "image/png": "[encoded data removed]",
      "text/plain": [
       "<matplotlib.figure.Figure at 0x2e43a05c048>"
      ]
     },
     "metadata": {},
     "output_type": "display_data"
    }
   ],
   "source": [
    "pass_data_with_all_features = fit_and_evaluate_model(\n",
    "    pass_data, \n",
    "    ['pass_start_x', 'pass_start_y', 'pass_start_x_squared', 'pass_start_y_squared', \n",
    "     'start_coords_product', 'simple_pass', 'high_pass', 'head_pass',\n",
    "     'smart_pass', 'launch', 'cross', 'hand_pass', 'start_third_of_field',\n",
    "     'end_third_of_field', 'pitch_progression_score', 'angle_of_pass',\n",
    "     'distance_of_pass', 'end_distance_from_goal', 'end_angle_between_goalpost'])"
   ]
  },
  {
   "cell_type": "markdown",
   "metadata": {},
   "source": [
    "# Plot xPass on field and evaluate players\n",
    "\n",
    "Using our best xPass model lets look at which players are especially good at playing passes\n",
    "\n",
    "Then lets also plot xPass for one of our models"
   ]
  },
  {
   "cell_type": "code",
   "execution_count": 372,
   "metadata": {},
   "outputs": [
    {
     "name": "stdout",
     "output_type": "stream",
     "text": [
      "                          Generalized Linear Model Regression Results                          \n",
      "===============================================================================================\n",
      "Dep. Variable:     ['success[False]', 'success[True]']   No. Observations:              1665506\n",
      "Model:                                             GLM   Df Residuals:                  1665500\n",
      "Model Family:                                 Binomial   Df Model:                            5\n",
      "Link Function:                                   logit   Scale:                             1.0\n",
      "Method:                                           IRLS   Log-Likelihood:            -7.2937e+05\n",
      "Date:                                 Sat, 19 Sep 2020   Deviance:                   1.4587e+06\n",
      "Time:                                         21:31:50   Pearson chi2:                 1.67e+06\n",
      "No. Iterations:                                      5                                         \n",
      "========================================================================================\n",
      "                           coef    std err          z      P>|z|      [0.025      0.975]\n",
      "----------------------------------------------------------------------------------------\n",
      "Intercept               -0.1991      0.014    -14.730      0.000      -0.226      -0.173\n",
      "pass_start_x            -0.0654      0.000   -164.313      0.000      -0.066      -0.065\n",
      "pass_start_y            -0.0236      0.000    -67.633      0.000      -0.024      -0.023\n",
      "pass_start_x_squared     0.0007   3.59e-06    207.088      0.000       0.001       0.001\n",
      "pass_start_y_squared     0.0003   3.02e-06     82.854      0.000       0.000       0.000\n",
      "start_coords_product -9.793e-06   2.92e-06     -3.353      0.001   -1.55e-05   -4.07e-06\n",
      "========================================================================================\n"
     ]
    },
    {
     "data": {
      "image/png": "[encoded data removed]",
      "text/plain": [
       "<matplotlib.figure.Figure at 0x2e36b4373c8>"
      ]
     },
     "metadata": {},
     "output_type": "display_data"
    }
   ],
   "source": [
    "model_parameters_for_x_y_model = fit_logistic_regression_model(\n",
    "    pass_data,\n",
    "    ['pass_start_x', 'pass_start_y', 'pass_start_x_squared', 'pass_start_y_squared', 'start_coords_product'])\n",
    "\n",
    "ppass_2d=np.zeros((100,100))\n",
    "for x in range(100):\n",
    "    for y in range(100):\n",
    "        pass_dict = dict()\n",
    "        pass_dict['pass_start_x'] = x\n",
    "        pass_dict['pass_start_y'] = y\n",
    "        pass_dict['pass_start_x_squared'] = x ** 2\n",
    "        pass_dict['pass_start_y_squared'] = y ** 2\n",
    "        pass_dict['start_coords_product'] = x * y\n",
    "\n",
    "        ppass_2d[x, y] =  calculate_xPass(pass_dict, model_parameters)\n",
    "\n",
    "fig, ax = FCPython.createPitch(105, 65, 'meters', 'black')\n",
    "pos = ax.imshow(ppass_2d, extent=(0, 105, 0, 65), aspect='auto', cmap=plt.cm.Reds)\n",
    "fig.colorbar(pos, ax=ax)\n",
    "ax.set_title('Probability of pass completion')\n",
    "plt.tight_layout()\n",
    "plt.gca().set_aspect('equal', adjustable='box')\n",
    "plt.show()"
   ]
  },
  {
   "cell_type": "code",
   "execution_count": 377,
   "metadata": {
    "collapsed": true
   },
   "outputs": [],
   "source": [
    "def get_competition_id(competition_name, data_folder='data'):\n",
    "    \"\"\"\n",
    "    Open competitions data json and get competition id for requested competition\n",
    "    \"\"\"\n",
    "    data_folder = data_folder.strip('/')\n",
    "\n",
    "    with open(f'{data_folder}/competitions.json', encoding=\"utf8\") as json_data:\n",
    "        competition_data = pd.DataFrame(json.load(json_data))\n",
    "    \n",
    "    competition_id = competition_data[competition_data['name'] == competition_name]['wyId'].values[0]\n",
    "    \n",
    "    return competition_id\n",
    "\n",
    "\n",
    "def get_wyscout_match_ids_for_competition(competition_id, data_folder='data'):\n",
    "    \"\"\"\n",
    "    Given a competition id and a folder location holding Wyscout data, load all \n",
    "    json files for match data and get match ids for all matches from desired \n",
    "    competition\n",
    "    \"\"\"\n",
    "    data_folder = data_folder.strip('/')\n",
    "    \n",
    "    match_files = []\n",
    "    matches = []\n",
    "    \n",
    "    for root, dirs, files in os.walk(f'{data_folder}/matches'):\n",
    "        for file in files:\n",
    "            match_files.append(f'{root}/{file}')\n",
    "\n",
    "    for file_location in match_files:\n",
    "        with open(file_location, encoding=\"utf8\") as json_data:\n",
    "            match_df_for_file = pd.DataFrame(json.load(json_data))\n",
    "            matches.append(match_df_for_file)\n",
    "    \n",
    "    matches_df = pd.concat(matches) \n",
    "    matches_df = matches_df.reset_index(drop=True)\n",
    "    \n",
    "    matches_for_competition = matches_df[matches_df['competitionId'] == competition_id]\n",
    "    match_ids_for_competition = matches_for_competition['wyId'].unique()\n",
    "\n",
    "    return match_ids_for_competition"
   ]
  },
  {
   "cell_type": "code",
   "execution_count": 378,
   "metadata": {},
   "outputs": [],
   "source": [
    "def get_pass_data_for_competition(pass_data,\n",
    "                                  competition_to_evaluate,\n",
    "                                  data_folder='data/'):\n",
    "    pass_data = pass_data.copy()\n",
    "\n",
    "    competition_to_evaluate_id = get_competition_id(competition_to_evaluate,\n",
    "                                                   data_folder=data_folder)\n",
    "    competition_match_ids = get_wyscout_match_ids_for_competition(competition_to_evaluate_id,\n",
    "                                                                 data_folder=data_folder)\n",
    "    pass_data_for_competition = pass_data[pass_data['matchId'].isin(competition_match_ids)].copy()\n",
    "    \n",
    "    return pass_data_for_competition"
   ]
  },
  {
   "cell_type": "code",
   "execution_count": 411,
   "metadata": {
    "collapsed": true
   },
   "outputs": [],
   "source": [
    "def get_player_data(data_folder='data/'):\n",
    "    \"\"\"\n",
    "    Get Wyscout player data and return in a dataframe\n",
    "    \"\"\"\n",
    "    data_folder = data_folder.strip('/')\n",
    "    with open(f'{data_folder}/players.json', encoding=\"utf8\") as json_data:\n",
    "        player_data = pd.DataFrame(json.load(json_data))\n",
    "    \n",
    "    player_data['player_position'] = player_data['role'].apply(lambda x: x['name'])\n",
    "    \n",
    "    return player_data"
   ]
  },
  {
   "cell_type": "code",
   "execution_count": 550,
   "metadata": {},
   "outputs": [],
   "source": [
    "competition_to_evaluate = 'English first division'\n",
    "data_folder = 'data/'\n",
    "\n",
    "pass_data_for_competition = get_pass_data_for_competition(pass_data_with_all_features,\n",
    "                                                          competition_to_evaluate,\n",
    "                                                          data_folder)\n",
    "pass_data_for_competition['pass_outcome_vs_xPass'] = pass_data_for_competition['success'] - pass_data_for_competition['xPass']"
   ]
  },
  {
   "cell_type": "markdown",
   "metadata": {},
   "source": [
    "First naive attempt - just looking at xPass added value"
   ]
  },
  {
   "cell_type": "code",
   "execution_count": 551,
   "metadata": {},
   "outputs": [],
   "source": [
    "total_x_pass = pass_data_for_competition[['playerId', 'pass_outcome_vs_xPass']].groupby('playerId').sum()\n",
    "total_x_pass.reset_index(inplace=True)\n",
    "total_x_pass = total_x_pass.sort_values(by='pass_outcome_vs_xPass', ascending=False)\n",
    "player_data = get_player_data(data_folder)\n",
    "player_data_with_total_xPass = total_x_pass.merge(player_data, left_on='playerId', right_on='wyId')"
   ]
  },
  {
   "cell_type": "code",
   "execution_count": 571,
   "metadata": {},
   "outputs": [
    {
     "data": {
      "text/html": [
       "<div>\n",
       "<style>\n",
       "    .dataframe thead tr:only-child th {\n",
       "        text-align: right;\n",
       "    }\n",
       "\n",
       "    .dataframe thead th {\n",
       "        text-align: left;\n",
       "    }\n",
       "\n",
       "    .dataframe tbody tr th {\n",
       "        vertical-align: top;\n",
       "    }\n",
       "</style>\n",
       "<table border=\"1\" class=\"dataframe\">\n",
       "  <thead>\n",
       "    <tr style=\"text-align: right;\">\n",
       "      <th></th>\n",
       "      <th>playerId</th>\n",
       "      <th>pass_outcome_vs_xPass</th>\n",
       "      <th>birthArea</th>\n",
       "      <th>birthDate</th>\n",
       "      <th>currentNationalTeamId</th>\n",
       "      <th>currentTeamId</th>\n",
       "      <th>firstName</th>\n",
       "      <th>foot</th>\n",
       "      <th>height</th>\n",
       "      <th>lastName</th>\n",
       "      <th>middleName</th>\n",
       "      <th>passportArea</th>\n",
       "      <th>role</th>\n",
       "      <th>shortName</th>\n",
       "      <th>weight</th>\n",
       "      <th>wyId</th>\n",
       "      <th>player_position</th>\n",
       "      <th>pass_attempt_count</th>\n",
       "      <th>xPass_per_pass</th>\n",
       "    </tr>\n",
       "  </thead>\n",
       "  <tbody>\n",
       "    <tr>\n",
       "      <th>311</th>\n",
       "      <td>26150</td>\n",
       "      <td>15.811852</td>\n",
       "      <td>{'name': 'France', 'id': 250, 'alpha3code': 'F...</td>\n",
       "      <td>1991-02-21</td>\n",
       "      <td>16009</td>\n",
       "      <td>1625</td>\n",
       "      <td>Riyad</td>\n",
       "      <td>left</td>\n",
       "      <td>179</td>\n",
       "      <td>Mahrez</td>\n",
       "      <td></td>\n",
       "      <td>{'name': 'Algeria', 'id': 12, 'alpha3code': 'D...</td>\n",
       "      <td>{'code2': 'MD', 'code3': 'MID', 'name': 'Midfi...</td>\n",
       "      <td>R. Mahrez</td>\n",
       "      <td>62</td>\n",
       "      <td>26150</td>\n",
       "      <td>Midfielder</td>\n",
       "      <td>334</td>\n",
       "      <td>0.047341</td>\n",
       "    </tr>\n",
       "    <tr>\n",
       "      <th>170</th>\n",
       "      <td>8561</td>\n",
       "      <td>15.758881</td>\n",
       "      <td>{'name': 'England', 'id': 0, 'alpha3code': 'XE...</td>\n",
       "      <td>1987-05-08</td>\n",
       "      <td>null</td>\n",
       "      <td>1633</td>\n",
       "      <td>Mark</td>\n",
       "      <td>right</td>\n",
       "      <td>180</td>\n",
       "      <td>Noble</td>\n",
       "      <td></td>\n",
       "      <td>{'name': 'Ireland Republic', 'id': 372, 'alpha...</td>\n",
       "      <td>{'code2': 'MD', 'code3': 'MID', 'name': 'Midfi...</td>\n",
       "      <td>M. Noble</td>\n",
       "      <td>70</td>\n",
       "      <td>8561</td>\n",
       "      <td>Midfielder</td>\n",
       "      <td>264</td>\n",
       "      <td>0.059693</td>\n",
       "    </tr>\n",
       "    <tr>\n",
       "      <th>139</th>\n",
       "      <td>8317</td>\n",
       "      <td>13.774297</td>\n",
       "      <td>{'name': 'Spain', 'id': '724', 'alpha3code': '...</td>\n",
       "      <td>1986-01-08</td>\n",
       "      <td>1598</td>\n",
       "      <td>1625</td>\n",
       "      <td>David Josu\\u00e9</td>\n",
       "      <td>left</td>\n",
       "      <td>173</td>\n",
       "      <td>Jim\\u00e9nez Silva</td>\n",
       "      <td></td>\n",
       "      <td>{'name': 'Spain', 'id': '724', 'alpha3code': '...</td>\n",
       "      <td>{'code2': 'MD', 'code3': 'MID', 'name': 'Midfi...</td>\n",
       "      <td>David Silva</td>\n",
       "      <td>67</td>\n",
       "      <td>8317</td>\n",
       "      <td>Midfielder</td>\n",
       "      <td>334</td>\n",
       "      <td>0.041240</td>\n",
       "    </tr>\n",
       "    <tr>\n",
       "      <th>158</th>\n",
       "      <td>8464</td>\n",
       "      <td>12.868876</td>\n",
       "      <td>{'name': 'England', 'id': '0', 'alpha3code': '...</td>\n",
       "      <td>1989-11-21</td>\n",
       "      <td>2413</td>\n",
       "      <td>1625</td>\n",
       "      <td>Fabian</td>\n",
       "      <td>left</td>\n",
       "      <td>174</td>\n",
       "      <td>Delph</td>\n",
       "      <td></td>\n",
       "      <td>{'name': 'Guyana', 'id': '328', 'alpha3code': ...</td>\n",
       "      <td>{'code2': 'MD', 'code3': 'MID', 'name': 'Midfi...</td>\n",
       "      <td>F. Delph</td>\n",
       "      <td>60</td>\n",
       "      <td>8464</td>\n",
       "      <td>Midfielder</td>\n",
       "      <td>151</td>\n",
       "      <td>0.085224</td>\n",
       "    </tr>\n",
       "    <tr>\n",
       "      <th>140</th>\n",
       "      <td>8319</td>\n",
       "      <td>12.315081</td>\n",
       "      <td>{'name': 'England', 'id': 0, 'alpha3code': 'XE...</td>\n",
       "      <td>1986-01-04</td>\n",
       "      <td>null</td>\n",
       "      <td>1612</td>\n",
       "      <td>James</td>\n",
       "      <td>right</td>\n",
       "      <td>176</td>\n",
       "      <td>Milner</td>\n",
       "      <td></td>\n",
       "      <td>{'name': 'England', 'id': 0, 'alpha3code': 'XE...</td>\n",
       "      <td>{'code2': 'MD', 'code3': 'MID', 'name': 'Midfi...</td>\n",
       "      <td>J. Milner</td>\n",
       "      <td>70</td>\n",
       "      <td>8319</td>\n",
       "      <td>Midfielder</td>\n",
       "      <td>278</td>\n",
       "      <td>0.044299</td>\n",
       "    </tr>\n",
       "  </tbody>\n",
       "</table>\n",
       "</div>"
      ],
      "text/plain": [
       "     playerId  pass_outcome_vs_xPass  \\\n",
       "311     26150              15.811852   \n",
       "170      8561              15.758881   \n",
       "139      8317              13.774297   \n",
       "158      8464              12.868876   \n",
       "140      8319              12.315081   \n",
       "\n",
       "                                             birthArea   birthDate  \\\n",
       "311  {'name': 'France', 'id': 250, 'alpha3code': 'F...  1991-02-21   \n",
       "170  {'name': 'England', 'id': 0, 'alpha3code': 'XE...  1987-05-08   \n",
       "139  {'name': 'Spain', 'id': '724', 'alpha3code': '...  1986-01-08   \n",
       "158  {'name': 'England', 'id': '0', 'alpha3code': '...  1989-11-21   \n",
       "140  {'name': 'England', 'id': 0, 'alpha3code': 'XE...  1986-01-04   \n",
       "\n",
       "    currentNationalTeamId currentTeamId         firstName   foot  height  \\\n",
       "311                 16009          1625             Riyad   left     179   \n",
       "170                  null          1633              Mark  right     180   \n",
       "139                  1598          1625  David Josu\\u00e9   left     173   \n",
       "158                  2413          1625            Fabian   left     174   \n",
       "140                  null          1612             James  right     176   \n",
       "\n",
       "               lastName middleName  \\\n",
       "311              Mahrez              \n",
       "170               Noble              \n",
       "139  Jim\\u00e9nez Silva              \n",
       "158               Delph              \n",
       "140              Milner              \n",
       "\n",
       "                                          passportArea  \\\n",
       "311  {'name': 'Algeria', 'id': 12, 'alpha3code': 'D...   \n",
       "170  {'name': 'Ireland Republic', 'id': 372, 'alpha...   \n",
       "139  {'name': 'Spain', 'id': '724', 'alpha3code': '...   \n",
       "158  {'name': 'Guyana', 'id': '328', 'alpha3code': ...   \n",
       "140  {'name': 'England', 'id': 0, 'alpha3code': 'XE...   \n",
       "\n",
       "                                                  role    shortName  weight  \\\n",
       "311  {'code2': 'MD', 'code3': 'MID', 'name': 'Midfi...    R. Mahrez      62   \n",
       "170  {'code2': 'MD', 'code3': 'MID', 'name': 'Midfi...     M. Noble      70   \n",
       "139  {'code2': 'MD', 'code3': 'MID', 'name': 'Midfi...  David Silva      67   \n",
       "158  {'code2': 'MD', 'code3': 'MID', 'name': 'Midfi...     F. Delph      60   \n",
       "140  {'code2': 'MD', 'code3': 'MID', 'name': 'Midfi...    J. Milner      70   \n",
       "\n",
       "      wyId player_position  pass_attempt_count  xPass_per_pass  \n",
       "311  26150      Midfielder                 334        0.047341  \n",
       "170   8561      Midfielder                 264        0.059693  \n",
       "139   8317      Midfielder                 334        0.041240  \n",
       "158   8464      Midfielder                 151        0.085224  \n",
       "140   8319      Midfielder                 278        0.044299  "
      ]
     },
     "execution_count": 571,
     "metadata": {},
     "output_type": "execute_result"
    }
   ],
   "source": [
    "player_data_with_total_xPass.head(5)"
   ]
  },
  {
   "cell_type": "code",
   "execution_count": 553,
   "metadata": {},
   "outputs": [
    {
     "data": {
      "image/png": "[encoded data removed]",
      "text/plain": [
       "<matplotlib.figure.Figure at 0x2e3519585f8>"
      ]
     },
     "metadata": {},
     "output_type": "display_data"
    }
   ],
   "source": [
    "fig, ax = plt.subplots()\n",
    "ax.violinplot(total_x_pass['pass_outcome_vs_xPass'])\n",
    "plt.show()"
   ]
  },
  {
   "cell_type": "markdown",
   "metadata": {},
   "source": [
    "### What to do for a person:\n",
    "\n",
    "A more sophisticated approach:\n",
    "\n",
    "* Identify hardest passes, and look for players in a certain position who are best at making these\n",
    "    * Hardest passes can be passes which model thinks have a less than X% chance of success\n",
    "    * When looking for players who make these - what proportion of hard passes attempted do they complete?\n",
    "* What is their xPass difference?\n",
    "* Where on the pitch are they making difficult passes?\n",
    "* Plot heatmap for player to compare with overall"
   ]
  },
  {
   "cell_type": "code",
   "execution_count": 554,
   "metadata": {},
   "outputs": [
    {
     "data": {
      "image/png": "[encoded data removed]",
      "text/plain": [
       "<matplotlib.figure.Figure at 0x2e43ef2c1d0>"
      ]
     },
     "metadata": {},
     "output_type": "display_data"
    }
   ],
   "source": [
    "fig, ax = plt.subplots()\n",
    "ax.violinplot(pass_data_for_competition['xPass'])\n",
    "ax.hlines(y=0.8, xmin=0.8, xmax=1.2)\n",
    "plt.show()"
   ]
  },
  {
   "cell_type": "markdown",
   "metadata": {},
   "source": [
    "Looking at this violon plot for xPass for each pass in the competition data, we can see that the majority of passes are above 0.8 xPass. So let's restrict ourselves to looking at passes which have a 80% chance or lower of being successful accoring to our model"
   ]
  },
  {
   "cell_type": "code",
   "execution_count": 555,
   "metadata": {},
   "outputs": [],
   "source": [
    "low_probability_passes = pass_data_for_competition[pass_data_for_competition['xPass'] <= 0.8]"
   ]
  },
  {
   "cell_type": "code",
   "execution_count": 564,
   "metadata": {},
   "outputs": [
    {
     "data": {
      "text/html": [
       "<div>\n",
       "<style>\n",
       "    .dataframe thead tr:only-child th {\n",
       "        text-align: right;\n",
       "    }\n",
       "\n",
       "    .dataframe thead th {\n",
       "        text-align: left;\n",
       "    }\n",
       "\n",
       "    .dataframe tbody tr th {\n",
       "        vertical-align: top;\n",
       "    }\n",
       "</style>\n",
       "<table border=\"1\" class=\"dataframe\">\n",
       "  <thead>\n",
       "    <tr style=\"text-align: right;\">\n",
       "      <th></th>\n",
       "      <th>playerId</th>\n",
       "      <th>pass_outcome_vs_xPass</th>\n",
       "      <th>birthArea</th>\n",
       "      <th>birthDate</th>\n",
       "      <th>currentNationalTeamId</th>\n",
       "      <th>currentTeamId</th>\n",
       "      <th>firstName</th>\n",
       "      <th>foot</th>\n",
       "      <th>height</th>\n",
       "      <th>lastName</th>\n",
       "      <th>middleName</th>\n",
       "      <th>passportArea</th>\n",
       "      <th>role</th>\n",
       "      <th>shortName</th>\n",
       "      <th>weight</th>\n",
       "      <th>wyId</th>\n",
       "      <th>player_position</th>\n",
       "      <th>pass_attempt_count</th>\n",
       "      <th>xPass_per_pass</th>\n",
       "    </tr>\n",
       "  </thead>\n",
       "  <tbody>\n",
       "    <tr>\n",
       "      <th>311</th>\n",
       "      <td>26150</td>\n",
       "      <td>15.811852</td>\n",
       "      <td>{'name': 'France', 'id': 250, 'alpha3code': 'F...</td>\n",
       "      <td>1991-02-21</td>\n",
       "      <td>16009</td>\n",
       "      <td>1625</td>\n",
       "      <td>Riyad</td>\n",
       "      <td>left</td>\n",
       "      <td>179</td>\n",
       "      <td>Mahrez</td>\n",
       "      <td></td>\n",
       "      <td>{'name': 'Algeria', 'id': 12, 'alpha3code': 'D...</td>\n",
       "      <td>{'code2': 'MD', 'code3': 'MID', 'name': 'Midfi...</td>\n",
       "      <td>R. Mahrez</td>\n",
       "      <td>62</td>\n",
       "      <td>26150</td>\n",
       "      <td>Midfielder</td>\n",
       "      <td>334</td>\n",
       "      <td>0.047341</td>\n",
       "    </tr>\n",
       "    <tr>\n",
       "      <th>170</th>\n",
       "      <td>8561</td>\n",
       "      <td>15.758881</td>\n",
       "      <td>{'name': 'England', 'id': 0, 'alpha3code': 'XE...</td>\n",
       "      <td>1987-05-08</td>\n",
       "      <td>null</td>\n",
       "      <td>1633</td>\n",
       "      <td>Mark</td>\n",
       "      <td>right</td>\n",
       "      <td>180</td>\n",
       "      <td>Noble</td>\n",
       "      <td></td>\n",
       "      <td>{'name': 'Ireland Republic', 'id': 372, 'alpha...</td>\n",
       "      <td>{'code2': 'MD', 'code3': 'MID', 'name': 'Midfi...</td>\n",
       "      <td>M. Noble</td>\n",
       "      <td>70</td>\n",
       "      <td>8561</td>\n",
       "      <td>Midfielder</td>\n",
       "      <td>264</td>\n",
       "      <td>0.059693</td>\n",
       "    </tr>\n",
       "    <tr>\n",
       "      <th>139</th>\n",
       "      <td>8317</td>\n",
       "      <td>13.774297</td>\n",
       "      <td>{'name': 'Spain', 'id': '724', 'alpha3code': '...</td>\n",
       "      <td>1986-01-08</td>\n",
       "      <td>1598</td>\n",
       "      <td>1625</td>\n",
       "      <td>David Josu\\u00e9</td>\n",
       "      <td>left</td>\n",
       "      <td>173</td>\n",
       "      <td>Jim\\u00e9nez Silva</td>\n",
       "      <td></td>\n",
       "      <td>{'name': 'Spain', 'id': '724', 'alpha3code': '...</td>\n",
       "      <td>{'code2': 'MD', 'code3': 'MID', 'name': 'Midfi...</td>\n",
       "      <td>David Silva</td>\n",
       "      <td>67</td>\n",
       "      <td>8317</td>\n",
       "      <td>Midfielder</td>\n",
       "      <td>334</td>\n",
       "      <td>0.041240</td>\n",
       "    </tr>\n",
       "    <tr>\n",
       "      <th>158</th>\n",
       "      <td>8464</td>\n",
       "      <td>12.868876</td>\n",
       "      <td>{'name': 'England', 'id': '0', 'alpha3code': '...</td>\n",
       "      <td>1989-11-21</td>\n",
       "      <td>2413</td>\n",
       "      <td>1625</td>\n",
       "      <td>Fabian</td>\n",
       "      <td>left</td>\n",
       "      <td>174</td>\n",
       "      <td>Delph</td>\n",
       "      <td></td>\n",
       "      <td>{'name': 'Guyana', 'id': '328', 'alpha3code': ...</td>\n",
       "      <td>{'code2': 'MD', 'code3': 'MID', 'name': 'Midfi...</td>\n",
       "      <td>F. Delph</td>\n",
       "      <td>60</td>\n",
       "      <td>8464</td>\n",
       "      <td>Midfielder</td>\n",
       "      <td>151</td>\n",
       "      <td>0.085224</td>\n",
       "    </tr>\n",
       "    <tr>\n",
       "      <th>140</th>\n",
       "      <td>8319</td>\n",
       "      <td>12.315081</td>\n",
       "      <td>{'name': 'England', 'id': 0, 'alpha3code': 'XE...</td>\n",
       "      <td>1986-01-04</td>\n",
       "      <td>null</td>\n",
       "      <td>1612</td>\n",
       "      <td>James</td>\n",
       "      <td>right</td>\n",
       "      <td>176</td>\n",
       "      <td>Milner</td>\n",
       "      <td></td>\n",
       "      <td>{'name': 'England', 'id': 0, 'alpha3code': 'XE...</td>\n",
       "      <td>{'code2': 'MD', 'code3': 'MID', 'name': 'Midfi...</td>\n",
       "      <td>J. Milner</td>\n",
       "      <td>70</td>\n",
       "      <td>8319</td>\n",
       "      <td>Midfielder</td>\n",
       "      <td>278</td>\n",
       "      <td>0.044299</td>\n",
       "    </tr>\n",
       "    <tr>\n",
       "      <th>274</th>\n",
       "      <td>20593</td>\n",
       "      <td>12.284812</td>\n",
       "      <td>{'name': 'Argentina', 'id': 32, 'alpha3code': ...</td>\n",
       "      <td>1991-01-07</td>\n",
       "      <td>12274</td>\n",
       "      <td>1644</td>\n",
       "      <td>Roberto Maximiliano</td>\n",
       "      <td>right</td>\n",
       "      <td>182</td>\n",
       "      <td>Pereyra</td>\n",
       "      <td></td>\n",
       "      <td>{'name': 'Argentina', 'id': 32, 'alpha3code': ...</td>\n",
       "      <td>{'code2': 'MD', 'code3': 'MID', 'name': 'Midfi...</td>\n",
       "      <td>R. Pereyra</td>\n",
       "      <td>77</td>\n",
       "      <td>20593</td>\n",
       "      <td>Midfielder</td>\n",
       "      <td>139</td>\n",
       "      <td>0.088380</td>\n",
       "    </tr>\n",
       "    <tr>\n",
       "      <th>444</th>\n",
       "      <td>279717</td>\n",
       "      <td>8.769487</td>\n",
       "      <td>{'name': 'England', 'id': 0, 'alpha3code': 'XE...</td>\n",
       "      <td>1997-08-29</td>\n",
       "      <td>null</td>\n",
       "      <td>1609</td>\n",
       "      <td>Ainsley</td>\n",
       "      <td>right</td>\n",
       "      <td>177</td>\n",
       "      <td>Maitland-Niles</td>\n",
       "      <td></td>\n",
       "      <td>{'name': 'England', 'id': 0, 'alpha3code': 'XE...</td>\n",
       "      <td>{'code2': 'MD', 'code3': 'MID', 'name': 'Midfi...</td>\n",
       "      <td>A. Maitland-Niles</td>\n",
       "      <td>71</td>\n",
       "      <td>279717</td>\n",
       "      <td>Midfielder</td>\n",
       "      <td>92</td>\n",
       "      <td>0.095321</td>\n",
       "    </tr>\n",
       "    <tr>\n",
       "      <th>308</th>\n",
       "      <td>25950</td>\n",
       "      <td>8.757509</td>\n",
       "      <td>{'name': 'France', 'id': 250, 'alpha3code': 'F...</td>\n",
       "      <td>1991-11-20</td>\n",
       "      <td>null</td>\n",
       "      <td>1651</td>\n",
       "      <td>Anthony</td>\n",
       "      <td>left</td>\n",
       "      <td>172</td>\n",
       "      <td>Knockaert</td>\n",
       "      <td></td>\n",
       "      <td>{'name': 'Belgium', 'id': 56, 'alpha3code': 'B...</td>\n",
       "      <td>{'code2': 'MD', 'code3': 'MID', 'name': 'Midfi...</td>\n",
       "      <td>A. Knockaert</td>\n",
       "      <td>69</td>\n",
       "      <td>25950</td>\n",
       "      <td>Midfielder</td>\n",
       "      <td>212</td>\n",
       "      <td>0.041309</td>\n",
       "    </tr>\n",
       "    <tr>\n",
       "      <th>346</th>\n",
       "      <td>62224</td>\n",
       "      <td>7.585723</td>\n",
       "      <td>{'name': 'Scotland', 'id': 0, 'alpha3code': 'X...</td>\n",
       "      <td>1994-02-24</td>\n",
       "      <td>8664</td>\n",
       "      <td>1659</td>\n",
       "      <td>Ryan</td>\n",
       "      <td>right</td>\n",
       "      <td>163</td>\n",
       "      <td>Fraser</td>\n",
       "      <td></td>\n",
       "      <td>{'name': 'Scotland', 'id': 0, 'alpha3code': 'X...</td>\n",
       "      <td>{'code2': 'MD', 'code3': 'MID', 'name': 'Midfi...</td>\n",
       "      <td>R. Fraser</td>\n",
       "      <td>62</td>\n",
       "      <td>62224</td>\n",
       "      <td>Midfielder</td>\n",
       "      <td>241</td>\n",
       "      <td>0.031476</td>\n",
       "    </tr>\n",
       "    <tr>\n",
       "      <th>318</th>\n",
       "      <td>31528</td>\n",
       "      <td>7.115169</td>\n",
       "      <td>{'name': 'France', 'id': 250, 'alpha3code': 'F...</td>\n",
       "      <td>1991-03-29</td>\n",
       "      <td>4418</td>\n",
       "      <td>1610</td>\n",
       "      <td>N'Golo</td>\n",
       "      <td>right</td>\n",
       "      <td>168</td>\n",
       "      <td>Kant\\u00e9</td>\n",
       "      <td></td>\n",
       "      <td>{'name': 'Mali', 'id': 466, 'alpha3code': 'MLI...</td>\n",
       "      <td>{'code2': 'MD', 'code3': 'MID', 'name': 'Midfi...</td>\n",
       "      <td>N. Kant\\u00e9</td>\n",
       "      <td>68</td>\n",
       "      <td>31528</td>\n",
       "      <td>Midfielder</td>\n",
       "      <td>204</td>\n",
       "      <td>0.034878</td>\n",
       "    </tr>\n",
       "    <tr>\n",
       "      <th>386</th>\n",
       "      <td>105339</td>\n",
       "      <td>6.044048</td>\n",
       "      <td>{'name': 'Brazil', 'id': '76', 'alpha3code': '...</td>\n",
       "      <td>1985-05-04</td>\n",
       "      <td>6380</td>\n",
       "      <td>1625</td>\n",
       "      <td>Fernando Luiz</td>\n",
       "      <td>right</td>\n",
       "      <td>179</td>\n",
       "      <td>Rosa</td>\n",
       "      <td></td>\n",
       "      <td>{'name': 'Brazil', 'id': '76', 'alpha3code': '...</td>\n",
       "      <td>{'code2': 'MD', 'code3': 'MID', 'name': 'Midfi...</td>\n",
       "      <td>Fernandinho</td>\n",
       "      <td>67</td>\n",
       "      <td>105339</td>\n",
       "      <td>Midfielder</td>\n",
       "      <td>328</td>\n",
       "      <td>0.018427</td>\n",
       "    </tr>\n",
       "    <tr>\n",
       "      <th>71</th>\n",
       "      <td>7906</td>\n",
       "      <td>6.015744</td>\n",
       "      <td>{'name': 'Spain', 'id': 724, 'alpha3code': 'ES...</td>\n",
       "      <td>1988-04-28</td>\n",
       "      <td>null</td>\n",
       "      <td>1611</td>\n",
       "      <td>Juan Manuel</td>\n",
       "      <td>left</td>\n",
       "      <td>170</td>\n",
       "      <td>Mata Garc\\u00eda</td>\n",
       "      <td></td>\n",
       "      <td>{'name': 'Spain', 'id': 724, 'alpha3code': 'ES...</td>\n",
       "      <td>{'code2': 'MD', 'code3': 'MID', 'name': 'Midfi...</td>\n",
       "      <td>Juan Mata</td>\n",
       "      <td>63</td>\n",
       "      <td>7906</td>\n",
       "      <td>Midfielder</td>\n",
       "      <td>223</td>\n",
       "      <td>0.026976</td>\n",
       "    </tr>\n",
       "    <tr>\n",
       "      <th>252</th>\n",
       "      <td>14808</td>\n",
       "      <td>5.441253</td>\n",
       "      <td>{'name': 'Germany', 'id': '276', 'alpha3code':...</td>\n",
       "      <td>1990-10-24</td>\n",
       "      <td>3148</td>\n",
       "      <td>1625</td>\n",
       "      <td>\\u0130lkay</td>\n",
       "      <td>right</td>\n",
       "      <td>180</td>\n",
       "      <td>G\\u00fcndo\\u011fan</td>\n",
       "      <td></td>\n",
       "      <td>{'name': 'Germany', 'id': '276', 'alpha3code':...</td>\n",
       "      <td>{'code2': 'MD', 'code3': 'MID', 'name': 'Midfi...</td>\n",
       "      <td>\\u0130. G\\u00fcndo\\u011fan</td>\n",
       "      <td>80</td>\n",
       "      <td>14808</td>\n",
       "      <td>Midfielder</td>\n",
       "      <td>103</td>\n",
       "      <td>0.052828</td>\n",
       "    </tr>\n",
       "    <tr>\n",
       "      <th>389</th>\n",
       "      <td>120339</td>\n",
       "      <td>5.071282</td>\n",
       "      <td>{'name': 'Egypt', 'id': '818', 'alpha3code': '...</td>\n",
       "      <td>1992-07-11</td>\n",
       "      <td>16129</td>\n",
       "      <td>1609</td>\n",
       "      <td>Mohamed Naser</td>\n",
       "      <td>right</td>\n",
       "      <td>180</td>\n",
       "      <td>Elsayed Elneny</td>\n",
       "      <td></td>\n",
       "      <td>{'name': 'Egypt', 'id': '818', 'alpha3code': '...</td>\n",
       "      <td>{'code2': 'MD', 'code3': 'MID', 'name': 'Midfi...</td>\n",
       "      <td>Mohamed Elneny</td>\n",
       "      <td>70</td>\n",
       "      <td>120339</td>\n",
       "      <td>Midfielder</td>\n",
       "      <td>71</td>\n",
       "      <td>0.071427</td>\n",
       "    </tr>\n",
       "    <tr>\n",
       "      <th>329</th>\n",
       "      <td>41174</td>\n",
       "      <td>4.983562</td>\n",
       "      <td>{'name': 'Argentina', 'id': 32, 'alpha3code': ...</td>\n",
       "      <td>1993-02-15</td>\n",
       "      <td>null</td>\n",
       "      <td>1633</td>\n",
       "      <td>Manuel</td>\n",
       "      <td>right</td>\n",
       "      <td>167</td>\n",
       "      <td>Lanzini</td>\n",
       "      <td></td>\n",
       "      <td>{'name': 'Italy', 'id': 380, 'alpha3code': 'IT...</td>\n",
       "      <td>{'code2': 'MD', 'code3': 'MID', 'name': 'Midfi...</td>\n",
       "      <td>M. Lanzini</td>\n",
       "      <td>59</td>\n",
       "      <td>41174</td>\n",
       "      <td>Midfielder</td>\n",
       "      <td>130</td>\n",
       "      <td>0.038335</td>\n",
       "    </tr>\n",
       "    <tr>\n",
       "      <th>331</th>\n",
       "      <td>49872</td>\n",
       "      <td>4.729898</td>\n",
       "      <td>{'name': 'Kosovo', 'id': '0', 'alpha3code': 'X...</td>\n",
       "      <td>1991-10-10</td>\n",
       "      <td>6697</td>\n",
       "      <td>1612</td>\n",
       "      <td>Xherdan</td>\n",
       "      <td>left</td>\n",
       "      <td>169</td>\n",
       "      <td>Shaqiri</td>\n",
       "      <td></td>\n",
       "      <td>{'name': 'Switzerland', 'id': '756', 'alpha3co...</td>\n",
       "      <td>{'code2': 'MD', 'code3': 'MID', 'name': 'Midfi...</td>\n",
       "      <td>X. Shaqiri</td>\n",
       "      <td>72</td>\n",
       "      <td>49872</td>\n",
       "      <td>Midfielder</td>\n",
       "      <td>297</td>\n",
       "      <td>0.015926</td>\n",
       "    </tr>\n",
       "    <tr>\n",
       "      <th>144</th>\n",
       "      <td>8351</td>\n",
       "      <td>4.634146</td>\n",
       "      <td>{'name': 'South Africa', 'id': 710, 'alpha3cod...</td>\n",
       "      <td>1986-08-20</td>\n",
       "      <td>null</td>\n",
       "      <td>1659</td>\n",
       "      <td>Andrew</td>\n",
       "      <td>left</td>\n",
       "      <td>178</td>\n",
       "      <td>Surman</td>\n",
       "      <td></td>\n",
       "      <td>{'name': 'England', 'id': 0, 'alpha3code': 'XE...</td>\n",
       "      <td>{'code2': 'MD', 'code3': 'MID', 'name': 'Midfi...</td>\n",
       "      <td>A. Surman</td>\n",
       "      <td>73</td>\n",
       "      <td>8351</td>\n",
       "      <td>Midfielder</td>\n",
       "      <td>181</td>\n",
       "      <td>0.025603</td>\n",
       "    </tr>\n",
       "    <tr>\n",
       "      <th>302</th>\n",
       "      <td>25798</td>\n",
       "      <td>4.453449</td>\n",
       "      <td>{'name': 'France', 'id': 250, 'alpha3code': 'F...</td>\n",
       "      <td>1988-07-11</td>\n",
       "      <td>null</td>\n",
       "      <td>1644</td>\n",
       "      <td>Etienne</td>\n",
       "      <td>right</td>\n",
       "      <td>190</td>\n",
       "      <td>Capoue</td>\n",
       "      <td></td>\n",
       "      <td>{'name': 'Guadeloupe', 'id': 312, 'alpha3code'...</td>\n",
       "      <td>{'code2': 'MD', 'code3': 'MID', 'name': 'Midfi...</td>\n",
       "      <td>E. Capoue</td>\n",
       "      <td>87</td>\n",
       "      <td>25798</td>\n",
       "      <td>Midfielder</td>\n",
       "      <td>180</td>\n",
       "      <td>0.024741</td>\n",
       "    </tr>\n",
       "    <tr>\n",
       "      <th>203</th>\n",
       "      <td>8959</td>\n",
       "      <td>3.800805</td>\n",
       "      <td>{'name': 'England', 'id': 0, 'alpha3code': 'XE...</td>\n",
       "      <td>1989-11-26</td>\n",
       "      <td>null</td>\n",
       "      <td>1659</td>\n",
       "      <td>Junior</td>\n",
       "      <td>right</td>\n",
       "      <td>183</td>\n",
       "      <td>Stanislas</td>\n",
       "      <td></td>\n",
       "      <td>{'name': 'St. Lucia', 'id': 662, 'alpha3code':...</td>\n",
       "      <td>{'code2': 'MD', 'code3': 'MID', 'name': 'Midfi...</td>\n",
       "      <td>J. Stanislas</td>\n",
       "      <td>76</td>\n",
       "      <td>8959</td>\n",
       "      <td>Midfielder</td>\n",
       "      <td>96</td>\n",
       "      <td>0.039592</td>\n",
       "    </tr>\n",
       "    <tr>\n",
       "      <th>355</th>\n",
       "      <td>70092</td>\n",
       "      <td>3.597236</td>\n",
       "      <td>{'name': 'Belgium', 'id': 56, 'alpha3code': 'B...</td>\n",
       "      <td>1988-04-15</td>\n",
       "      <td>null</td>\n",
       "      <td>1646</td>\n",
       "      <td>Steven</td>\n",
       "      <td>right</td>\n",
       "      <td>175</td>\n",
       "      <td>Defour</td>\n",
       "      <td></td>\n",
       "      <td>{'name': 'Belgium', 'id': 56, 'alpha3code': 'B...</td>\n",
       "      <td>{'code2': 'MD', 'code3': 'MID', 'name': 'Midfi...</td>\n",
       "      <td>S. Defour</td>\n",
       "      <td>72</td>\n",
       "      <td>70092</td>\n",
       "      <td>Midfielder</td>\n",
       "      <td>210</td>\n",
       "      <td>0.017130</td>\n",
       "    </tr>\n",
       "  </tbody>\n",
       "</table>\n",
       "</div>"
      ],
      "text/plain": [
       "     playerId  pass_outcome_vs_xPass  \\\n",
       "311     26150              15.811852   \n",
       "170      8561              15.758881   \n",
       "139      8317              13.774297   \n",
       "158      8464              12.868876   \n",
       "140      8319              12.315081   \n",
       "274     20593              12.284812   \n",
       "444    279717               8.769487   \n",
       "308     25950               8.757509   \n",
       "346     62224               7.585723   \n",
       "318     31528               7.115169   \n",
       "386    105339               6.044048   \n",
       "71       7906               6.015744   \n",
       "252     14808               5.441253   \n",
       "389    120339               5.071282   \n",
       "329     41174               4.983562   \n",
       "331     49872               4.729898   \n",
       "144      8351               4.634146   \n",
       "302     25798               4.453449   \n",
       "203      8959               3.800805   \n",
       "355     70092               3.597236   \n",
       "\n",
       "                                             birthArea   birthDate  \\\n",
       "311  {'name': 'France', 'id': 250, 'alpha3code': 'F...  1991-02-21   \n",
       "170  {'name': 'England', 'id': 0, 'alpha3code': 'XE...  1987-05-08   \n",
       "139  {'name': 'Spain', 'id': '724', 'alpha3code': '...  1986-01-08   \n",
       "158  {'name': 'England', 'id': '0', 'alpha3code': '...  1989-11-21   \n",
       "140  {'name': 'England', 'id': 0, 'alpha3code': 'XE...  1986-01-04   \n",
       "274  {'name': 'Argentina', 'id': 32, 'alpha3code': ...  1991-01-07   \n",
       "444  {'name': 'England', 'id': 0, 'alpha3code': 'XE...  1997-08-29   \n",
       "308  {'name': 'France', 'id': 250, 'alpha3code': 'F...  1991-11-20   \n",
       "346  {'name': 'Scotland', 'id': 0, 'alpha3code': 'X...  1994-02-24   \n",
       "318  {'name': 'France', 'id': 250, 'alpha3code': 'F...  1991-03-29   \n",
       "386  {'name': 'Brazil', 'id': '76', 'alpha3code': '...  1985-05-04   \n",
       "71   {'name': 'Spain', 'id': 724, 'alpha3code': 'ES...  1988-04-28   \n",
       "252  {'name': 'Germany', 'id': '276', 'alpha3code':...  1990-10-24   \n",
       "389  {'name': 'Egypt', 'id': '818', 'alpha3code': '...  1992-07-11   \n",
       "329  {'name': 'Argentina', 'id': 32, 'alpha3code': ...  1993-02-15   \n",
       "331  {'name': 'Kosovo', 'id': '0', 'alpha3code': 'X...  1991-10-10   \n",
       "144  {'name': 'South Africa', 'id': 710, 'alpha3cod...  1986-08-20   \n",
       "302  {'name': 'France', 'id': 250, 'alpha3code': 'F...  1988-07-11   \n",
       "203  {'name': 'England', 'id': 0, 'alpha3code': 'XE...  1989-11-26   \n",
       "355  {'name': 'Belgium', 'id': 56, 'alpha3code': 'B...  1988-04-15   \n",
       "\n",
       "    currentNationalTeamId currentTeamId            firstName   foot  height  \\\n",
       "311                 16009          1625                Riyad   left     179   \n",
       "170                  null          1633                 Mark  right     180   \n",
       "139                  1598          1625     David Josu\\u00e9   left     173   \n",
       "158                  2413          1625               Fabian   left     174   \n",
       "140                  null          1612                James  right     176   \n",
       "274                 12274          1644  Roberto Maximiliano  right     182   \n",
       "444                  null          1609              Ainsley  right     177   \n",
       "308                  null          1651              Anthony   left     172   \n",
       "346                  8664          1659                 Ryan  right     163   \n",
       "318                  4418          1610               N'Golo  right     168   \n",
       "386                  6380          1625        Fernando Luiz  right     179   \n",
       "71                   null          1611          Juan Manuel   left     170   \n",
       "252                  3148          1625           \\u0130lkay  right     180   \n",
       "389                 16129          1609        Mohamed Naser  right     180   \n",
       "329                  null          1633               Manuel  right     167   \n",
       "331                  6697          1612              Xherdan   left     169   \n",
       "144                  null          1659               Andrew   left     178   \n",
       "302                  null          1644              Etienne  right     190   \n",
       "203                  null          1659               Junior  right     183   \n",
       "355                  null          1646               Steven  right     175   \n",
       "\n",
       "               lastName middleName  \\\n",
       "311              Mahrez              \n",
       "170               Noble              \n",
       "139  Jim\\u00e9nez Silva              \n",
       "158               Delph              \n",
       "140              Milner              \n",
       "274             Pereyra              \n",
       "444      Maitland-Niles              \n",
       "308           Knockaert              \n",
       "346              Fraser              \n",
       "318          Kant\\u00e9              \n",
       "386                Rosa              \n",
       "71     Mata Garc\\u00eda              \n",
       "252  G\\u00fcndo\\u011fan              \n",
       "389      Elsayed Elneny              \n",
       "329             Lanzini              \n",
       "331             Shaqiri              \n",
       "144              Surman              \n",
       "302              Capoue              \n",
       "203           Stanislas              \n",
       "355              Defour              \n",
       "\n",
       "                                          passportArea  \\\n",
       "311  {'name': 'Algeria', 'id': 12, 'alpha3code': 'D...   \n",
       "170  {'name': 'Ireland Republic', 'id': 372, 'alpha...   \n",
       "139  {'name': 'Spain', 'id': '724', 'alpha3code': '...   \n",
       "158  {'name': 'Guyana', 'id': '328', 'alpha3code': ...   \n",
       "140  {'name': 'England', 'id': 0, 'alpha3code': 'XE...   \n",
       "274  {'name': 'Argentina', 'id': 32, 'alpha3code': ...   \n",
       "444  {'name': 'England', 'id': 0, 'alpha3code': 'XE...   \n",
       "308  {'name': 'Belgium', 'id': 56, 'alpha3code': 'B...   \n",
       "346  {'name': 'Scotland', 'id': 0, 'alpha3code': 'X...   \n",
       "318  {'name': 'Mali', 'id': 466, 'alpha3code': 'MLI...   \n",
       "386  {'name': 'Brazil', 'id': '76', 'alpha3code': '...   \n",
       "71   {'name': 'Spain', 'id': 724, 'alpha3code': 'ES...   \n",
       "252  {'name': 'Germany', 'id': '276', 'alpha3code':...   \n",
       "389  {'name': 'Egypt', 'id': '818', 'alpha3code': '...   \n",
       "329  {'name': 'Italy', 'id': 380, 'alpha3code': 'IT...   \n",
       "331  {'name': 'Switzerland', 'id': '756', 'alpha3co...   \n",
       "144  {'name': 'England', 'id': 0, 'alpha3code': 'XE...   \n",
       "302  {'name': 'Guadeloupe', 'id': 312, 'alpha3code'...   \n",
       "203  {'name': 'St. Lucia', 'id': 662, 'alpha3code':...   \n",
       "355  {'name': 'Belgium', 'id': 56, 'alpha3code': 'B...   \n",
       "\n",
       "                                                  role  \\\n",
       "311  {'code2': 'MD', 'code3': 'MID', 'name': 'Midfi...   \n",
       "170  {'code2': 'MD', 'code3': 'MID', 'name': 'Midfi...   \n",
       "139  {'code2': 'MD', 'code3': 'MID', 'name': 'Midfi...   \n",
       "158  {'code2': 'MD', 'code3': 'MID', 'name': 'Midfi...   \n",
       "140  {'code2': 'MD', 'code3': 'MID', 'name': 'Midfi...   \n",
       "274  {'code2': 'MD', 'code3': 'MID', 'name': 'Midfi...   \n",
       "444  {'code2': 'MD', 'code3': 'MID', 'name': 'Midfi...   \n",
       "308  {'code2': 'MD', 'code3': 'MID', 'name': 'Midfi...   \n",
       "346  {'code2': 'MD', 'code3': 'MID', 'name': 'Midfi...   \n",
       "318  {'code2': 'MD', 'code3': 'MID', 'name': 'Midfi...   \n",
       "386  {'code2': 'MD', 'code3': 'MID', 'name': 'Midfi...   \n",
       "71   {'code2': 'MD', 'code3': 'MID', 'name': 'Midfi...   \n",
       "252  {'code2': 'MD', 'code3': 'MID', 'name': 'Midfi...   \n",
       "389  {'code2': 'MD', 'code3': 'MID', 'name': 'Midfi...   \n",
       "329  {'code2': 'MD', 'code3': 'MID', 'name': 'Midfi...   \n",
       "331  {'code2': 'MD', 'code3': 'MID', 'name': 'Midfi...   \n",
       "144  {'code2': 'MD', 'code3': 'MID', 'name': 'Midfi...   \n",
       "302  {'code2': 'MD', 'code3': 'MID', 'name': 'Midfi...   \n",
       "203  {'code2': 'MD', 'code3': 'MID', 'name': 'Midfi...   \n",
       "355  {'code2': 'MD', 'code3': 'MID', 'name': 'Midfi...   \n",
       "\n",
       "                      shortName  weight    wyId player_position  \\\n",
       "311                   R. Mahrez      62   26150      Midfielder   \n",
       "170                    M. Noble      70    8561      Midfielder   \n",
       "139                 David Silva      67    8317      Midfielder   \n",
       "158                    F. Delph      60    8464      Midfielder   \n",
       "140                   J. Milner      70    8319      Midfielder   \n",
       "274                  R. Pereyra      77   20593      Midfielder   \n",
       "444           A. Maitland-Niles      71  279717      Midfielder   \n",
       "308                A. Knockaert      69   25950      Midfielder   \n",
       "346                   R. Fraser      62   62224      Midfielder   \n",
       "318               N. Kant\\u00e9      68   31528      Midfielder   \n",
       "386                 Fernandinho      67  105339      Midfielder   \n",
       "71                    Juan Mata      63    7906      Midfielder   \n",
       "252  \\u0130. G\\u00fcndo\\u011fan      80   14808      Midfielder   \n",
       "389              Mohamed Elneny      70  120339      Midfielder   \n",
       "329                  M. Lanzini      59   41174      Midfielder   \n",
       "331                  X. Shaqiri      72   49872      Midfielder   \n",
       "144                   A. Surman      73    8351      Midfielder   \n",
       "302                   E. Capoue      87   25798      Midfielder   \n",
       "203                J. Stanislas      76    8959      Midfielder   \n",
       "355                   S. Defour      72   70092      Midfielder   \n",
       "\n",
       "     pass_attempt_count  xPass_per_pass  \n",
       "311                 334        0.047341  \n",
       "170                 264        0.059693  \n",
       "139                 334        0.041240  \n",
       "158                 151        0.085224  \n",
       "140                 278        0.044299  \n",
       "274                 139        0.088380  \n",
       "444                  92        0.095321  \n",
       "308                 212        0.041309  \n",
       "346                 241        0.031476  \n",
       "318                 204        0.034878  \n",
       "386                 328        0.018427  \n",
       "71                  223        0.026976  \n",
       "252                 103        0.052828  \n",
       "389                  71        0.071427  \n",
       "329                 130        0.038335  \n",
       "331                 297        0.015926  \n",
       "144                 181        0.025603  \n",
       "302                 180        0.024741  \n",
       "203                  96        0.039592  \n",
       "355                 210        0.017130  "
      ]
     },
     "execution_count": 564,
     "metadata": {},
     "output_type": "execute_result"
    }
   ],
   "source": [
    "# Get count of passes per player, xPass added value per player and average xPass added per pass - just looking at midfielders\n",
    "total_x_pass = low_probability_passes[['playerId', 'pass_outcome_vs_xPass']].groupby('playerId').sum()\n",
    "total_x_pass.reset_index(inplace=True)\n",
    "total_passes = low_probability_passes[['playerId', 'eventId']].groupby('playerId').count()\n",
    "total_passes.reset_index(inplace=True)\n",
    "total_passes = total_passes.rename(columns={'eventId': 'pass_attempt_count'})\n",
    "player_data_with_total_xPass = total_x_pass.merge(player_data, left_on='playerId', right_on='wyId')\n",
    "player_data_with_total_xPass = player_data_with_total_xPass.merge(total_passes, on='playerId')\n",
    "player_data_with_total_xPass = player_data_with_total_xPass[player_data_with_total_xPass['player_position'] == 'Midfielder']\n",
    "player_data_with_total_xPass['xPass_per_pass'] = player_data_with_total_xPass['pass_outcome_vs_xPass'] / player_data_with_total_xPass['pass_attempt_count']\n",
    "\n",
    "player_data_with_total_xPass = player_data_with_total_xPass[player_data_with_total_xPass['pass_attempt_count'] >= 46]\n",
    "player_data_with_total_xPass = player_data_with_total_xPass.sort_values(by='pass_outcome_vs_xPass', ascending=False)\n",
    "player_data_with_total_xPass.head(5)"
   ]
  },
  {
   "cell_type": "code",
   "execution_count": 572,
   "metadata": {},
   "outputs": [
    {
     "data": {
      "text/html": [
       "<div>\n",
       "<style>\n",
       "    .dataframe thead tr:only-child th {\n",
       "        text-align: right;\n",
       "    }\n",
       "\n",
       "    .dataframe thead th {\n",
       "        text-align: left;\n",
       "    }\n",
       "\n",
       "    .dataframe tbody tr th {\n",
       "        vertical-align: top;\n",
       "    }\n",
       "</style>\n",
       "<table border=\"1\" class=\"dataframe\">\n",
       "  <thead>\n",
       "    <tr style=\"text-align: right;\">\n",
       "      <th></th>\n",
       "      <th>playerId</th>\n",
       "      <th>pass_outcome_vs_xPass</th>\n",
       "      <th>birthArea</th>\n",
       "      <th>birthDate</th>\n",
       "      <th>currentNationalTeamId</th>\n",
       "      <th>currentTeamId</th>\n",
       "      <th>firstName</th>\n",
       "      <th>foot</th>\n",
       "      <th>height</th>\n",
       "      <th>lastName</th>\n",
       "      <th>middleName</th>\n",
       "      <th>passportArea</th>\n",
       "      <th>role</th>\n",
       "      <th>shortName</th>\n",
       "      <th>weight</th>\n",
       "      <th>wyId</th>\n",
       "      <th>player_position</th>\n",
       "      <th>pass_attempt_count</th>\n",
       "      <th>xPass_per_pass</th>\n",
       "    </tr>\n",
       "  </thead>\n",
       "  <tbody>\n",
       "    <tr>\n",
       "      <th>444</th>\n",
       "      <td>279717</td>\n",
       "      <td>8.769487</td>\n",
       "      <td>{'name': 'England', 'id': 0, 'alpha3code': 'XE...</td>\n",
       "      <td>1997-08-29</td>\n",
       "      <td>null</td>\n",
       "      <td>1609</td>\n",
       "      <td>Ainsley</td>\n",
       "      <td>right</td>\n",
       "      <td>177</td>\n",
       "      <td>Maitland-Niles</td>\n",
       "      <td></td>\n",
       "      <td>{'name': 'England', 'id': 0, 'alpha3code': 'XE...</td>\n",
       "      <td>{'code2': 'MD', 'code3': 'MID', 'name': 'Midfi...</td>\n",
       "      <td>A. Maitland-Niles</td>\n",
       "      <td>71</td>\n",
       "      <td>279717</td>\n",
       "      <td>Midfielder</td>\n",
       "      <td>92</td>\n",
       "      <td>0.095321</td>\n",
       "    </tr>\n",
       "    <tr>\n",
       "      <th>274</th>\n",
       "      <td>20593</td>\n",
       "      <td>12.284812</td>\n",
       "      <td>{'name': 'Argentina', 'id': 32, 'alpha3code': ...</td>\n",
       "      <td>1991-01-07</td>\n",
       "      <td>12274</td>\n",
       "      <td>1644</td>\n",
       "      <td>Roberto Maximiliano</td>\n",
       "      <td>right</td>\n",
       "      <td>182</td>\n",
       "      <td>Pereyra</td>\n",
       "      <td></td>\n",
       "      <td>{'name': 'Argentina', 'id': 32, 'alpha3code': ...</td>\n",
       "      <td>{'code2': 'MD', 'code3': 'MID', 'name': 'Midfi...</td>\n",
       "      <td>R. Pereyra</td>\n",
       "      <td>77</td>\n",
       "      <td>20593</td>\n",
       "      <td>Midfielder</td>\n",
       "      <td>139</td>\n",
       "      <td>0.088380</td>\n",
       "    </tr>\n",
       "    <tr>\n",
       "      <th>158</th>\n",
       "      <td>8464</td>\n",
       "      <td>12.868876</td>\n",
       "      <td>{'name': 'England', 'id': '0', 'alpha3code': '...</td>\n",
       "      <td>1989-11-21</td>\n",
       "      <td>2413</td>\n",
       "      <td>1625</td>\n",
       "      <td>Fabian</td>\n",
       "      <td>left</td>\n",
       "      <td>174</td>\n",
       "      <td>Delph</td>\n",
       "      <td></td>\n",
       "      <td>{'name': 'Guyana', 'id': '328', 'alpha3code': ...</td>\n",
       "      <td>{'code2': 'MD', 'code3': 'MID', 'name': 'Midfi...</td>\n",
       "      <td>F. Delph</td>\n",
       "      <td>60</td>\n",
       "      <td>8464</td>\n",
       "      <td>Midfielder</td>\n",
       "      <td>151</td>\n",
       "      <td>0.085224</td>\n",
       "    </tr>\n",
       "    <tr>\n",
       "      <th>389</th>\n",
       "      <td>120339</td>\n",
       "      <td>5.071282</td>\n",
       "      <td>{'name': 'Egypt', 'id': '818', 'alpha3code': '...</td>\n",
       "      <td>1992-07-11</td>\n",
       "      <td>16129</td>\n",
       "      <td>1609</td>\n",
       "      <td>Mohamed Naser</td>\n",
       "      <td>right</td>\n",
       "      <td>180</td>\n",
       "      <td>Elsayed Elneny</td>\n",
       "      <td></td>\n",
       "      <td>{'name': 'Egypt', 'id': '818', 'alpha3code': '...</td>\n",
       "      <td>{'code2': 'MD', 'code3': 'MID', 'name': 'Midfi...</td>\n",
       "      <td>Mohamed Elneny</td>\n",
       "      <td>70</td>\n",
       "      <td>120339</td>\n",
       "      <td>Midfielder</td>\n",
       "      <td>71</td>\n",
       "      <td>0.071427</td>\n",
       "    </tr>\n",
       "    <tr>\n",
       "      <th>252</th>\n",
       "      <td>14808</td>\n",
       "      <td>5.441253</td>\n",
       "      <td>{'name': 'Germany', 'id': '276', 'alpha3code':...</td>\n",
       "      <td>1990-10-24</td>\n",
       "      <td>3148</td>\n",
       "      <td>1625</td>\n",
       "      <td>\\u0130lkay</td>\n",
       "      <td>right</td>\n",
       "      <td>180</td>\n",
       "      <td>G\\u00fcndo\\u011fan</td>\n",
       "      <td></td>\n",
       "      <td>{'name': 'Germany', 'id': '276', 'alpha3code':...</td>\n",
       "      <td>{'code2': 'MD', 'code3': 'MID', 'name': 'Midfi...</td>\n",
       "      <td>\\u0130. G\\u00fcndo\\u011fan</td>\n",
       "      <td>80</td>\n",
       "      <td>14808</td>\n",
       "      <td>Midfielder</td>\n",
       "      <td>103</td>\n",
       "      <td>0.052828</td>\n",
       "    </tr>\n",
       "  </tbody>\n",
       "</table>\n",
       "</div>"
      ],
      "text/plain": [
       "     playerId  pass_outcome_vs_xPass  \\\n",
       "444    279717               8.769487   \n",
       "274     20593              12.284812   \n",
       "158      8464              12.868876   \n",
       "389    120339               5.071282   \n",
       "252     14808               5.441253   \n",
       "\n",
       "                                             birthArea   birthDate  \\\n",
       "444  {'name': 'England', 'id': 0, 'alpha3code': 'XE...  1997-08-29   \n",
       "274  {'name': 'Argentina', 'id': 32, 'alpha3code': ...  1991-01-07   \n",
       "158  {'name': 'England', 'id': '0', 'alpha3code': '...  1989-11-21   \n",
       "389  {'name': 'Egypt', 'id': '818', 'alpha3code': '...  1992-07-11   \n",
       "252  {'name': 'Germany', 'id': '276', 'alpha3code':...  1990-10-24   \n",
       "\n",
       "    currentNationalTeamId currentTeamId            firstName   foot  height  \\\n",
       "444                  null          1609              Ainsley  right     177   \n",
       "274                 12274          1644  Roberto Maximiliano  right     182   \n",
       "158                  2413          1625               Fabian   left     174   \n",
       "389                 16129          1609        Mohamed Naser  right     180   \n",
       "252                  3148          1625           \\u0130lkay  right     180   \n",
       "\n",
       "               lastName middleName  \\\n",
       "444      Maitland-Niles              \n",
       "274             Pereyra              \n",
       "158               Delph              \n",
       "389      Elsayed Elneny              \n",
       "252  G\\u00fcndo\\u011fan              \n",
       "\n",
       "                                          passportArea  \\\n",
       "444  {'name': 'England', 'id': 0, 'alpha3code': 'XE...   \n",
       "274  {'name': 'Argentina', 'id': 32, 'alpha3code': ...   \n",
       "158  {'name': 'Guyana', 'id': '328', 'alpha3code': ...   \n",
       "389  {'name': 'Egypt', 'id': '818', 'alpha3code': '...   \n",
       "252  {'name': 'Germany', 'id': '276', 'alpha3code':...   \n",
       "\n",
       "                                                  role  \\\n",
       "444  {'code2': 'MD', 'code3': 'MID', 'name': 'Midfi...   \n",
       "274  {'code2': 'MD', 'code3': 'MID', 'name': 'Midfi...   \n",
       "158  {'code2': 'MD', 'code3': 'MID', 'name': 'Midfi...   \n",
       "389  {'code2': 'MD', 'code3': 'MID', 'name': 'Midfi...   \n",
       "252  {'code2': 'MD', 'code3': 'MID', 'name': 'Midfi...   \n",
       "\n",
       "                      shortName  weight    wyId player_position  \\\n",
       "444           A. Maitland-Niles      71  279717      Midfielder   \n",
       "274                  R. Pereyra      77   20593      Midfielder   \n",
       "158                    F. Delph      60    8464      Midfielder   \n",
       "389              Mohamed Elneny      70  120339      Midfielder   \n",
       "252  \\u0130. G\\u00fcndo\\u011fan      80   14808      Midfielder   \n",
       "\n",
       "     pass_attempt_count  xPass_per_pass  \n",
       "444                  92        0.095321  \n",
       "274                 139        0.088380  \n",
       "158                 151        0.085224  \n",
       "389                  71        0.071427  \n",
       "252                 103        0.052828  "
      ]
     },
     "execution_count": 572,
     "metadata": {},
     "output_type": "execute_result"
    }
   ],
   "source": [
    "best_passers_per_game = (player_data_with_total_xPass['xPass_per_pass'] >= 0) & (player_data_with_total_xPass['pass_attempt_count'] < 250)\n",
    "best_passers_per_game = player_data_with_total_xPass[best_passers_per_game]\n",
    "best_passers_per_game.sort_values(by='xPass_per_pass', ascending=False).head(5)"
   ]
  },
  {
   "cell_type": "code",
   "execution_count": 569,
   "metadata": {},
   "outputs": [
    {
     "data": {
      "image/png": "[encoded data removed]",
      "text/plain": [
       "<matplotlib.figure.Figure at 0x2e36cfe5828>"
      ]
     },
     "metadata": {},
     "output_type": "display_data"
    }
   ],
   "source": [
    "def plot_xpass_per_pass_vs_total_pass_count():\n",
    "    fig, ax = plt.subplots(nrows=1, ncols=1)\n",
    "\n",
    "    ax.set_facecolor('#333333')\n",
    "    fig.set_facecolor('#333333')\n",
    "    ax.spines[\"bottom\"].set_color(\"white\")\n",
    "    ax.spines[\"left\"].set_color(\"white\")\n",
    "    ax.spines['right'].set_visible(False)\n",
    "    ax.spines['top'].set_visible(False)\n",
    "    ax.tick_params(axis='x', colors='white')\n",
    "    ax.tick_params(axis='y', colors='white')\n",
    "    plt.scatter(player_data_with_total_xPass['xPass_per_pass'], player_data_with_total_xPass['pass_attempt_count'],\n",
    "               color='#b1cefc', alpha=0.5)\n",
    "    for player, text_position in [\n",
    "        ['David Silva', (0.12, 400)],\n",
    "        ['R. Mahrez', (0.12, 350)],\n",
    "        ['J. Milner', (0.12, 300)],\n",
    "        ['M. Noble', (0.12, 250)],\n",
    "        ['F. Delph', (0.12, 200)],\n",
    "        ['R. Pereyra', (0.12, 150)],\n",
    "        ['A. Maitland-Niles', (0.12, 100)],\n",
    "        ['Mohamed Elneny', (0.12, 50)]]:\n",
    "        this_player_data = player_data_with_total_xPass[player_data_with_total_xPass['shortName'] == player]\n",
    "        player_xPass_per_game = this_player_data['xPass_per_pass']\n",
    "        player_pass_count = this_player_data['pass_attempt_count']\n",
    "        plt.scatter(player_xPass_per_game, player_pass_count, color='#b1cefc')\n",
    "        plt.annotate(player, (player_xPass_per_game, player_pass_count), \n",
    "                     xytext=text_position, color='white',\n",
    "                     arrowprops=dict(arrowstyle=\"->\", connectionstyle=\"arc3\", color='white'))\n",
    "    plt.vlines(x=0, ymin=0, ymax=600, color='#b1cefc', alpha=0.5)\n",
    "    plt.hlines(y=250, xmin=-0.25, xmax=0.1, color='#b1cefc', alpha=0.5)\n",
    "    plt.title('Midfielders: value added against number of difficult passes attempted',\n",
    "             color='white')\n",
    "    plt.show()\n",
    "\n",
    "plot_xpass_per_pass_vs_total_pass_count()"
   ]
  },
  {
   "cell_type": "code",
   "execution_count": 688,
   "metadata": {},
   "outputs": [],
   "source": [
    "def plot_heatmaps_for_player(player_id, pass_data, player_name):\n",
    "    pass_data_for_player = pass_data[pass_data['playerId'] == player_id_to_plot]\n",
    "\n",
    "    x_start_metres = pass_data_for_player['pass_start_x'] * 105 / 100\n",
    "    y_start_metres = pass_data_for_player['pass_start_y'] * 65 / 100\n",
    "    # All passes\n",
    "    plot_event_heatmap(y_start_metres, x_start_metres, f'Number of passes made by {player_name}',\n",
    "                       no_of_bins=5)\n",
    "    # Completed passes\n",
    "    plot_event_heatmap(y_start_metres[pass_data_for_player['success']], \n",
    "                       x_start_metres[pass_data_for_player['success']], \n",
    "                       'Number of passes successful', no_of_bins=5)\n",
    "    # Failed passes\n",
    "    plot_event_heatmap(y_start_metres[~pass_data_for_player['success']], \n",
    "                       x_start_metres[~pass_data_for_player['success']], \n",
    "                       'Number of passes not successful', no_of_bins=5)\n",
    "    \n",
    "    # Difficult passes\n",
    "    plot_event_heatmap(y_start_metres[pass_data_for_player['xPass'] <= 0.8], \n",
    "                       x_start_metres[pass_data_for_player['xPass'] <= 0.8], \n",
    "                       'Number of difficult passes', no_of_bins=5)\n",
    "\n",
    "    plot_event_heatmap(y_start_metres[pass_data_for_player['xPass'] <= 0.8][pass_data_for_player['success']], \n",
    "                       x_start_metres[pass_data_for_player['xPass'] <= 0.8][pass_data_for_player['success']], \n",
    "                       'Number of difficult successful passes', no_of_bins=5)\n",
    "\n",
    "    plot_event_heatmap(y_start_metres[pass_data_for_player['xPass'] <= 0.8][~pass_data_for_player['success']], \n",
    "                       x_start_metres[pass_data_for_player['xPass'] <= 0.8][~pass_data_for_player['success']], \n",
    "                       'Number of difficult failed passes', no_of_bins=5)"
   ]
  },
  {
   "cell_type": "code",
   "execution_count": 681,
   "metadata": {},
   "outputs": [],
   "source": [
    "def plot_probability_difference_heatmap_for_player(player_id_to_plot, player_name, pass_data,\n",
    "                                                   player_data, position_of_player):\n",
    "\n",
    "    pass_data_for_player = pass_data[pass_data['playerId'] == player_id_to_plot]\n",
    "\n",
    "    x_start_metres = pass_data_for_player['pass_start_x'] * 105 / 100\n",
    "    y_start_metres = pass_data_for_player['pass_start_y'] * 65 / 100\n",
    "\n",
    "    histogram_values_all = np.histogram2d(y_start_metres, x_start_metres, bins=5, range=[[0, 65],[0, 105]])\n",
    "    histogram_values_success = np.histogram2d(y_start_metres[pass_data_for_player['success']], \n",
    "                                              x_start_metres[pass_data_for_player['success']], \n",
    "                                              bins=5, range=[[0, 65],[0, 105]])\n",
    "    histogram_values_probability = histogram_values_success[0] / histogram_values_all[0]\n",
    "    \n",
    "    pass_data_with_player_data = pass_data.merge(player_data, left_on='playerId', right_on='wyId')\n",
    "    pass_data_for_position = pass_data_with_player_data[pass_data_with_player_data['player_position'] == position_of_player]\n",
    "    x_start_metres = pass_data_for_position['pass_start_x'] * 105 / 100\n",
    "    y_start_metres = pass_data_for_position['pass_start_y'] * 65 / 100\n",
    "\n",
    "    all_histogram_values_all = np.histogram2d(y_start_metres, x_start_metres, bins=5, range=[[0, 65],[0, 105]])\n",
    "    all_histogram_values_success = np.histogram2d(y_start_metres[pass_data_for_position['success']], \n",
    "                                                  x_start_metres[pass_data_for_position['success']], \n",
    "                                                  bins=5, range=[[0, 65],[0, 105]])\n",
    "    all_histogram_values_probability = all_histogram_values_success[0] / all_histogram_values_all[0]\n",
    "\n",
    "    difference_in_probability = histogram_values_probability - all_histogram_values_probability\n",
    "    # Remove values where player has fewer than 10 passes, these are not statistically relevant\n",
    "    difference_in_probability = [[p if histogram_values_all[0][c][i] > 10 else 0 for i, p in enumerate(row)] for c, row in enumerate(difference_in_probability)]\n",
    "\n",
    "    fig, ax = FCPython.createPitch(105, 65, 'meters', 'black')\n",
    "    pos=ax.imshow(difference_in_probability, extent=(0, 105, 0, 65), aspect='auto', vmin=-0.3, vmax=0.3, cmap=plt.cm.PRGn)\n",
    "    fig.colorbar(pos, ax=ax)\n",
    "    ax.set_title(f'{player_name} compared to all players')\n",
    "    plt.tight_layout()\n",
    "    plt.gca().set_aspect('equal', adjustable='box')\n",
    "    plt.show()"
   ]
  },
  {
   "cell_type": "code",
   "execution_count": 689,
   "metadata": {},
   "outputs": [
    {
     "data": {
      "image/png": "[encoded data removed]",
      "text/plain": [
       "<matplotlib.figure.Figure at 0x2e3f4e46080>"
      ]
     },
     "metadata": {},
     "output_type": "display_data"
    },
    {
     "data": {
      "image/png": "[encoded data removed]",
      "text/plain": [
       "<matplotlib.figure.Figure at 0x2e4082a2080>"
      ]
     },
     "metadata": {},
     "output_type": "display_data"
    },
    {
     "data": {
      "image/png": "[encoded data removed]",
      "text/plain": [
       "<matplotlib.figure.Figure at 0x2e406f6a908>"
      ]
     },
     "metadata": {},
     "output_type": "display_data"
    },
    {
     "data": {
      "image/png": "[encoded data removed]",
      "text/plain": [
       "<matplotlib.figure.Figure at 0x2e40888a278>"
      ]
     },
     "metadata": {},
     "output_type": "display_data"
    },
    {
     "data": {
      "image/png": "[encoded data removed]",
      "text/plain": [
       "<matplotlib.figure.Figure at 0x2e408771780>"
      ]
     },
     "metadata": {},
     "output_type": "display_data"
    },
    {
     "data": {
      "image/png": "[encoded data removed]",
      "text/plain": [
       "<matplotlib.figure.Figure at 0x2e40888a7f0>"
      ]
     },
     "metadata": {},
     "output_type": "display_data"
    },
    {
     "name": "stderr",
     "output_type": "stream",
     "text": [
      "C:\\ProgramData\\Anaconda3\\lib\\site-packages\\ipykernel_launcher.py:13: RuntimeWarning: invalid value encountered in true_divide\n",
      "  del sys.path[0]\n"
     ]
    },
    {
     "data": {
      "image/png": "[encoded data removed]",
      "text/plain": [
       "<matplotlib.figure.Figure at 0x2e4112bc4a8>"
      ]
     },
     "metadata": {},
     "output_type": "display_data"
    }
   ],
   "source": [
    "player_name_to_plot = 'Mohamed Elneny'\n",
    "player_id_to_plot = 120339\n",
    "plot_heatmaps_for_player(player_id_to_plot, pass_data_for_competition, player_name_to_plot)\n",
    "plot_probability_difference_heatmap_for_player(player_id_to_plot, player_name_to_plot, pass_data_for_competition,\n",
    "                                               player_data, 'Midfielder')"
   ]
  },
  {
   "cell_type": "code",
   "execution_count": null,
   "metadata": {},
   "outputs": [],
   "source": []
  },
  {
   "cell_type": "code",
   "execution_count": null,
   "metadata": {},
   "outputs": [],
   "source": []
  },
  {
   "cell_type": "code",
   "execution_count": null,
   "metadata": {},
   "outputs": [],
   "source": []
  },
  {
   "cell_type": "code",
   "execution_count": null,
   "metadata": {
    "collapsed": true
   },
   "outputs": [],
   "source": []
  },
  {
   "cell_type": "code",
   "execution_count": null,
   "metadata": {},
   "outputs": [],
   "source": []
  },
  {
   "cell_type": "markdown",
   "metadata": {},
   "source": [
    "New features:\n",
    "* Style of play:\n",
    "    * Counter_attacking {1, 0}\n",
    "    * Passing {1, 0}\n",
    "* Game state (ie, draw – team winning – team losing)\n",
    "* Number of red cards"
   ]
  },
  {
   "cell_type": "code",
   "execution_count": 358,
   "metadata": {},
   "outputs": [],
   "source": [
    "# test_df['team1_goals'] = 0\n",
    "# test_df['team2_goals'] = 0\n",
    "\n",
    "# for row in test_df.groupby(['matchId'])['teamId'].unique().reset_index().iterrows():\n",
    "#     match_rows = test_df['matchId'] == row[1]['matchId']\n",
    "#     test_df.loc[match_events, 'team1'] = row[1]['teamId'][0]\n",
    "#     test_df.loc[match_events, 'team2'] = row[1]['teamId'][1]\n",
    "    \n",
    "#     match_events = test_df[match_rows]\n",
    "#     end_match_id = match_events.index.max()\n",
    "#     tags = match_events['tags'].apply(lambda x: [tag['id'] for tag in x])\n",
    "#     goals = (tags.apply(lambda x: True if 101 in x else False)) & (match_events['eventName'] == 'Shot')\n",
    "#     team1_goal = match_events[goals]['teamId'] == match_events[goals]['team1']\n",
    "#     for index in team1_goal.index:\n",
    "#         test_df['team1_goals'].iloc[index:end_match_id] += 1\n",
    "#     team2_goal = match_events[goals]['teamId'] == match_events[goals]['team2']\n",
    "#     for index in team2_goal.index:\n",
    "#         test_df['team2_goals'].iloc[index:end_match_id] += 1\n",
    "\n",
    "# test_df['team1'] = test_df['team1'].astype(int)\n",
    "# test_df['team2'] = test_df['team2'].astype(int)"
   ]
  },
  {
   "cell_type": "code",
   "execution_count": 359,
   "metadata": {},
   "outputs": [],
   "source": [
    "# first_match = event_data[event_data['matchId'] == 2499719]\n",
    "# first_match_shots = first_match[first_match['eventName'] == 'Shot']\n",
    "# first_match_goals = first_match_shots[first_match_shots['tags'].apply(lambda x: [tag['id'] for tag in x]).apply(lambda x: True if 101 in x else False)]\n",
    "# first_match_goals"
   ]
  }
 ],
 "metadata": {
  "kernelspec": {
   "display_name": "Python 3",
   "language": "python",
   "name": "python3"
  },
  "language_info": {
   "codemirror_mode": {
    "name": "ipython",
    "version": 3
   },
   "file_extension": ".py",
   "mimetype": "text/x-python",
   "name": "python",
   "nbconvert_exporter": "python",
   "pygments_lexer": "ipython3",
   "version": "3.6.2"
  }
 },
 "nbformat": 4,
 "nbformat_minor": 2
}
